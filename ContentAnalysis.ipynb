{
  "nbformat": 4,
  "nbformat_minor": 0,
  "metadata": {
    "colab": {
      "provenance": []
    },
    "kernelspec": {
      "name": "python3",
      "display_name": "Python 3"
    },
    "language_info": {
      "name": "python"
    }
  },
  "cells": [
    {
      "cell_type": "code",
      "execution_count": null,
      "metadata": {
        "colab": {
          "base_uri": "https://localhost:8080/"
        },
        "id": "MhdVijQYB7f3",
        "outputId": "44df3b08-11fd-4240-ac9f-d635b9d5d0ac"
      },
      "outputs": [
        {
          "output_type": "stream",
          "name": "stdout",
          "text": [
            "Looking in indexes: https://pypi.org/simple, https://us-python.pkg.dev/colab-wheels/public/simple/\n",
            "Requirement already satisfied: Mastodon.py in /usr/local/lib/python3.10/dist-packages (1.8.1)\n",
            "Requirement already satisfied: python-magic in /usr/local/lib/python3.10/dist-packages (from Mastodon.py) (0.4.27)\n",
            "Requirement already satisfied: python-dateutil in /usr/local/lib/python3.10/dist-packages (from Mastodon.py) (2.8.2)\n",
            "Requirement already satisfied: blurhash>=1.1.4 in /usr/local/lib/python3.10/dist-packages (from Mastodon.py) (1.1.4)\n",
            "Requirement already satisfied: decorator>=4.0.0 in /usr/local/lib/python3.10/dist-packages (from Mastodon.py) (4.4.2)\n",
            "Requirement already satisfied: six in /usr/local/lib/python3.10/dist-packages (from Mastodon.py) (1.16.0)\n",
            "Requirement already satisfied: requests>=2.4.2 in /usr/local/lib/python3.10/dist-packages (from Mastodon.py) (2.27.1)\n",
            "Requirement already satisfied: certifi>=2017.4.17 in /usr/local/lib/python3.10/dist-packages (from requests>=2.4.2->Mastodon.py) (2022.12.7)\n",
            "Requirement already satisfied: idna<4,>=2.5 in /usr/local/lib/python3.10/dist-packages (from requests>=2.4.2->Mastodon.py) (3.4)\n",
            "Requirement already satisfied: urllib3<1.27,>=1.21.1 in /usr/local/lib/python3.10/dist-packages (from requests>=2.4.2->Mastodon.py) (1.26.15)\n",
            "Requirement already satisfied: charset-normalizer~=2.0.0 in /usr/local/lib/python3.10/dist-packages (from requests>=2.4.2->Mastodon.py) (2.0.12)\n"
          ]
        }
      ],
      "source": [
        "!pip install Mastodon.py"
      ]
    },
    {
      "cell_type": "code",
      "source": [
        "import mastodon \n",
        "from mastodon import Mastodon \n",
        "import numpy as np \n",
        "import os \n",
        "import pandas as pd \n",
        "from matplotlib import pyplot as plt \n",
        "import networkx as nx"
      ],
      "metadata": {
        "id": "9Vw_7WlDCNrl"
      },
      "execution_count": null,
      "outputs": []
    },
    {
      "cell_type": "code",
      "source": [
        "m= Mastodon(access_token = \t'eTunZVjjC8_2N3bkcF0OMOYgPfqEOHzdg3UJ7msQjnA',\n",
        "    api_base_url = 'https://mastodon.social')"
      ],
      "metadata": {
        "id": "VBIVpNM0CRnY"
      },
      "execution_count": null,
      "outputs": []
    },
    {
      "cell_type": "code",
      "source": [
        "# Set date for trending tags search\n",
        "import datetime\n",
        "\n",
        "from time import sleep \n",
        "hashtag_data = []\n",
        "for i in range(100): \n",
        "  hashtag_data.append(m.trending_tags())\n",
        "  sleep(20)\n",
        "  print(f\"{i} iteration done!\")\n",
        "\n"
      ],
      "metadata": {
        "colab": {
          "base_uri": "https://localhost:8080/",
          "height": 918
        },
        "id": "ajvCbheDfSRT",
        "outputId": "a991e1bd-5eb7-4209-cfa0-f66801550e3d"
      },
      "execution_count": null,
      "outputs": [
        {
          "output_type": "stream",
          "name": "stdout",
          "text": [
            "0 iteration done!\n",
            "1 iteration done!\n",
            "2 iteration done!\n",
            "3 iteration done!\n",
            "4 iteration done!\n",
            "5 iteration done!\n",
            "6 iteration done!\n",
            "7 iteration done!\n",
            "8 iteration done!\n",
            "9 iteration done!\n",
            "10 iteration done!\n",
            "11 iteration done!\n",
            "12 iteration done!\n",
            "13 iteration done!\n"
          ]
        },
        {
          "output_type": "error",
          "ename": "MastodonNetworkError",
          "evalue": "ignored",
          "traceback": [
            "\u001b[0;31m---------------------------------------------------------------------------\u001b[0m",
            "\u001b[0;31mRemoteDisconnected\u001b[0m                        Traceback (most recent call last)",
            "\u001b[0;32m/usr/local/lib/python3.10/dist-packages/urllib3/connectionpool.py\u001b[0m in \u001b[0;36murlopen\u001b[0;34m(self, method, url, body, headers, retries, redirect, assert_same_host, timeout, pool_timeout, release_conn, chunked, body_pos, **response_kw)\u001b[0m\n\u001b[1;32m    702\u001b[0m             \u001b[0;31m# Make the request on the httplib connection object.\u001b[0m\u001b[0;34m\u001b[0m\u001b[0;34m\u001b[0m\u001b[0m\n\u001b[0;32m--> 703\u001b[0;31m             httplib_response = self._make_request(\n\u001b[0m\u001b[1;32m    704\u001b[0m                 \u001b[0mconn\u001b[0m\u001b[0;34m,\u001b[0m\u001b[0;34m\u001b[0m\u001b[0;34m\u001b[0m\u001b[0m\n",
            "\u001b[0;32m/usr/local/lib/python3.10/dist-packages/urllib3/connectionpool.py\u001b[0m in \u001b[0;36m_make_request\u001b[0;34m(self, conn, method, url, timeout, chunked, **httplib_request_kw)\u001b[0m\n\u001b[1;32m    448\u001b[0m                     \u001b[0;31m# Otherwise it looks like a bug in the code.\u001b[0m\u001b[0;34m\u001b[0m\u001b[0;34m\u001b[0m\u001b[0m\n\u001b[0;32m--> 449\u001b[0;31m                     \u001b[0msix\u001b[0m\u001b[0;34m.\u001b[0m\u001b[0mraise_from\u001b[0m\u001b[0;34m(\u001b[0m\u001b[0me\u001b[0m\u001b[0;34m,\u001b[0m \u001b[0;32mNone\u001b[0m\u001b[0;34m)\u001b[0m\u001b[0;34m\u001b[0m\u001b[0;34m\u001b[0m\u001b[0m\n\u001b[0m\u001b[1;32m    450\u001b[0m         \u001b[0;32mexcept\u001b[0m \u001b[0;34m(\u001b[0m\u001b[0mSocketTimeout\u001b[0m\u001b[0;34m,\u001b[0m \u001b[0mBaseSSLError\u001b[0m\u001b[0;34m,\u001b[0m \u001b[0mSocketError\u001b[0m\u001b[0;34m)\u001b[0m \u001b[0;32mas\u001b[0m \u001b[0me\u001b[0m\u001b[0;34m:\u001b[0m\u001b[0;34m\u001b[0m\u001b[0;34m\u001b[0m\u001b[0m\n",
            "\u001b[0;32m/usr/local/lib/python3.10/dist-packages/urllib3/packages/six.py\u001b[0m in \u001b[0;36mraise_from\u001b[0;34m(value, from_value)\u001b[0m\n",
            "\u001b[0;32m/usr/local/lib/python3.10/dist-packages/urllib3/connectionpool.py\u001b[0m in \u001b[0;36m_make_request\u001b[0;34m(self, conn, method, url, timeout, chunked, **httplib_request_kw)\u001b[0m\n\u001b[1;32m    443\u001b[0m                 \u001b[0;32mtry\u001b[0m\u001b[0;34m:\u001b[0m\u001b[0;34m\u001b[0m\u001b[0;34m\u001b[0m\u001b[0m\n\u001b[0;32m--> 444\u001b[0;31m                     \u001b[0mhttplib_response\u001b[0m \u001b[0;34m=\u001b[0m \u001b[0mconn\u001b[0m\u001b[0;34m.\u001b[0m\u001b[0mgetresponse\u001b[0m\u001b[0;34m(\u001b[0m\u001b[0;34m)\u001b[0m\u001b[0;34m\u001b[0m\u001b[0;34m\u001b[0m\u001b[0m\n\u001b[0m\u001b[1;32m    445\u001b[0m                 \u001b[0;32mexcept\u001b[0m \u001b[0mBaseException\u001b[0m \u001b[0;32mas\u001b[0m \u001b[0me\u001b[0m\u001b[0;34m:\u001b[0m\u001b[0;34m\u001b[0m\u001b[0;34m\u001b[0m\u001b[0m\n",
            "\u001b[0;32m/usr/lib/python3.10/http/client.py\u001b[0m in \u001b[0;36mgetresponse\u001b[0;34m(self)\u001b[0m\n\u001b[1;32m   1374\u001b[0m             \u001b[0;32mtry\u001b[0m\u001b[0;34m:\u001b[0m\u001b[0;34m\u001b[0m\u001b[0;34m\u001b[0m\u001b[0m\n\u001b[0;32m-> 1375\u001b[0;31m                 \u001b[0mresponse\u001b[0m\u001b[0;34m.\u001b[0m\u001b[0mbegin\u001b[0m\u001b[0;34m(\u001b[0m\u001b[0;34m)\u001b[0m\u001b[0;34m\u001b[0m\u001b[0;34m\u001b[0m\u001b[0m\n\u001b[0m\u001b[1;32m   1376\u001b[0m             \u001b[0;32mexcept\u001b[0m \u001b[0mConnectionError\u001b[0m\u001b[0;34m:\u001b[0m\u001b[0;34m\u001b[0m\u001b[0;34m\u001b[0m\u001b[0m\n",
            "\u001b[0;32m/usr/lib/python3.10/http/client.py\u001b[0m in \u001b[0;36mbegin\u001b[0;34m(self)\u001b[0m\n\u001b[1;32m    317\u001b[0m         \u001b[0;32mwhile\u001b[0m \u001b[0;32mTrue\u001b[0m\u001b[0;34m:\u001b[0m\u001b[0;34m\u001b[0m\u001b[0;34m\u001b[0m\u001b[0m\n\u001b[0;32m--> 318\u001b[0;31m             \u001b[0mversion\u001b[0m\u001b[0;34m,\u001b[0m \u001b[0mstatus\u001b[0m\u001b[0;34m,\u001b[0m \u001b[0mreason\u001b[0m \u001b[0;34m=\u001b[0m \u001b[0mself\u001b[0m\u001b[0;34m.\u001b[0m\u001b[0m_read_status\u001b[0m\u001b[0;34m(\u001b[0m\u001b[0;34m)\u001b[0m\u001b[0;34m\u001b[0m\u001b[0;34m\u001b[0m\u001b[0m\n\u001b[0m\u001b[1;32m    319\u001b[0m             \u001b[0;32mif\u001b[0m \u001b[0mstatus\u001b[0m \u001b[0;34m!=\u001b[0m \u001b[0mCONTINUE\u001b[0m\u001b[0;34m:\u001b[0m\u001b[0;34m\u001b[0m\u001b[0;34m\u001b[0m\u001b[0m\n",
            "\u001b[0;32m/usr/lib/python3.10/http/client.py\u001b[0m in \u001b[0;36m_read_status\u001b[0;34m(self)\u001b[0m\n\u001b[1;32m    286\u001b[0m             \u001b[0;31m# sending a valid response.\u001b[0m\u001b[0;34m\u001b[0m\u001b[0;34m\u001b[0m\u001b[0m\n\u001b[0;32m--> 287\u001b[0;31m             raise RemoteDisconnected(\"Remote end closed connection without\"\n\u001b[0m\u001b[1;32m    288\u001b[0m                                      \" response\")\n",
            "\u001b[0;31mRemoteDisconnected\u001b[0m: Remote end closed connection without response",
            "\nDuring handling of the above exception, another exception occurred:\n",
            "\u001b[0;31mProtocolError\u001b[0m                             Traceback (most recent call last)",
            "\u001b[0;32m/usr/local/lib/python3.10/dist-packages/requests/adapters.py\u001b[0m in \u001b[0;36msend\u001b[0;34m(self, request, stream, timeout, verify, cert, proxies)\u001b[0m\n\u001b[1;32m    439\u001b[0m             \u001b[0;32mif\u001b[0m \u001b[0;32mnot\u001b[0m \u001b[0mchunked\u001b[0m\u001b[0;34m:\u001b[0m\u001b[0;34m\u001b[0m\u001b[0;34m\u001b[0m\u001b[0m\n\u001b[0;32m--> 440\u001b[0;31m                 resp = conn.urlopen(\n\u001b[0m\u001b[1;32m    441\u001b[0m                     \u001b[0mmethod\u001b[0m\u001b[0;34m=\u001b[0m\u001b[0mrequest\u001b[0m\u001b[0;34m.\u001b[0m\u001b[0mmethod\u001b[0m\u001b[0;34m,\u001b[0m\u001b[0;34m\u001b[0m\u001b[0;34m\u001b[0m\u001b[0m\n",
            "\u001b[0;32m/usr/local/lib/python3.10/dist-packages/urllib3/connectionpool.py\u001b[0m in \u001b[0;36murlopen\u001b[0;34m(self, method, url, body, headers, retries, redirect, assert_same_host, timeout, pool_timeout, release_conn, chunked, body_pos, **response_kw)\u001b[0m\n\u001b[1;32m    786\u001b[0m \u001b[0;34m\u001b[0m\u001b[0m\n\u001b[0;32m--> 787\u001b[0;31m             retries = retries.increment(\n\u001b[0m\u001b[1;32m    788\u001b[0m                 \u001b[0mmethod\u001b[0m\u001b[0;34m,\u001b[0m \u001b[0murl\u001b[0m\u001b[0;34m,\u001b[0m \u001b[0merror\u001b[0m\u001b[0;34m=\u001b[0m\u001b[0me\u001b[0m\u001b[0;34m,\u001b[0m \u001b[0m_pool\u001b[0m\u001b[0;34m=\u001b[0m\u001b[0mself\u001b[0m\u001b[0;34m,\u001b[0m \u001b[0m_stacktrace\u001b[0m\u001b[0;34m=\u001b[0m\u001b[0msys\u001b[0m\u001b[0;34m.\u001b[0m\u001b[0mexc_info\u001b[0m\u001b[0;34m(\u001b[0m\u001b[0;34m)\u001b[0m\u001b[0;34m[\u001b[0m\u001b[0;36m2\u001b[0m\u001b[0;34m]\u001b[0m\u001b[0;34m\u001b[0m\u001b[0;34m\u001b[0m\u001b[0m\n",
            "\u001b[0;32m/usr/local/lib/python3.10/dist-packages/urllib3/util/retry.py\u001b[0m in \u001b[0;36mincrement\u001b[0;34m(self, method, url, response, error, _pool, _stacktrace)\u001b[0m\n\u001b[1;32m    549\u001b[0m             \u001b[0;32mif\u001b[0m \u001b[0mread\u001b[0m \u001b[0;32mis\u001b[0m \u001b[0;32mFalse\u001b[0m \u001b[0;32mor\u001b[0m \u001b[0;32mnot\u001b[0m \u001b[0mself\u001b[0m\u001b[0;34m.\u001b[0m\u001b[0m_is_method_retryable\u001b[0m\u001b[0;34m(\u001b[0m\u001b[0mmethod\u001b[0m\u001b[0;34m)\u001b[0m\u001b[0;34m:\u001b[0m\u001b[0;34m\u001b[0m\u001b[0;34m\u001b[0m\u001b[0m\n\u001b[0;32m--> 550\u001b[0;31m                 \u001b[0;32mraise\u001b[0m \u001b[0msix\u001b[0m\u001b[0;34m.\u001b[0m\u001b[0mreraise\u001b[0m\u001b[0;34m(\u001b[0m\u001b[0mtype\u001b[0m\u001b[0;34m(\u001b[0m\u001b[0merror\u001b[0m\u001b[0;34m)\u001b[0m\u001b[0;34m,\u001b[0m \u001b[0merror\u001b[0m\u001b[0;34m,\u001b[0m \u001b[0m_stacktrace\u001b[0m\u001b[0;34m)\u001b[0m\u001b[0;34m\u001b[0m\u001b[0;34m\u001b[0m\u001b[0m\n\u001b[0m\u001b[1;32m    551\u001b[0m             \u001b[0;32melif\u001b[0m \u001b[0mread\u001b[0m \u001b[0;32mis\u001b[0m \u001b[0;32mnot\u001b[0m \u001b[0;32mNone\u001b[0m\u001b[0;34m:\u001b[0m\u001b[0;34m\u001b[0m\u001b[0;34m\u001b[0m\u001b[0m\n",
            "\u001b[0;32m/usr/local/lib/python3.10/dist-packages/urllib3/packages/six.py\u001b[0m in \u001b[0;36mreraise\u001b[0;34m(tp, value, tb)\u001b[0m\n\u001b[1;32m    768\u001b[0m             \u001b[0;32mif\u001b[0m \u001b[0mvalue\u001b[0m\u001b[0;34m.\u001b[0m\u001b[0m__traceback__\u001b[0m \u001b[0;32mis\u001b[0m \u001b[0;32mnot\u001b[0m \u001b[0mtb\u001b[0m\u001b[0;34m:\u001b[0m\u001b[0;34m\u001b[0m\u001b[0;34m\u001b[0m\u001b[0m\n\u001b[0;32m--> 769\u001b[0;31m                 \u001b[0;32mraise\u001b[0m \u001b[0mvalue\u001b[0m\u001b[0;34m.\u001b[0m\u001b[0mwith_traceback\u001b[0m\u001b[0;34m(\u001b[0m\u001b[0mtb\u001b[0m\u001b[0;34m)\u001b[0m\u001b[0;34m\u001b[0m\u001b[0;34m\u001b[0m\u001b[0m\n\u001b[0m\u001b[1;32m    770\u001b[0m             \u001b[0;32mraise\u001b[0m \u001b[0mvalue\u001b[0m\u001b[0;34m\u001b[0m\u001b[0;34m\u001b[0m\u001b[0m\n",
            "\u001b[0;32m/usr/local/lib/python3.10/dist-packages/urllib3/connectionpool.py\u001b[0m in \u001b[0;36murlopen\u001b[0;34m(self, method, url, body, headers, retries, redirect, assert_same_host, timeout, pool_timeout, release_conn, chunked, body_pos, **response_kw)\u001b[0m\n\u001b[1;32m    702\u001b[0m             \u001b[0;31m# Make the request on the httplib connection object.\u001b[0m\u001b[0;34m\u001b[0m\u001b[0;34m\u001b[0m\u001b[0m\n\u001b[0;32m--> 703\u001b[0;31m             httplib_response = self._make_request(\n\u001b[0m\u001b[1;32m    704\u001b[0m                 \u001b[0mconn\u001b[0m\u001b[0;34m,\u001b[0m\u001b[0;34m\u001b[0m\u001b[0;34m\u001b[0m\u001b[0m\n",
            "\u001b[0;32m/usr/local/lib/python3.10/dist-packages/urllib3/connectionpool.py\u001b[0m in \u001b[0;36m_make_request\u001b[0;34m(self, conn, method, url, timeout, chunked, **httplib_request_kw)\u001b[0m\n\u001b[1;32m    448\u001b[0m                     \u001b[0;31m# Otherwise it looks like a bug in the code.\u001b[0m\u001b[0;34m\u001b[0m\u001b[0;34m\u001b[0m\u001b[0m\n\u001b[0;32m--> 449\u001b[0;31m                     \u001b[0msix\u001b[0m\u001b[0;34m.\u001b[0m\u001b[0mraise_from\u001b[0m\u001b[0;34m(\u001b[0m\u001b[0me\u001b[0m\u001b[0;34m,\u001b[0m \u001b[0;32mNone\u001b[0m\u001b[0;34m)\u001b[0m\u001b[0;34m\u001b[0m\u001b[0;34m\u001b[0m\u001b[0m\n\u001b[0m\u001b[1;32m    450\u001b[0m         \u001b[0;32mexcept\u001b[0m \u001b[0;34m(\u001b[0m\u001b[0mSocketTimeout\u001b[0m\u001b[0;34m,\u001b[0m \u001b[0mBaseSSLError\u001b[0m\u001b[0;34m,\u001b[0m \u001b[0mSocketError\u001b[0m\u001b[0;34m)\u001b[0m \u001b[0;32mas\u001b[0m \u001b[0me\u001b[0m\u001b[0;34m:\u001b[0m\u001b[0;34m\u001b[0m\u001b[0;34m\u001b[0m\u001b[0m\n",
            "\u001b[0;32m/usr/local/lib/python3.10/dist-packages/urllib3/packages/six.py\u001b[0m in \u001b[0;36mraise_from\u001b[0;34m(value, from_value)\u001b[0m\n",
            "\u001b[0;32m/usr/local/lib/python3.10/dist-packages/urllib3/connectionpool.py\u001b[0m in \u001b[0;36m_make_request\u001b[0;34m(self, conn, method, url, timeout, chunked, **httplib_request_kw)\u001b[0m\n\u001b[1;32m    443\u001b[0m                 \u001b[0;32mtry\u001b[0m\u001b[0;34m:\u001b[0m\u001b[0;34m\u001b[0m\u001b[0;34m\u001b[0m\u001b[0m\n\u001b[0;32m--> 444\u001b[0;31m                     \u001b[0mhttplib_response\u001b[0m \u001b[0;34m=\u001b[0m \u001b[0mconn\u001b[0m\u001b[0;34m.\u001b[0m\u001b[0mgetresponse\u001b[0m\u001b[0;34m(\u001b[0m\u001b[0;34m)\u001b[0m\u001b[0;34m\u001b[0m\u001b[0;34m\u001b[0m\u001b[0m\n\u001b[0m\u001b[1;32m    445\u001b[0m                 \u001b[0;32mexcept\u001b[0m \u001b[0mBaseException\u001b[0m \u001b[0;32mas\u001b[0m \u001b[0me\u001b[0m\u001b[0;34m:\u001b[0m\u001b[0;34m\u001b[0m\u001b[0;34m\u001b[0m\u001b[0m\n",
            "\u001b[0;32m/usr/lib/python3.10/http/client.py\u001b[0m in \u001b[0;36mgetresponse\u001b[0;34m(self)\u001b[0m\n\u001b[1;32m   1374\u001b[0m             \u001b[0;32mtry\u001b[0m\u001b[0;34m:\u001b[0m\u001b[0;34m\u001b[0m\u001b[0;34m\u001b[0m\u001b[0m\n\u001b[0;32m-> 1375\u001b[0;31m                 \u001b[0mresponse\u001b[0m\u001b[0;34m.\u001b[0m\u001b[0mbegin\u001b[0m\u001b[0;34m(\u001b[0m\u001b[0;34m)\u001b[0m\u001b[0;34m\u001b[0m\u001b[0;34m\u001b[0m\u001b[0m\n\u001b[0m\u001b[1;32m   1376\u001b[0m             \u001b[0;32mexcept\u001b[0m \u001b[0mConnectionError\u001b[0m\u001b[0;34m:\u001b[0m\u001b[0;34m\u001b[0m\u001b[0;34m\u001b[0m\u001b[0m\n",
            "\u001b[0;32m/usr/lib/python3.10/http/client.py\u001b[0m in \u001b[0;36mbegin\u001b[0;34m(self)\u001b[0m\n\u001b[1;32m    317\u001b[0m         \u001b[0;32mwhile\u001b[0m \u001b[0;32mTrue\u001b[0m\u001b[0;34m:\u001b[0m\u001b[0;34m\u001b[0m\u001b[0;34m\u001b[0m\u001b[0m\n\u001b[0;32m--> 318\u001b[0;31m             \u001b[0mversion\u001b[0m\u001b[0;34m,\u001b[0m \u001b[0mstatus\u001b[0m\u001b[0;34m,\u001b[0m \u001b[0mreason\u001b[0m \u001b[0;34m=\u001b[0m \u001b[0mself\u001b[0m\u001b[0;34m.\u001b[0m\u001b[0m_read_status\u001b[0m\u001b[0;34m(\u001b[0m\u001b[0;34m)\u001b[0m\u001b[0;34m\u001b[0m\u001b[0;34m\u001b[0m\u001b[0m\n\u001b[0m\u001b[1;32m    319\u001b[0m             \u001b[0;32mif\u001b[0m \u001b[0mstatus\u001b[0m \u001b[0;34m!=\u001b[0m \u001b[0mCONTINUE\u001b[0m\u001b[0;34m:\u001b[0m\u001b[0;34m\u001b[0m\u001b[0;34m\u001b[0m\u001b[0m\n",
            "\u001b[0;32m/usr/lib/python3.10/http/client.py\u001b[0m in \u001b[0;36m_read_status\u001b[0;34m(self)\u001b[0m\n\u001b[1;32m    286\u001b[0m             \u001b[0;31m# sending a valid response.\u001b[0m\u001b[0;34m\u001b[0m\u001b[0;34m\u001b[0m\u001b[0m\n\u001b[0;32m--> 287\u001b[0;31m             raise RemoteDisconnected(\"Remote end closed connection without\"\n\u001b[0m\u001b[1;32m    288\u001b[0m                                      \" response\")\n",
            "\u001b[0;31mProtocolError\u001b[0m: ('Connection aborted.', RemoteDisconnected('Remote end closed connection without response'))",
            "\nDuring handling of the above exception, another exception occurred:\n",
            "\u001b[0;31mConnectionError\u001b[0m                           Traceback (most recent call last)",
            "\u001b[0;32m/usr/local/lib/python3.10/dist-packages/mastodon/internals.py\u001b[0m in \u001b[0;36m__api_request\u001b[0;34m(self, method, endpoint, params, files, headers, access_token_override, base_url_override, do_ratelimiting, use_json, parse, return_response_object, skip_error_check, lang_override)\u001b[0m\n\u001b[1;32m    204\u001b[0m \u001b[0;34m\u001b[0m\u001b[0m\n\u001b[0;32m--> 205\u001b[0;31m                 \u001b[0mresponse_object\u001b[0m \u001b[0;34m=\u001b[0m \u001b[0mself\u001b[0m\u001b[0;34m.\u001b[0m\u001b[0msession\u001b[0m\u001b[0;34m.\u001b[0m\u001b[0mrequest\u001b[0m\u001b[0;34m(\u001b[0m\u001b[0mmethod\u001b[0m\u001b[0;34m,\u001b[0m \u001b[0mbase_url\u001b[0m \u001b[0;34m+\u001b[0m \u001b[0mendpoint\u001b[0m\u001b[0;34m,\u001b[0m \u001b[0;34m**\u001b[0m\u001b[0mkwargs\u001b[0m\u001b[0;34m)\u001b[0m\u001b[0;34m\u001b[0m\u001b[0;34m\u001b[0m\u001b[0m\n\u001b[0m\u001b[1;32m    206\u001b[0m             \u001b[0;32mexcept\u001b[0m \u001b[0mException\u001b[0m \u001b[0;32mas\u001b[0m \u001b[0me\u001b[0m\u001b[0;34m:\u001b[0m\u001b[0;34m\u001b[0m\u001b[0;34m\u001b[0m\u001b[0m\n",
            "\u001b[0;32m/usr/local/lib/python3.10/dist-packages/requests/sessions.py\u001b[0m in \u001b[0;36mrequest\u001b[0;34m(self, method, url, params, data, headers, cookies, files, auth, timeout, allow_redirects, proxies, hooks, stream, verify, cert, json)\u001b[0m\n\u001b[1;32m    528\u001b[0m         \u001b[0msend_kwargs\u001b[0m\u001b[0;34m.\u001b[0m\u001b[0mupdate\u001b[0m\u001b[0;34m(\u001b[0m\u001b[0msettings\u001b[0m\u001b[0;34m)\u001b[0m\u001b[0;34m\u001b[0m\u001b[0;34m\u001b[0m\u001b[0m\n\u001b[0;32m--> 529\u001b[0;31m         \u001b[0mresp\u001b[0m \u001b[0;34m=\u001b[0m \u001b[0mself\u001b[0m\u001b[0;34m.\u001b[0m\u001b[0msend\u001b[0m\u001b[0;34m(\u001b[0m\u001b[0mprep\u001b[0m\u001b[0;34m,\u001b[0m \u001b[0;34m**\u001b[0m\u001b[0msend_kwargs\u001b[0m\u001b[0;34m)\u001b[0m\u001b[0;34m\u001b[0m\u001b[0;34m\u001b[0m\u001b[0m\n\u001b[0m\u001b[1;32m    530\u001b[0m \u001b[0;34m\u001b[0m\u001b[0m\n",
            "\u001b[0;32m/usr/local/lib/python3.10/dist-packages/requests/sessions.py\u001b[0m in \u001b[0;36msend\u001b[0;34m(self, request, **kwargs)\u001b[0m\n\u001b[1;32m    644\u001b[0m         \u001b[0;31m# Send the request\u001b[0m\u001b[0;34m\u001b[0m\u001b[0;34m\u001b[0m\u001b[0m\n\u001b[0;32m--> 645\u001b[0;31m         \u001b[0mr\u001b[0m \u001b[0;34m=\u001b[0m \u001b[0madapter\u001b[0m\u001b[0;34m.\u001b[0m\u001b[0msend\u001b[0m\u001b[0;34m(\u001b[0m\u001b[0mrequest\u001b[0m\u001b[0;34m,\u001b[0m \u001b[0;34m**\u001b[0m\u001b[0mkwargs\u001b[0m\u001b[0;34m)\u001b[0m\u001b[0;34m\u001b[0m\u001b[0;34m\u001b[0m\u001b[0m\n\u001b[0m\u001b[1;32m    646\u001b[0m \u001b[0;34m\u001b[0m\u001b[0m\n",
            "\u001b[0;32m/usr/local/lib/python3.10/dist-packages/requests/adapters.py\u001b[0m in \u001b[0;36msend\u001b[0;34m(self, request, stream, timeout, verify, cert, proxies)\u001b[0m\n\u001b[1;32m    500\u001b[0m         \u001b[0;32mexcept\u001b[0m \u001b[0;34m(\u001b[0m\u001b[0mProtocolError\u001b[0m\u001b[0;34m,\u001b[0m \u001b[0msocket\u001b[0m\u001b[0;34m.\u001b[0m\u001b[0merror\u001b[0m\u001b[0;34m)\u001b[0m \u001b[0;32mas\u001b[0m \u001b[0merr\u001b[0m\u001b[0;34m:\u001b[0m\u001b[0;34m\u001b[0m\u001b[0;34m\u001b[0m\u001b[0m\n\u001b[0;32m--> 501\u001b[0;31m             \u001b[0;32mraise\u001b[0m \u001b[0mConnectionError\u001b[0m\u001b[0;34m(\u001b[0m\u001b[0merr\u001b[0m\u001b[0;34m,\u001b[0m \u001b[0mrequest\u001b[0m\u001b[0;34m=\u001b[0m\u001b[0mrequest\u001b[0m\u001b[0;34m)\u001b[0m\u001b[0;34m\u001b[0m\u001b[0;34m\u001b[0m\u001b[0m\n\u001b[0m\u001b[1;32m    502\u001b[0m \u001b[0;34m\u001b[0m\u001b[0m\n",
            "\u001b[0;31mConnectionError\u001b[0m: ('Connection aborted.', RemoteDisconnected('Remote end closed connection without response'))",
            "\nDuring handling of the above exception, another exception occurred:\n",
            "\u001b[0;31mMastodonNetworkError\u001b[0m                      Traceback (most recent call last)",
            "\u001b[0;32m<ipython-input-85-79bfb7b0bd29>\u001b[0m in \u001b[0;36m<cell line: 6>\u001b[0;34m()\u001b[0m\n\u001b[1;32m      5\u001b[0m \u001b[0mhashtag_data\u001b[0m \u001b[0;34m=\u001b[0m \u001b[0;34m[\u001b[0m\u001b[0;34m]\u001b[0m\u001b[0;34m\u001b[0m\u001b[0;34m\u001b[0m\u001b[0m\n\u001b[1;32m      6\u001b[0m \u001b[0;32mfor\u001b[0m \u001b[0mi\u001b[0m \u001b[0;32min\u001b[0m \u001b[0mrange\u001b[0m\u001b[0;34m(\u001b[0m\u001b[0;36m100\u001b[0m\u001b[0;34m)\u001b[0m\u001b[0;34m:\u001b[0m\u001b[0;34m\u001b[0m\u001b[0;34m\u001b[0m\u001b[0m\n\u001b[0;32m----> 7\u001b[0;31m   \u001b[0mhashtag_data\u001b[0m\u001b[0;34m.\u001b[0m\u001b[0mappend\u001b[0m\u001b[0;34m(\u001b[0m\u001b[0mm\u001b[0m\u001b[0;34m.\u001b[0m\u001b[0mtrending_tags\u001b[0m\u001b[0;34m(\u001b[0m\u001b[0;34m)\u001b[0m\u001b[0;34m)\u001b[0m\u001b[0;34m\u001b[0m\u001b[0;34m\u001b[0m\u001b[0m\n\u001b[0m\u001b[1;32m      8\u001b[0m   \u001b[0msleep\u001b[0m\u001b[0;34m(\u001b[0m\u001b[0;36m20\u001b[0m\u001b[0;34m)\u001b[0m\u001b[0;34m\u001b[0m\u001b[0;34m\u001b[0m\u001b[0m\n\u001b[1;32m      9\u001b[0m   \u001b[0mprint\u001b[0m\u001b[0;34m(\u001b[0m\u001b[0;34mf\"{i} iteration done!\"\u001b[0m\u001b[0;34m)\u001b[0m\u001b[0;34m\u001b[0m\u001b[0;34m\u001b[0m\u001b[0m\n",
            "\u001b[0;32m<decorator-gen-228>\u001b[0m in \u001b[0;36mtrending_tags\u001b[0;34m(self, limit, lang)\u001b[0m\n",
            "\u001b[0;32m/usr/local/lib/python3.10/dist-packages/mastodon/utility.py\u001b[0m in \u001b[0;36mwrapper\u001b[0;34m(function, self, *args, **kwargs)\u001b[0m\n\u001b[1;32m     47\u001b[0m                 \u001b[0;32melif\u001b[0m \u001b[0mmajor\u001b[0m \u001b[0;34m==\u001b[0m \u001b[0mself\u001b[0m\u001b[0;34m.\u001b[0m\u001b[0mmastodon_major\u001b[0m \u001b[0;32mand\u001b[0m \u001b[0mminor\u001b[0m \u001b[0;34m==\u001b[0m \u001b[0mself\u001b[0m\u001b[0;34m.\u001b[0m\u001b[0mmastodon_minor\u001b[0m \u001b[0;32mand\u001b[0m \u001b[0mpatch\u001b[0m \u001b[0;34m>\u001b[0m \u001b[0mself\u001b[0m\u001b[0;34m.\u001b[0m\u001b[0mmastodon_patch\u001b[0m\u001b[0;34m:\u001b[0m\u001b[0;34m\u001b[0m\u001b[0;34m\u001b[0m\u001b[0m\n\u001b[1;32m     48\u001b[0m                     \u001b[0;32mraise\u001b[0m \u001b[0mMastodonVersionError\u001b[0m\u001b[0;34m(\u001b[0m\u001b[0;34mf\"Version check failed (Need version {version}, patch is {self.mastodon_patch})\"\u001b[0m\u001b[0;34m)\u001b[0m\u001b[0;34m\u001b[0m\u001b[0;34m\u001b[0m\u001b[0m\n\u001b[0;32m---> 49\u001b[0;31m             \u001b[0;32mreturn\u001b[0m \u001b[0mfunction\u001b[0m\u001b[0;34m(\u001b[0m\u001b[0mself\u001b[0m\u001b[0;34m,\u001b[0m \u001b[0;34m*\u001b[0m\u001b[0margs\u001b[0m\u001b[0;34m,\u001b[0m \u001b[0;34m**\u001b[0m\u001b[0mkwargs\u001b[0m\u001b[0;34m)\u001b[0m\u001b[0;34m\u001b[0m\u001b[0;34m\u001b[0m\u001b[0m\n\u001b[0m\u001b[1;32m     50\u001b[0m         \u001b[0mfunction\u001b[0m\u001b[0;34m.\u001b[0m\u001b[0m__doc__\u001b[0m \u001b[0;34m+=\u001b[0m \u001b[0;34mf\"\\n\\n        *Added: Mastodon v{created_ver}, last changed: Mastodon v{last_changed_ver}*\"\u001b[0m\u001b[0;34m\u001b[0m\u001b[0;34m\u001b[0m\u001b[0m\n\u001b[1;32m     51\u001b[0m         \u001b[0;32mreturn\u001b[0m \u001b[0mdecorate\u001b[0m\u001b[0;34m(\u001b[0m\u001b[0mfunction\u001b[0m\u001b[0;34m,\u001b[0m \u001b[0mwrapper\u001b[0m\u001b[0;34m)\u001b[0m\u001b[0;34m\u001b[0m\u001b[0;34m\u001b[0m\u001b[0m\n",
            "\u001b[0;32m/usr/local/lib/python3.10/dist-packages/mastodon/trends.py\u001b[0m in \u001b[0;36mtrending_tags\u001b[0;34m(self, limit, lang)\u001b[0m\n\u001b[1;32m     43\u001b[0m         \u001b[0;32mif\u001b[0m \u001b[0mself\u001b[0m\u001b[0;34m.\u001b[0m\u001b[0mverify_minimum_version\u001b[0m\u001b[0;34m(\u001b[0m\u001b[0;34m\"3.5.0\"\u001b[0m\u001b[0;34m,\u001b[0m \u001b[0mcached\u001b[0m\u001b[0;34m=\u001b[0m\u001b[0;32mTrue\u001b[0m\u001b[0;34m)\u001b[0m\u001b[0;34m:\u001b[0m\u001b[0;34m\u001b[0m\u001b[0;34m\u001b[0m\u001b[0m\n\u001b[1;32m     44\u001b[0m             \u001b[0;31m# Starting 3.5.0, old version is deprecated\u001b[0m\u001b[0;34m\u001b[0m\u001b[0;34m\u001b[0m\u001b[0m\n\u001b[0;32m---> 45\u001b[0;31m             \u001b[0;32mreturn\u001b[0m \u001b[0mself\u001b[0m\u001b[0;34m.\u001b[0m\u001b[0m__api_request\u001b[0m\u001b[0;34m(\u001b[0m\u001b[0;34m'GET'\u001b[0m\u001b[0;34m,\u001b[0m \u001b[0;34m'/api/v1/trends/tags'\u001b[0m\u001b[0;34m,\u001b[0m \u001b[0mparams\u001b[0m\u001b[0;34m,\u001b[0m \u001b[0mlang_override\u001b[0m\u001b[0;34m=\u001b[0m\u001b[0mlang\u001b[0m\u001b[0;34m)\u001b[0m\u001b[0;34m\u001b[0m\u001b[0;34m\u001b[0m\u001b[0m\n\u001b[0m\u001b[1;32m     46\u001b[0m         \u001b[0;32melse\u001b[0m\u001b[0;34m:\u001b[0m\u001b[0;34m\u001b[0m\u001b[0;34m\u001b[0m\u001b[0m\n\u001b[1;32m     47\u001b[0m             \u001b[0;32mreturn\u001b[0m \u001b[0mself\u001b[0m\u001b[0;34m.\u001b[0m\u001b[0m__api_request\u001b[0m\u001b[0;34m(\u001b[0m\u001b[0;34m'GET'\u001b[0m\u001b[0;34m,\u001b[0m \u001b[0;34m'/api/v1/trends'\u001b[0m\u001b[0;34m,\u001b[0m \u001b[0mparams\u001b[0m\u001b[0;34m,\u001b[0m \u001b[0mlang_override\u001b[0m\u001b[0;34m=\u001b[0m\u001b[0mlang\u001b[0m\u001b[0;34m)\u001b[0m\u001b[0;34m\u001b[0m\u001b[0;34m\u001b[0m\u001b[0m\n",
            "\u001b[0;32m/usr/local/lib/python3.10/dist-packages/mastodon/internals.py\u001b[0m in \u001b[0;36m__api_request\u001b[0;34m(self, method, endpoint, params, files, headers, access_token_override, base_url_override, do_ratelimiting, use_json, parse, return_response_object, skip_error_check, lang_override)\u001b[0m\n\u001b[1;32m    205\u001b[0m                 \u001b[0mresponse_object\u001b[0m \u001b[0;34m=\u001b[0m \u001b[0mself\u001b[0m\u001b[0;34m.\u001b[0m\u001b[0msession\u001b[0m\u001b[0;34m.\u001b[0m\u001b[0mrequest\u001b[0m\u001b[0;34m(\u001b[0m\u001b[0mmethod\u001b[0m\u001b[0;34m,\u001b[0m \u001b[0mbase_url\u001b[0m \u001b[0;34m+\u001b[0m \u001b[0mendpoint\u001b[0m\u001b[0;34m,\u001b[0m \u001b[0;34m**\u001b[0m\u001b[0mkwargs\u001b[0m\u001b[0;34m)\u001b[0m\u001b[0;34m\u001b[0m\u001b[0;34m\u001b[0m\u001b[0m\n\u001b[1;32m    206\u001b[0m             \u001b[0;32mexcept\u001b[0m \u001b[0mException\u001b[0m \u001b[0;32mas\u001b[0m \u001b[0me\u001b[0m\u001b[0;34m:\u001b[0m\u001b[0;34m\u001b[0m\u001b[0;34m\u001b[0m\u001b[0m\n\u001b[0;32m--> 207\u001b[0;31m                 \u001b[0;32mraise\u001b[0m \u001b[0mMastodonNetworkError\u001b[0m\u001b[0;34m(\u001b[0m\u001b[0;34mf\"Could not complete request: {e}\"\u001b[0m\u001b[0;34m)\u001b[0m\u001b[0;34m\u001b[0m\u001b[0;34m\u001b[0m\u001b[0m\n\u001b[0m\u001b[1;32m    208\u001b[0m \u001b[0;34m\u001b[0m\u001b[0m\n\u001b[1;32m    209\u001b[0m             \u001b[0;32mif\u001b[0m \u001b[0mresponse_object\u001b[0m \u001b[0;32mis\u001b[0m \u001b[0;32mNone\u001b[0m\u001b[0;34m:\u001b[0m\u001b[0;34m\u001b[0m\u001b[0;34m\u001b[0m\u001b[0m\n",
            "\u001b[0;31mMastodonNetworkError\u001b[0m: Could not complete request: ('Connection aborted.', RemoteDisconnected('Remote end closed connection without response'))"
          ]
        }
      ]
    },
    {
      "cell_type": "code",
      "source": [
        "print(len(hashtag_data))"
      ],
      "metadata": {
        "colab": {
          "base_uri": "https://localhost:8080/"
        },
        "id": "_GgZpjZaoahY",
        "outputId": "0310732b-8cec-4066-a1ac-7df55e984596"
      },
      "execution_count": null,
      "outputs": [
        {
          "output_type": "stream",
          "name": "stdout",
          "text": [
            "50\n"
          ]
        }
      ]
    },
    {
      "cell_type": "code",
      "source": [
        "hashtags = [] \n",
        "accounts = []\n",
        "uses = [] \n",
        "for i in range(len(hashtag_data)): \n",
        "  for info in hashtag_data[0]: \n",
        "    hashtags.append((info.get('name')))\n",
        "    uses.append(info['history'][0].get('uses'))\n",
        "\n",
        "  "
      ],
      "metadata": {
        "id": "XE50walXodRQ"
      },
      "execution_count": null,
      "outputs": []
    },
    {
      "cell_type": "code",
      "source": [
        "print(len(uses))"
      ],
      "metadata": {
        "colab": {
          "base_uri": "https://localhost:8080/"
        },
        "id": "Il6Dnh87q2qR",
        "outputId": "ed8b1024-0889-4a6e-e20e-aa2091eb69b7"
      },
      "execution_count": null,
      "outputs": [
        {
          "output_type": "stream",
          "name": "stdout",
          "text": [
            "500\n"
          ]
        }
      ]
    },
    {
      "cell_type": "code",
      "source": [
        "# Create a dictionary from the lists using zip()\n",
        "dictionary = dict(zip(hashtags, uses))\n"
      ],
      "metadata": {
        "id": "0_ZycMDzpk9-"
      },
      "execution_count": null,
      "outputs": []
    },
    {
      "cell_type": "code",
      "source": [
        "df_hashs = pd.DataFrame()\n",
        "df_hashs[\"hashtags\"] = hashtags\n",
        "df_hashs[\"uses\"] = uses"
      ],
      "metadata": {
        "id": "7hN5H1jcq-M7"
      },
      "execution_count": null,
      "outputs": []
    },
    {
      "cell_type": "code",
      "source": [
        "final_hash= list(set(hashtags))\n",
        "print(len(final_hash))"
      ],
      "metadata": {
        "colab": {
          "base_uri": "https://localhost:8080/"
        },
        "id": "2_7yzZ21s8oC",
        "outputId": "70a99296-c92d-4d7b-f344-8f14bbeee222"
      },
      "execution_count": null,
      "outputs": [
        {
          "output_type": "stream",
          "name": "stdout",
          "text": [
            "10\n"
          ]
        }
      ]
    },
    {
      "cell_type": "code",
      "source": [
        "df_final = pd.DataFrame()\n",
        "df_final[\"hashtags\"] = final_hash"
      ],
      "metadata": {
        "id": "-2RVGyCXu5x6"
      },
      "execution_count": null,
      "outputs": []
    },
    {
      "cell_type": "code",
      "source": [
        "hashtag_toots = [] \n",
        "\n",
        "for hash in final_hash: \n",
        "    hashtag_toots.append(m.timeline_hashtag(hash))\n"
      ],
      "metadata": {
        "id": "PTCb7jE5pcc8"
      },
      "execution_count": null,
      "outputs": []
    },
    {
      "cell_type": "code",
      "source": [
        "df_final[\"toot details\"] = hashtag_toots"
      ],
      "metadata": {
        "id": "m1mQj_rLqqlX"
      },
      "execution_count": null,
      "outputs": []
    },
    {
      "cell_type": "code",
      "source": [
        "users = [] \n",
        "for d, row in df_final.iterrows(): \n",
        "  users.append((row[\"toot details\"][0].get('account').get('id')))"
      ],
      "metadata": {
        "id": "pv1AaeNsqoV9"
      },
      "execution_count": null,
      "outputs": []
    },
    {
      "cell_type": "code",
      "source": [
        "followers = [] \n",
        "for user in users: \n",
        "  followers.append(m.account_followers(str(user)))"
      ],
      "metadata": {
        "id": "1sRX2sWTwh15"
      },
      "execution_count": null,
      "outputs": []
    },
    {
      "cell_type": "code",
      "source": [
        "df_final[\"followers\"] = followers"
      ],
      "metadata": {
        "id": "Do9Yb8B6zREB"
      },
      "execution_count": null,
      "outputs": []
    },
    {
      "cell_type": "code",
      "source": [
        "following = [] \n",
        "for user in users: \n",
        "  following.append(m.account_following(str(user)))"
      ],
      "metadata": {
        "id": "5wIYXIsgzWNG"
      },
      "execution_count": null,
      "outputs": []
    },
    {
      "cell_type": "code",
      "source": [
        "df_final[\"following\"] = following"
      ],
      "metadata": {
        "id": "wrZ99J9bza3x"
      },
      "execution_count": null,
      "outputs": []
    },
    {
      "cell_type": "code",
      "source": [
        "df_final"
      ],
      "metadata": {
        "colab": {
          "base_uri": "https://localhost:8080/",
          "height": 580
        },
        "id": "EOZGCrBZzi0e",
        "outputId": "a68e9d27-430e-4616-8bbd-5737e5585c23"
      },
      "execution_count": null,
      "outputs": [
        {
          "output_type": "execute_result",
          "data": {
            "text/plain": [
              "                hashtags                                       toot details  \\\n",
              "0    lyricalmasterpieces  [{'id': 110317990660333283, 'created_at': 2023...   \n",
              "1           WindowFriday  [{'id': 110318041430372829, 'created_at': 2023...   \n",
              "2          fursuitfriday  [{'id': 110318099468592917, 'created_at': 2023...   \n",
              "3         BandcampFriday  [{'id': 110318102503473354, 'created_at': 2023...   \n",
              "4  starwarsaclassicmovie  [{'id': 110317878025889408, 'created_at': 2023...   \n",
              "5     JukeboxFridayNight  [{'id': 110318038731080567, 'created_at': 2023...   \n",
              "6         Fensterfreitag  [{'id': 110318106076052169, 'created_at': 2023...   \n",
              "7            cincodemayo  [{'id': 110318100943843208, 'created_at': 2023...   \n",
              "8        vendredilecture  [{'id': 110318079383313960, 'created_at': 2023...   \n",
              "9                   tgif  [{'id': 110318092406867614, 'created_at': 2023...   \n",
              "\n",
              "                                           followers  \\\n",
              "0  [{'id': 109371010876960470, 'username': 'DZGri...   \n",
              "1  [{'id': 110167067154850043, 'username': 'Nooga...   \n",
              "2  [{'id': 110219380817626623, 'username': 'nerod...   \n",
              "3                                                 []   \n",
              "4  [{'id': 456183, 'username': 'mikedunn', 'acct'...   \n",
              "5                                                 []   \n",
              "6  [{'id': 109878474102216399, 'username': 'dmart...   \n",
              "7  [{'id': 109909566600115210, 'username': 'mrsco...   \n",
              "8  [{'id': 32668, 'username': 'fabi1cazenave', 'a...   \n",
              "9  [{'id': 110054947988430380, 'username': 'radov...   \n",
              "\n",
              "                                           following  \n",
              "0  [{'id': 110266162634306901, 'username': 'arste...  \n",
              "1  [{'id': 110167067154850043, 'username': 'Nooga...  \n",
              "2  [{'id': 110219380817626623, 'username': 'nerod...  \n",
              "3                                                 []  \n",
              "4  [{'id': 109259296548994894, 'username': 'Missi...  \n",
              "5                                                 []  \n",
              "6  [{'id': 109876167851411515, 'username': 'trend...  \n",
              "7  [{'id': 109756976051940649, 'username': 'stupi...  \n",
              "8  [{'id': 32668, 'username': 'fabi1cazenave', 'a...  \n",
              "9  [{'id': 109312832238383140, 'username': 'katch...  "
            ],
            "text/html": [
              "\n",
              "  <div id=\"df-948444a1-5447-495f-96c3-3bb86e24b92b\">\n",
              "    <div class=\"colab-df-container\">\n",
              "      <div>\n",
              "<style scoped>\n",
              "    .dataframe tbody tr th:only-of-type {\n",
              "        vertical-align: middle;\n",
              "    }\n",
              "\n",
              "    .dataframe tbody tr th {\n",
              "        vertical-align: top;\n",
              "    }\n",
              "\n",
              "    .dataframe thead th {\n",
              "        text-align: right;\n",
              "    }\n",
              "</style>\n",
              "<table border=\"1\" class=\"dataframe\">\n",
              "  <thead>\n",
              "    <tr style=\"text-align: right;\">\n",
              "      <th></th>\n",
              "      <th>hashtags</th>\n",
              "      <th>toot details</th>\n",
              "      <th>followers</th>\n",
              "      <th>following</th>\n",
              "    </tr>\n",
              "  </thead>\n",
              "  <tbody>\n",
              "    <tr>\n",
              "      <th>0</th>\n",
              "      <td>lyricalmasterpieces</td>\n",
              "      <td>[{'id': 110317990660333283, 'created_at': 2023...</td>\n",
              "      <td>[{'id': 109371010876960470, 'username': 'DZGri...</td>\n",
              "      <td>[{'id': 110266162634306901, 'username': 'arste...</td>\n",
              "    </tr>\n",
              "    <tr>\n",
              "      <th>1</th>\n",
              "      <td>WindowFriday</td>\n",
              "      <td>[{'id': 110318041430372829, 'created_at': 2023...</td>\n",
              "      <td>[{'id': 110167067154850043, 'username': 'Nooga...</td>\n",
              "      <td>[{'id': 110167067154850043, 'username': 'Nooga...</td>\n",
              "    </tr>\n",
              "    <tr>\n",
              "      <th>2</th>\n",
              "      <td>fursuitfriday</td>\n",
              "      <td>[{'id': 110318099468592917, 'created_at': 2023...</td>\n",
              "      <td>[{'id': 110219380817626623, 'username': 'nerod...</td>\n",
              "      <td>[{'id': 110219380817626623, 'username': 'nerod...</td>\n",
              "    </tr>\n",
              "    <tr>\n",
              "      <th>3</th>\n",
              "      <td>BandcampFriday</td>\n",
              "      <td>[{'id': 110318102503473354, 'created_at': 2023...</td>\n",
              "      <td>[]</td>\n",
              "      <td>[]</td>\n",
              "    </tr>\n",
              "    <tr>\n",
              "      <th>4</th>\n",
              "      <td>starwarsaclassicmovie</td>\n",
              "      <td>[{'id': 110317878025889408, 'created_at': 2023...</td>\n",
              "      <td>[{'id': 456183, 'username': 'mikedunn', 'acct'...</td>\n",
              "      <td>[{'id': 109259296548994894, 'username': 'Missi...</td>\n",
              "    </tr>\n",
              "    <tr>\n",
              "      <th>5</th>\n",
              "      <td>JukeboxFridayNight</td>\n",
              "      <td>[{'id': 110318038731080567, 'created_at': 2023...</td>\n",
              "      <td>[]</td>\n",
              "      <td>[]</td>\n",
              "    </tr>\n",
              "    <tr>\n",
              "      <th>6</th>\n",
              "      <td>Fensterfreitag</td>\n",
              "      <td>[{'id': 110318106076052169, 'created_at': 2023...</td>\n",
              "      <td>[{'id': 109878474102216399, 'username': 'dmart...</td>\n",
              "      <td>[{'id': 109876167851411515, 'username': 'trend...</td>\n",
              "    </tr>\n",
              "    <tr>\n",
              "      <th>7</th>\n",
              "      <td>cincodemayo</td>\n",
              "      <td>[{'id': 110318100943843208, 'created_at': 2023...</td>\n",
              "      <td>[{'id': 109909566600115210, 'username': 'mrsco...</td>\n",
              "      <td>[{'id': 109756976051940649, 'username': 'stupi...</td>\n",
              "    </tr>\n",
              "    <tr>\n",
              "      <th>8</th>\n",
              "      <td>vendredilecture</td>\n",
              "      <td>[{'id': 110318079383313960, 'created_at': 2023...</td>\n",
              "      <td>[{'id': 32668, 'username': 'fabi1cazenave', 'a...</td>\n",
              "      <td>[{'id': 32668, 'username': 'fabi1cazenave', 'a...</td>\n",
              "    </tr>\n",
              "    <tr>\n",
              "      <th>9</th>\n",
              "      <td>tgif</td>\n",
              "      <td>[{'id': 110318092406867614, 'created_at': 2023...</td>\n",
              "      <td>[{'id': 110054947988430380, 'username': 'radov...</td>\n",
              "      <td>[{'id': 109312832238383140, 'username': 'katch...</td>\n",
              "    </tr>\n",
              "  </tbody>\n",
              "</table>\n",
              "</div>\n",
              "      <button class=\"colab-df-convert\" onclick=\"convertToInteractive('df-948444a1-5447-495f-96c3-3bb86e24b92b')\"\n",
              "              title=\"Convert this dataframe to an interactive table.\"\n",
              "              style=\"display:none;\">\n",
              "        \n",
              "  <svg xmlns=\"http://www.w3.org/2000/svg\" height=\"24px\"viewBox=\"0 0 24 24\"\n",
              "       width=\"24px\">\n",
              "    <path d=\"M0 0h24v24H0V0z\" fill=\"none\"/>\n",
              "    <path d=\"M18.56 5.44l.94 2.06.94-2.06 2.06-.94-2.06-.94-.94-2.06-.94 2.06-2.06.94zm-11 1L8.5 8.5l.94-2.06 2.06-.94-2.06-.94L8.5 2.5l-.94 2.06-2.06.94zm10 10l.94 2.06.94-2.06 2.06-.94-2.06-.94-.94-2.06-.94 2.06-2.06.94z\"/><path d=\"M17.41 7.96l-1.37-1.37c-.4-.4-.92-.59-1.43-.59-.52 0-1.04.2-1.43.59L10.3 9.45l-7.72 7.72c-.78.78-.78 2.05 0 2.83L4 21.41c.39.39.9.59 1.41.59.51 0 1.02-.2 1.41-.59l7.78-7.78 2.81-2.81c.8-.78.8-2.07 0-2.86zM5.41 20L4 18.59l7.72-7.72 1.47 1.35L5.41 20z\"/>\n",
              "  </svg>\n",
              "      </button>\n",
              "      \n",
              "  <style>\n",
              "    .colab-df-container {\n",
              "      display:flex;\n",
              "      flex-wrap:wrap;\n",
              "      gap: 12px;\n",
              "    }\n",
              "\n",
              "    .colab-df-convert {\n",
              "      background-color: #E8F0FE;\n",
              "      border: none;\n",
              "      border-radius: 50%;\n",
              "      cursor: pointer;\n",
              "      display: none;\n",
              "      fill: #1967D2;\n",
              "      height: 32px;\n",
              "      padding: 0 0 0 0;\n",
              "      width: 32px;\n",
              "    }\n",
              "\n",
              "    .colab-df-convert:hover {\n",
              "      background-color: #E2EBFA;\n",
              "      box-shadow: 0px 1px 2px rgba(60, 64, 67, 0.3), 0px 1px 3px 1px rgba(60, 64, 67, 0.15);\n",
              "      fill: #174EA6;\n",
              "    }\n",
              "\n",
              "    [theme=dark] .colab-df-convert {\n",
              "      background-color: #3B4455;\n",
              "      fill: #D2E3FC;\n",
              "    }\n",
              "\n",
              "    [theme=dark] .colab-df-convert:hover {\n",
              "      background-color: #434B5C;\n",
              "      box-shadow: 0px 1px 3px 1px rgba(0, 0, 0, 0.15);\n",
              "      filter: drop-shadow(0px 1px 2px rgba(0, 0, 0, 0.3));\n",
              "      fill: #FFFFFF;\n",
              "    }\n",
              "  </style>\n",
              "\n",
              "      <script>\n",
              "        const buttonEl =\n",
              "          document.querySelector('#df-948444a1-5447-495f-96c3-3bb86e24b92b button.colab-df-convert');\n",
              "        buttonEl.style.display =\n",
              "          google.colab.kernel.accessAllowed ? 'block' : 'none';\n",
              "\n",
              "        async function convertToInteractive(key) {\n",
              "          const element = document.querySelector('#df-948444a1-5447-495f-96c3-3bb86e24b92b');\n",
              "          const dataTable =\n",
              "            await google.colab.kernel.invokeFunction('convertToInteractive',\n",
              "                                                     [key], {});\n",
              "          if (!dataTable) return;\n",
              "\n",
              "          const docLinkHtml = 'Like what you see? Visit the ' +\n",
              "            '<a target=\"_blank\" href=https://colab.research.google.com/notebooks/data_table.ipynb>data table notebook</a>'\n",
              "            + ' to learn more about interactive tables.';\n",
              "          element.innerHTML = '';\n",
              "          dataTable['output_type'] = 'display_data';\n",
              "          await google.colab.output.renderOutput(dataTable, element);\n",
              "          const docLink = document.createElement('div');\n",
              "          docLink.innerHTML = docLinkHtml;\n",
              "          element.appendChild(docLink);\n",
              "        }\n",
              "      </script>\n",
              "    </div>\n",
              "  </div>\n",
              "  "
            ]
          },
          "metadata": {},
          "execution_count": 86
        }
      ]
    },
    {
      "cell_type": "code",
      "source": [
        "df_final = df_final.drop(3)"
      ],
      "metadata": {
        "id": "F9c8SZcszi6w"
      },
      "execution_count": null,
      "outputs": []
    },
    {
      "cell_type": "code",
      "source": [
        "df_final = df_final.drop(5)"
      ],
      "metadata": {
        "id": "PcmHkfmyzi_-"
      },
      "execution_count": null,
      "outputs": []
    },
    {
      "cell_type": "code",
      "source": [
        "df_final.head()"
      ],
      "metadata": {
        "colab": {
          "base_uri": "https://localhost:8080/",
          "height": 337
        },
        "id": "G31S-fcUzjFf",
        "outputId": "efb984d9-f984-49b4-aad7-de3538dbaf16"
      },
      "execution_count": null,
      "outputs": [
        {
          "output_type": "execute_result",
          "data": {
            "text/plain": [
              "                hashtags                                       toot details  \\\n",
              "0    lyricalmasterpieces  [{'id': 110317990660333283, 'created_at': 2023...   \n",
              "1           WindowFriday  [{'id': 110318041430372829, 'created_at': 2023...   \n",
              "2          fursuitfriday  [{'id': 110318099468592917, 'created_at': 2023...   \n",
              "4  starwarsaclassicmovie  [{'id': 110317878025889408, 'created_at': 2023...   \n",
              "6         Fensterfreitag  [{'id': 110318106076052169, 'created_at': 2023...   \n",
              "\n",
              "                                           followers  \\\n",
              "0  [{'id': 109371010876960470, 'username': 'DZGri...   \n",
              "1  [{'id': 110167067154850043, 'username': 'Nooga...   \n",
              "2  [{'id': 110219380817626623, 'username': 'nerod...   \n",
              "4  [{'id': 456183, 'username': 'mikedunn', 'acct'...   \n",
              "6  [{'id': 109878474102216399, 'username': 'dmart...   \n",
              "\n",
              "                                           following  \n",
              "0  [{'id': 110266162634306901, 'username': 'arste...  \n",
              "1  [{'id': 110167067154850043, 'username': 'Nooga...  \n",
              "2  [{'id': 110219380817626623, 'username': 'nerod...  \n",
              "4  [{'id': 109259296548994894, 'username': 'Missi...  \n",
              "6  [{'id': 109876167851411515, 'username': 'trend...  "
            ],
            "text/html": [
              "\n",
              "  <div id=\"df-3a44fc9b-e76f-408e-9a10-4aed55921cb5\">\n",
              "    <div class=\"colab-df-container\">\n",
              "      <div>\n",
              "<style scoped>\n",
              "    .dataframe tbody tr th:only-of-type {\n",
              "        vertical-align: middle;\n",
              "    }\n",
              "\n",
              "    .dataframe tbody tr th {\n",
              "        vertical-align: top;\n",
              "    }\n",
              "\n",
              "    .dataframe thead th {\n",
              "        text-align: right;\n",
              "    }\n",
              "</style>\n",
              "<table border=\"1\" class=\"dataframe\">\n",
              "  <thead>\n",
              "    <tr style=\"text-align: right;\">\n",
              "      <th></th>\n",
              "      <th>hashtags</th>\n",
              "      <th>toot details</th>\n",
              "      <th>followers</th>\n",
              "      <th>following</th>\n",
              "    </tr>\n",
              "  </thead>\n",
              "  <tbody>\n",
              "    <tr>\n",
              "      <th>0</th>\n",
              "      <td>lyricalmasterpieces</td>\n",
              "      <td>[{'id': 110317990660333283, 'created_at': 2023...</td>\n",
              "      <td>[{'id': 109371010876960470, 'username': 'DZGri...</td>\n",
              "      <td>[{'id': 110266162634306901, 'username': 'arste...</td>\n",
              "    </tr>\n",
              "    <tr>\n",
              "      <th>1</th>\n",
              "      <td>WindowFriday</td>\n",
              "      <td>[{'id': 110318041430372829, 'created_at': 2023...</td>\n",
              "      <td>[{'id': 110167067154850043, 'username': 'Nooga...</td>\n",
              "      <td>[{'id': 110167067154850043, 'username': 'Nooga...</td>\n",
              "    </tr>\n",
              "    <tr>\n",
              "      <th>2</th>\n",
              "      <td>fursuitfriday</td>\n",
              "      <td>[{'id': 110318099468592917, 'created_at': 2023...</td>\n",
              "      <td>[{'id': 110219380817626623, 'username': 'nerod...</td>\n",
              "      <td>[{'id': 110219380817626623, 'username': 'nerod...</td>\n",
              "    </tr>\n",
              "    <tr>\n",
              "      <th>4</th>\n",
              "      <td>starwarsaclassicmovie</td>\n",
              "      <td>[{'id': 110317878025889408, 'created_at': 2023...</td>\n",
              "      <td>[{'id': 456183, 'username': 'mikedunn', 'acct'...</td>\n",
              "      <td>[{'id': 109259296548994894, 'username': 'Missi...</td>\n",
              "    </tr>\n",
              "    <tr>\n",
              "      <th>6</th>\n",
              "      <td>Fensterfreitag</td>\n",
              "      <td>[{'id': 110318106076052169, 'created_at': 2023...</td>\n",
              "      <td>[{'id': 109878474102216399, 'username': 'dmart...</td>\n",
              "      <td>[{'id': 109876167851411515, 'username': 'trend...</td>\n",
              "    </tr>\n",
              "  </tbody>\n",
              "</table>\n",
              "</div>\n",
              "      <button class=\"colab-df-convert\" onclick=\"convertToInteractive('df-3a44fc9b-e76f-408e-9a10-4aed55921cb5')\"\n",
              "              title=\"Convert this dataframe to an interactive table.\"\n",
              "              style=\"display:none;\">\n",
              "        \n",
              "  <svg xmlns=\"http://www.w3.org/2000/svg\" height=\"24px\"viewBox=\"0 0 24 24\"\n",
              "       width=\"24px\">\n",
              "    <path d=\"M0 0h24v24H0V0z\" fill=\"none\"/>\n",
              "    <path d=\"M18.56 5.44l.94 2.06.94-2.06 2.06-.94-2.06-.94-.94-2.06-.94 2.06-2.06.94zm-11 1L8.5 8.5l.94-2.06 2.06-.94-2.06-.94L8.5 2.5l-.94 2.06-2.06.94zm10 10l.94 2.06.94-2.06 2.06-.94-2.06-.94-.94-2.06-.94 2.06-2.06.94z\"/><path d=\"M17.41 7.96l-1.37-1.37c-.4-.4-.92-.59-1.43-.59-.52 0-1.04.2-1.43.59L10.3 9.45l-7.72 7.72c-.78.78-.78 2.05 0 2.83L4 21.41c.39.39.9.59 1.41.59.51 0 1.02-.2 1.41-.59l7.78-7.78 2.81-2.81c.8-.78.8-2.07 0-2.86zM5.41 20L4 18.59l7.72-7.72 1.47 1.35L5.41 20z\"/>\n",
              "  </svg>\n",
              "      </button>\n",
              "      \n",
              "  <style>\n",
              "    .colab-df-container {\n",
              "      display:flex;\n",
              "      flex-wrap:wrap;\n",
              "      gap: 12px;\n",
              "    }\n",
              "\n",
              "    .colab-df-convert {\n",
              "      background-color: #E8F0FE;\n",
              "      border: none;\n",
              "      border-radius: 50%;\n",
              "      cursor: pointer;\n",
              "      display: none;\n",
              "      fill: #1967D2;\n",
              "      height: 32px;\n",
              "      padding: 0 0 0 0;\n",
              "      width: 32px;\n",
              "    }\n",
              "\n",
              "    .colab-df-convert:hover {\n",
              "      background-color: #E2EBFA;\n",
              "      box-shadow: 0px 1px 2px rgba(60, 64, 67, 0.3), 0px 1px 3px 1px rgba(60, 64, 67, 0.15);\n",
              "      fill: #174EA6;\n",
              "    }\n",
              "\n",
              "    [theme=dark] .colab-df-convert {\n",
              "      background-color: #3B4455;\n",
              "      fill: #D2E3FC;\n",
              "    }\n",
              "\n",
              "    [theme=dark] .colab-df-convert:hover {\n",
              "      background-color: #434B5C;\n",
              "      box-shadow: 0px 1px 3px 1px rgba(0, 0, 0, 0.15);\n",
              "      filter: drop-shadow(0px 1px 2px rgba(0, 0, 0, 0.3));\n",
              "      fill: #FFFFFF;\n",
              "    }\n",
              "  </style>\n",
              "\n",
              "      <script>\n",
              "        const buttonEl =\n",
              "          document.querySelector('#df-3a44fc9b-e76f-408e-9a10-4aed55921cb5 button.colab-df-convert');\n",
              "        buttonEl.style.display =\n",
              "          google.colab.kernel.accessAllowed ? 'block' : 'none';\n",
              "\n",
              "        async function convertToInteractive(key) {\n",
              "          const element = document.querySelector('#df-3a44fc9b-e76f-408e-9a10-4aed55921cb5');\n",
              "          const dataTable =\n",
              "            await google.colab.kernel.invokeFunction('convertToInteractive',\n",
              "                                                     [key], {});\n",
              "          if (!dataTable) return;\n",
              "\n",
              "          const docLinkHtml = 'Like what you see? Visit the ' +\n",
              "            '<a target=\"_blank\" href=https://colab.research.google.com/notebooks/data_table.ipynb>data table notebook</a>'\n",
              "            + ' to learn more about interactive tables.';\n",
              "          element.innerHTML = '';\n",
              "          dataTable['output_type'] = 'display_data';\n",
              "          await google.colab.output.renderOutput(dataTable, element);\n",
              "          const docLink = document.createElement('div');\n",
              "          docLink.innerHTML = docLinkHtml;\n",
              "          element.appendChild(docLink);\n",
              "        }\n",
              "      </script>\n",
              "    </div>\n",
              "  </div>\n",
              "  "
            ]
          },
          "metadata": {},
          "execution_count": 91
        }
      ]
    },
    {
      "cell_type": "code",
      "source": [],
      "metadata": {
        "id": "E12QfU1W30Sr"
      },
      "execution_count": null,
      "outputs": []
    },
    {
      "cell_type": "code",
      "source": [
        "user_list = df_final[\"followers\"]\n",
        "\n",
        "followers_id = []\n",
        "for item in user_list:\n",
        "    if isinstance(item, list) and all(isinstance(elem, dict) and 'id' in elem for elem in item):\n",
        "        followers_id.append([elem['id'] for elem in item])\n",
        "    elif isinstance(item, dict) and 'id' in item:\n",
        "        followers_id.append(item['id'])"
      ],
      "metadata": {
        "id": "EO4heFWozjKX"
      },
      "execution_count": null,
      "outputs": []
    },
    {
      "cell_type": "code",
      "source": [
        "user_list2 = df_final[\"following\"]\n",
        "\n",
        "following_id = []\n",
        "for item in user_list2:\n",
        "    if isinstance(item, list) and all(isinstance(elem, dict) and 'id' in elem for elem in item):\n",
        "        following_id.append([elem['id'] for elem in item])\n",
        "    elif isinstance(item, dict) and 'id' in item:\n",
        "        following_id.append(item['id'])"
      ],
      "metadata": {
        "id": "_5gLOHvFzjP4"
      },
      "execution_count": null,
      "outputs": []
    },
    {
      "cell_type": "code",
      "source": [
        "df_final[\"follower ids\"] = followers_id\n",
        "df_final[\"following ids\"] = following_id"
      ],
      "metadata": {
        "id": "VdIXfJwvzjUc"
      },
      "execution_count": null,
      "outputs": []
    },
    {
      "cell_type": "code",
      "source": [
        "df_final"
      ],
      "metadata": {
        "colab": {
          "base_uri": "https://localhost:8080/",
          "height": 622
        },
        "id": "Ws1WcphfzjYQ",
        "outputId": "08857bff-cbe9-4193-d5db-01d540a79839"
      },
      "execution_count": null,
      "outputs": [
        {
          "output_type": "execute_result",
          "data": {
            "text/plain": [
              "                hashtags                                       toot details  \\\n",
              "0    lyricalmasterpieces  [{'id': 110317990660333283, 'created_at': 2023...   \n",
              "1           WindowFriday  [{'id': 110318041430372829, 'created_at': 2023...   \n",
              "2          fursuitfriday  [{'id': 110318099468592917, 'created_at': 2023...   \n",
              "4  starwarsaclassicmovie  [{'id': 110317878025889408, 'created_at': 2023...   \n",
              "6         Fensterfreitag  [{'id': 110318106076052169, 'created_at': 2023...   \n",
              "7            cincodemayo  [{'id': 110318100943843208, 'created_at': 2023...   \n",
              "8        vendredilecture  [{'id': 110318079383313960, 'created_at': 2023...   \n",
              "9                   tgif  [{'id': 110318092406867614, 'created_at': 2023...   \n",
              "\n",
              "                                           followers  \\\n",
              "0  [{'id': 109371010876960470, 'username': 'DZGri...   \n",
              "1  [{'id': 110167067154850043, 'username': 'Nooga...   \n",
              "2  [{'id': 110219380817626623, 'username': 'nerod...   \n",
              "4  [{'id': 456183, 'username': 'mikedunn', 'acct'...   \n",
              "6  [{'id': 109878474102216399, 'username': 'dmart...   \n",
              "7  [{'id': 109909566600115210, 'username': 'mrsco...   \n",
              "8  [{'id': 32668, 'username': 'fabi1cazenave', 'a...   \n",
              "9  [{'id': 110054947988430380, 'username': 'radov...   \n",
              "\n",
              "                                           following  \\\n",
              "0  [{'id': 110266162634306901, 'username': 'arste...   \n",
              "1  [{'id': 110167067154850043, 'username': 'Nooga...   \n",
              "2  [{'id': 110219380817626623, 'username': 'nerod...   \n",
              "4  [{'id': 109259296548994894, 'username': 'Missi...   \n",
              "6  [{'id': 109876167851411515, 'username': 'trend...   \n",
              "7  [{'id': 109756976051940649, 'username': 'stupi...   \n",
              "8  [{'id': 32668, 'username': 'fabi1cazenave', 'a...   \n",
              "9  [{'id': 109312832238383140, 'username': 'katch...   \n",
              "\n",
              "                                        follower ids  \\\n",
              "0  [109371010876960470, 396284, 10839012468499342...   \n",
              "1  [110167067154850043, 108772405993602191, 11014...   \n",
              "2  [110219380817626623, 110141867641812043, 11009...   \n",
              "4  [456183, 110160959680597683, 945880, 109984662...   \n",
              "6  [109878474102216399, 110238656414466451, 11025...   \n",
              "7  [109909566600115210, 109913829104871608, 11013...   \n",
              "8  [32668, 109245282227031852, 109250716074159749...   \n",
              "9  [110054947988430380, 109257083424636770, 10924...   \n",
              "\n",
              "                                       following ids  \n",
              "0  [110266162634306901, 109297267936822269, 10968...  \n",
              "1  [110167067154850043, 109856201017382355, 23479...  \n",
              "2           [110219380817626623, 110141867641812043]  \n",
              "4  [109259296548994894, 454842, 10819345638470212...  \n",
              "6  [109876167851411515, 233670, 10925079640340214...  \n",
              "7  [109756976051940649, 109362444413306972, 10988...  \n",
              "8  [32668, 233670, 44440, 109244623527927045, 109...  \n",
              "9                               [109312832238383140]  "
            ],
            "text/html": [
              "\n",
              "  <div id=\"df-0903d135-9fe9-44ae-9007-bff8d86ff364\">\n",
              "    <div class=\"colab-df-container\">\n",
              "      <div>\n",
              "<style scoped>\n",
              "    .dataframe tbody tr th:only-of-type {\n",
              "        vertical-align: middle;\n",
              "    }\n",
              "\n",
              "    .dataframe tbody tr th {\n",
              "        vertical-align: top;\n",
              "    }\n",
              "\n",
              "    .dataframe thead th {\n",
              "        text-align: right;\n",
              "    }\n",
              "</style>\n",
              "<table border=\"1\" class=\"dataframe\">\n",
              "  <thead>\n",
              "    <tr style=\"text-align: right;\">\n",
              "      <th></th>\n",
              "      <th>hashtags</th>\n",
              "      <th>toot details</th>\n",
              "      <th>followers</th>\n",
              "      <th>following</th>\n",
              "      <th>follower ids</th>\n",
              "      <th>following ids</th>\n",
              "    </tr>\n",
              "  </thead>\n",
              "  <tbody>\n",
              "    <tr>\n",
              "      <th>0</th>\n",
              "      <td>lyricalmasterpieces</td>\n",
              "      <td>[{'id': 110317990660333283, 'created_at': 2023...</td>\n",
              "      <td>[{'id': 109371010876960470, 'username': 'DZGri...</td>\n",
              "      <td>[{'id': 110266162634306901, 'username': 'arste...</td>\n",
              "      <td>[109371010876960470, 396284, 10839012468499342...</td>\n",
              "      <td>[110266162634306901, 109297267936822269, 10968...</td>\n",
              "    </tr>\n",
              "    <tr>\n",
              "      <th>1</th>\n",
              "      <td>WindowFriday</td>\n",
              "      <td>[{'id': 110318041430372829, 'created_at': 2023...</td>\n",
              "      <td>[{'id': 110167067154850043, 'username': 'Nooga...</td>\n",
              "      <td>[{'id': 110167067154850043, 'username': 'Nooga...</td>\n",
              "      <td>[110167067154850043, 108772405993602191, 11014...</td>\n",
              "      <td>[110167067154850043, 109856201017382355, 23479...</td>\n",
              "    </tr>\n",
              "    <tr>\n",
              "      <th>2</th>\n",
              "      <td>fursuitfriday</td>\n",
              "      <td>[{'id': 110318099468592917, 'created_at': 2023...</td>\n",
              "      <td>[{'id': 110219380817626623, 'username': 'nerod...</td>\n",
              "      <td>[{'id': 110219380817626623, 'username': 'nerod...</td>\n",
              "      <td>[110219380817626623, 110141867641812043, 11009...</td>\n",
              "      <td>[110219380817626623, 110141867641812043]</td>\n",
              "    </tr>\n",
              "    <tr>\n",
              "      <th>4</th>\n",
              "      <td>starwarsaclassicmovie</td>\n",
              "      <td>[{'id': 110317878025889408, 'created_at': 2023...</td>\n",
              "      <td>[{'id': 456183, 'username': 'mikedunn', 'acct'...</td>\n",
              "      <td>[{'id': 109259296548994894, 'username': 'Missi...</td>\n",
              "      <td>[456183, 110160959680597683, 945880, 109984662...</td>\n",
              "      <td>[109259296548994894, 454842, 10819345638470212...</td>\n",
              "    </tr>\n",
              "    <tr>\n",
              "      <th>6</th>\n",
              "      <td>Fensterfreitag</td>\n",
              "      <td>[{'id': 110318106076052169, 'created_at': 2023...</td>\n",
              "      <td>[{'id': 109878474102216399, 'username': 'dmart...</td>\n",
              "      <td>[{'id': 109876167851411515, 'username': 'trend...</td>\n",
              "      <td>[109878474102216399, 110238656414466451, 11025...</td>\n",
              "      <td>[109876167851411515, 233670, 10925079640340214...</td>\n",
              "    </tr>\n",
              "    <tr>\n",
              "      <th>7</th>\n",
              "      <td>cincodemayo</td>\n",
              "      <td>[{'id': 110318100943843208, 'created_at': 2023...</td>\n",
              "      <td>[{'id': 109909566600115210, 'username': 'mrsco...</td>\n",
              "      <td>[{'id': 109756976051940649, 'username': 'stupi...</td>\n",
              "      <td>[109909566600115210, 109913829104871608, 11013...</td>\n",
              "      <td>[109756976051940649, 109362444413306972, 10988...</td>\n",
              "    </tr>\n",
              "    <tr>\n",
              "      <th>8</th>\n",
              "      <td>vendredilecture</td>\n",
              "      <td>[{'id': 110318079383313960, 'created_at': 2023...</td>\n",
              "      <td>[{'id': 32668, 'username': 'fabi1cazenave', 'a...</td>\n",
              "      <td>[{'id': 32668, 'username': 'fabi1cazenave', 'a...</td>\n",
              "      <td>[32668, 109245282227031852, 109250716074159749...</td>\n",
              "      <td>[32668, 233670, 44440, 109244623527927045, 109...</td>\n",
              "    </tr>\n",
              "    <tr>\n",
              "      <th>9</th>\n",
              "      <td>tgif</td>\n",
              "      <td>[{'id': 110318092406867614, 'created_at': 2023...</td>\n",
              "      <td>[{'id': 110054947988430380, 'username': 'radov...</td>\n",
              "      <td>[{'id': 109312832238383140, 'username': 'katch...</td>\n",
              "      <td>[110054947988430380, 109257083424636770, 10924...</td>\n",
              "      <td>[109312832238383140]</td>\n",
              "    </tr>\n",
              "  </tbody>\n",
              "</table>\n",
              "</div>\n",
              "      <button class=\"colab-df-convert\" onclick=\"convertToInteractive('df-0903d135-9fe9-44ae-9007-bff8d86ff364')\"\n",
              "              title=\"Convert this dataframe to an interactive table.\"\n",
              "              style=\"display:none;\">\n",
              "        \n",
              "  <svg xmlns=\"http://www.w3.org/2000/svg\" height=\"24px\"viewBox=\"0 0 24 24\"\n",
              "       width=\"24px\">\n",
              "    <path d=\"M0 0h24v24H0V0z\" fill=\"none\"/>\n",
              "    <path d=\"M18.56 5.44l.94 2.06.94-2.06 2.06-.94-2.06-.94-.94-2.06-.94 2.06-2.06.94zm-11 1L8.5 8.5l.94-2.06 2.06-.94-2.06-.94L8.5 2.5l-.94 2.06-2.06.94zm10 10l.94 2.06.94-2.06 2.06-.94-2.06-.94-.94-2.06-.94 2.06-2.06.94z\"/><path d=\"M17.41 7.96l-1.37-1.37c-.4-.4-.92-.59-1.43-.59-.52 0-1.04.2-1.43.59L10.3 9.45l-7.72 7.72c-.78.78-.78 2.05 0 2.83L4 21.41c.39.39.9.59 1.41.59.51 0 1.02-.2 1.41-.59l7.78-7.78 2.81-2.81c.8-.78.8-2.07 0-2.86zM5.41 20L4 18.59l7.72-7.72 1.47 1.35L5.41 20z\"/>\n",
              "  </svg>\n",
              "      </button>\n",
              "      \n",
              "  <style>\n",
              "    .colab-df-container {\n",
              "      display:flex;\n",
              "      flex-wrap:wrap;\n",
              "      gap: 12px;\n",
              "    }\n",
              "\n",
              "    .colab-df-convert {\n",
              "      background-color: #E8F0FE;\n",
              "      border: none;\n",
              "      border-radius: 50%;\n",
              "      cursor: pointer;\n",
              "      display: none;\n",
              "      fill: #1967D2;\n",
              "      height: 32px;\n",
              "      padding: 0 0 0 0;\n",
              "      width: 32px;\n",
              "    }\n",
              "\n",
              "    .colab-df-convert:hover {\n",
              "      background-color: #E2EBFA;\n",
              "      box-shadow: 0px 1px 2px rgba(60, 64, 67, 0.3), 0px 1px 3px 1px rgba(60, 64, 67, 0.15);\n",
              "      fill: #174EA6;\n",
              "    }\n",
              "\n",
              "    [theme=dark] .colab-df-convert {\n",
              "      background-color: #3B4455;\n",
              "      fill: #D2E3FC;\n",
              "    }\n",
              "\n",
              "    [theme=dark] .colab-df-convert:hover {\n",
              "      background-color: #434B5C;\n",
              "      box-shadow: 0px 1px 3px 1px rgba(0, 0, 0, 0.15);\n",
              "      filter: drop-shadow(0px 1px 2px rgba(0, 0, 0, 0.3));\n",
              "      fill: #FFFFFF;\n",
              "    }\n",
              "  </style>\n",
              "\n",
              "      <script>\n",
              "        const buttonEl =\n",
              "          document.querySelector('#df-0903d135-9fe9-44ae-9007-bff8d86ff364 button.colab-df-convert');\n",
              "        buttonEl.style.display =\n",
              "          google.colab.kernel.accessAllowed ? 'block' : 'none';\n",
              "\n",
              "        async function convertToInteractive(key) {\n",
              "          const element = document.querySelector('#df-0903d135-9fe9-44ae-9007-bff8d86ff364');\n",
              "          const dataTable =\n",
              "            await google.colab.kernel.invokeFunction('convertToInteractive',\n",
              "                                                     [key], {});\n",
              "          if (!dataTable) return;\n",
              "\n",
              "          const docLinkHtml = 'Like what you see? Visit the ' +\n",
              "            '<a target=\"_blank\" href=https://colab.research.google.com/notebooks/data_table.ipynb>data table notebook</a>'\n",
              "            + ' to learn more about interactive tables.';\n",
              "          element.innerHTML = '';\n",
              "          dataTable['output_type'] = 'display_data';\n",
              "          await google.colab.output.renderOutput(dataTable, element);\n",
              "          const docLink = document.createElement('div');\n",
              "          docLink.innerHTML = docLinkHtml;\n",
              "          element.appendChild(docLink);\n",
              "        }\n",
              "      </script>\n",
              "    </div>\n",
              "  </div>\n",
              "  "
            ]
          },
          "metadata": {},
          "execution_count": 95
        }
      ]
    },
    {
      "cell_type": "code",
      "source": [
        "df_final['Number of Followers'] = df_final['follower ids'].apply(len)\n",
        "df_final['Number of Followings'] = df_final['following ids'].apply(len)"
      ],
      "metadata": {
        "id": "W3eV2xdl2KYc"
      },
      "execution_count": null,
      "outputs": []
    },
    {
      "cell_type": "code",
      "source": [
        "df_final"
      ],
      "metadata": {
        "colab": {
          "base_uri": "https://localhost:8080/",
          "height": 659
        },
        "id": "MfZuX8mk2VnN",
        "outputId": "f4b95241-c5b8-47b6-f478-9b0a383c5968"
      },
      "execution_count": null,
      "outputs": [
        {
          "output_type": "execute_result",
          "data": {
            "text/plain": [
              "                hashtags                                       toot details  \\\n",
              "0    lyricalmasterpieces  [{'id': 110317990660333283, 'created_at': 2023...   \n",
              "1           WindowFriday  [{'id': 110318041430372829, 'created_at': 2023...   \n",
              "2          fursuitfriday  [{'id': 110318099468592917, 'created_at': 2023...   \n",
              "4  starwarsaclassicmovie  [{'id': 110317878025889408, 'created_at': 2023...   \n",
              "6         Fensterfreitag  [{'id': 110318106076052169, 'created_at': 2023...   \n",
              "7            cincodemayo  [{'id': 110318100943843208, 'created_at': 2023...   \n",
              "8        vendredilecture  [{'id': 110318079383313960, 'created_at': 2023...   \n",
              "9                   tgif  [{'id': 110318092406867614, 'created_at': 2023...   \n",
              "\n",
              "                                           followers  \\\n",
              "0  [{'id': 109371010876960470, 'username': 'DZGri...   \n",
              "1  [{'id': 110167067154850043, 'username': 'Nooga...   \n",
              "2  [{'id': 110219380817626623, 'username': 'nerod...   \n",
              "4  [{'id': 456183, 'username': 'mikedunn', 'acct'...   \n",
              "6  [{'id': 109878474102216399, 'username': 'dmart...   \n",
              "7  [{'id': 109909566600115210, 'username': 'mrsco...   \n",
              "8  [{'id': 32668, 'username': 'fabi1cazenave', 'a...   \n",
              "9  [{'id': 110054947988430380, 'username': 'radov...   \n",
              "\n",
              "                                           following  \\\n",
              "0  [{'id': 110266162634306901, 'username': 'arste...   \n",
              "1  [{'id': 110167067154850043, 'username': 'Nooga...   \n",
              "2  [{'id': 110219380817626623, 'username': 'nerod...   \n",
              "4  [{'id': 109259296548994894, 'username': 'Missi...   \n",
              "6  [{'id': 109876167851411515, 'username': 'trend...   \n",
              "7  [{'id': 109756976051940649, 'username': 'stupi...   \n",
              "8  [{'id': 32668, 'username': 'fabi1cazenave', 'a...   \n",
              "9  [{'id': 109312832238383140, 'username': 'katch...   \n",
              "\n",
              "                                        follower ids  \\\n",
              "0  [109371010876960470, 396284, 10839012468499342...   \n",
              "1  [110167067154850043, 108772405993602191, 11014...   \n",
              "2  [110219380817626623, 110141867641812043, 11009...   \n",
              "4  [456183, 110160959680597683, 945880, 109984662...   \n",
              "6  [109878474102216399, 110238656414466451, 11025...   \n",
              "7  [109909566600115210, 109913829104871608, 11013...   \n",
              "8  [32668, 109245282227031852, 109250716074159749...   \n",
              "9  [110054947988430380, 109257083424636770, 10924...   \n",
              "\n",
              "                                       following ids  Number of Followers  \\\n",
              "0  [110266162634306901, 109297267936822269, 10968...                   15   \n",
              "1  [110167067154850043, 109856201017382355, 23479...                   40   \n",
              "2           [110219380817626623, 110141867641812043]                    4   \n",
              "4  [109259296548994894, 454842, 10819345638470212...                   23   \n",
              "6  [109876167851411515, 233670, 10925079640340214...                   40   \n",
              "7  [109756976051940649, 109362444413306972, 10988...                   40   \n",
              "8  [32668, 233670, 44440, 109244623527927045, 109...                   40   \n",
              "9                               [109312832238383140]                    4   \n",
              "\n",
              "   Number of Followings  \n",
              "0                    31  \n",
              "1                    40  \n",
              "2                     2  \n",
              "4                    28  \n",
              "6                    22  \n",
              "7                    40  \n",
              "8                    40  \n",
              "9                     1  "
            ],
            "text/html": [
              "\n",
              "  <div id=\"df-74011a7d-2fc5-45b9-b654-368492ab1456\">\n",
              "    <div class=\"colab-df-container\">\n",
              "      <div>\n",
              "<style scoped>\n",
              "    .dataframe tbody tr th:only-of-type {\n",
              "        vertical-align: middle;\n",
              "    }\n",
              "\n",
              "    .dataframe tbody tr th {\n",
              "        vertical-align: top;\n",
              "    }\n",
              "\n",
              "    .dataframe thead th {\n",
              "        text-align: right;\n",
              "    }\n",
              "</style>\n",
              "<table border=\"1\" class=\"dataframe\">\n",
              "  <thead>\n",
              "    <tr style=\"text-align: right;\">\n",
              "      <th></th>\n",
              "      <th>hashtags</th>\n",
              "      <th>toot details</th>\n",
              "      <th>followers</th>\n",
              "      <th>following</th>\n",
              "      <th>follower ids</th>\n",
              "      <th>following ids</th>\n",
              "      <th>Number of Followers</th>\n",
              "      <th>Number of Followings</th>\n",
              "    </tr>\n",
              "  </thead>\n",
              "  <tbody>\n",
              "    <tr>\n",
              "      <th>0</th>\n",
              "      <td>lyricalmasterpieces</td>\n",
              "      <td>[{'id': 110317990660333283, 'created_at': 2023...</td>\n",
              "      <td>[{'id': 109371010876960470, 'username': 'DZGri...</td>\n",
              "      <td>[{'id': 110266162634306901, 'username': 'arste...</td>\n",
              "      <td>[109371010876960470, 396284, 10839012468499342...</td>\n",
              "      <td>[110266162634306901, 109297267936822269, 10968...</td>\n",
              "      <td>15</td>\n",
              "      <td>31</td>\n",
              "    </tr>\n",
              "    <tr>\n",
              "      <th>1</th>\n",
              "      <td>WindowFriday</td>\n",
              "      <td>[{'id': 110318041430372829, 'created_at': 2023...</td>\n",
              "      <td>[{'id': 110167067154850043, 'username': 'Nooga...</td>\n",
              "      <td>[{'id': 110167067154850043, 'username': 'Nooga...</td>\n",
              "      <td>[110167067154850043, 108772405993602191, 11014...</td>\n",
              "      <td>[110167067154850043, 109856201017382355, 23479...</td>\n",
              "      <td>40</td>\n",
              "      <td>40</td>\n",
              "    </tr>\n",
              "    <tr>\n",
              "      <th>2</th>\n",
              "      <td>fursuitfriday</td>\n",
              "      <td>[{'id': 110318099468592917, 'created_at': 2023...</td>\n",
              "      <td>[{'id': 110219380817626623, 'username': 'nerod...</td>\n",
              "      <td>[{'id': 110219380817626623, 'username': 'nerod...</td>\n",
              "      <td>[110219380817626623, 110141867641812043, 11009...</td>\n",
              "      <td>[110219380817626623, 110141867641812043]</td>\n",
              "      <td>4</td>\n",
              "      <td>2</td>\n",
              "    </tr>\n",
              "    <tr>\n",
              "      <th>4</th>\n",
              "      <td>starwarsaclassicmovie</td>\n",
              "      <td>[{'id': 110317878025889408, 'created_at': 2023...</td>\n",
              "      <td>[{'id': 456183, 'username': 'mikedunn', 'acct'...</td>\n",
              "      <td>[{'id': 109259296548994894, 'username': 'Missi...</td>\n",
              "      <td>[456183, 110160959680597683, 945880, 109984662...</td>\n",
              "      <td>[109259296548994894, 454842, 10819345638470212...</td>\n",
              "      <td>23</td>\n",
              "      <td>28</td>\n",
              "    </tr>\n",
              "    <tr>\n",
              "      <th>6</th>\n",
              "      <td>Fensterfreitag</td>\n",
              "      <td>[{'id': 110318106076052169, 'created_at': 2023...</td>\n",
              "      <td>[{'id': 109878474102216399, 'username': 'dmart...</td>\n",
              "      <td>[{'id': 109876167851411515, 'username': 'trend...</td>\n",
              "      <td>[109878474102216399, 110238656414466451, 11025...</td>\n",
              "      <td>[109876167851411515, 233670, 10925079640340214...</td>\n",
              "      <td>40</td>\n",
              "      <td>22</td>\n",
              "    </tr>\n",
              "    <tr>\n",
              "      <th>7</th>\n",
              "      <td>cincodemayo</td>\n",
              "      <td>[{'id': 110318100943843208, 'created_at': 2023...</td>\n",
              "      <td>[{'id': 109909566600115210, 'username': 'mrsco...</td>\n",
              "      <td>[{'id': 109756976051940649, 'username': 'stupi...</td>\n",
              "      <td>[109909566600115210, 109913829104871608, 11013...</td>\n",
              "      <td>[109756976051940649, 109362444413306972, 10988...</td>\n",
              "      <td>40</td>\n",
              "      <td>40</td>\n",
              "    </tr>\n",
              "    <tr>\n",
              "      <th>8</th>\n",
              "      <td>vendredilecture</td>\n",
              "      <td>[{'id': 110318079383313960, 'created_at': 2023...</td>\n",
              "      <td>[{'id': 32668, 'username': 'fabi1cazenave', 'a...</td>\n",
              "      <td>[{'id': 32668, 'username': 'fabi1cazenave', 'a...</td>\n",
              "      <td>[32668, 109245282227031852, 109250716074159749...</td>\n",
              "      <td>[32668, 233670, 44440, 109244623527927045, 109...</td>\n",
              "      <td>40</td>\n",
              "      <td>40</td>\n",
              "    </tr>\n",
              "    <tr>\n",
              "      <th>9</th>\n",
              "      <td>tgif</td>\n",
              "      <td>[{'id': 110318092406867614, 'created_at': 2023...</td>\n",
              "      <td>[{'id': 110054947988430380, 'username': 'radov...</td>\n",
              "      <td>[{'id': 109312832238383140, 'username': 'katch...</td>\n",
              "      <td>[110054947988430380, 109257083424636770, 10924...</td>\n",
              "      <td>[109312832238383140]</td>\n",
              "      <td>4</td>\n",
              "      <td>1</td>\n",
              "    </tr>\n",
              "  </tbody>\n",
              "</table>\n",
              "</div>\n",
              "      <button class=\"colab-df-convert\" onclick=\"convertToInteractive('df-74011a7d-2fc5-45b9-b654-368492ab1456')\"\n",
              "              title=\"Convert this dataframe to an interactive table.\"\n",
              "              style=\"display:none;\">\n",
              "        \n",
              "  <svg xmlns=\"http://www.w3.org/2000/svg\" height=\"24px\"viewBox=\"0 0 24 24\"\n",
              "       width=\"24px\">\n",
              "    <path d=\"M0 0h24v24H0V0z\" fill=\"none\"/>\n",
              "    <path d=\"M18.56 5.44l.94 2.06.94-2.06 2.06-.94-2.06-.94-.94-2.06-.94 2.06-2.06.94zm-11 1L8.5 8.5l.94-2.06 2.06-.94-2.06-.94L8.5 2.5l-.94 2.06-2.06.94zm10 10l.94 2.06.94-2.06 2.06-.94-2.06-.94-.94-2.06-.94 2.06-2.06.94z\"/><path d=\"M17.41 7.96l-1.37-1.37c-.4-.4-.92-.59-1.43-.59-.52 0-1.04.2-1.43.59L10.3 9.45l-7.72 7.72c-.78.78-.78 2.05 0 2.83L4 21.41c.39.39.9.59 1.41.59.51 0 1.02-.2 1.41-.59l7.78-7.78 2.81-2.81c.8-.78.8-2.07 0-2.86zM5.41 20L4 18.59l7.72-7.72 1.47 1.35L5.41 20z\"/>\n",
              "  </svg>\n",
              "      </button>\n",
              "      \n",
              "  <style>\n",
              "    .colab-df-container {\n",
              "      display:flex;\n",
              "      flex-wrap:wrap;\n",
              "      gap: 12px;\n",
              "    }\n",
              "\n",
              "    .colab-df-convert {\n",
              "      background-color: #E8F0FE;\n",
              "      border: none;\n",
              "      border-radius: 50%;\n",
              "      cursor: pointer;\n",
              "      display: none;\n",
              "      fill: #1967D2;\n",
              "      height: 32px;\n",
              "      padding: 0 0 0 0;\n",
              "      width: 32px;\n",
              "    }\n",
              "\n",
              "    .colab-df-convert:hover {\n",
              "      background-color: #E2EBFA;\n",
              "      box-shadow: 0px 1px 2px rgba(60, 64, 67, 0.3), 0px 1px 3px 1px rgba(60, 64, 67, 0.15);\n",
              "      fill: #174EA6;\n",
              "    }\n",
              "\n",
              "    [theme=dark] .colab-df-convert {\n",
              "      background-color: #3B4455;\n",
              "      fill: #D2E3FC;\n",
              "    }\n",
              "\n",
              "    [theme=dark] .colab-df-convert:hover {\n",
              "      background-color: #434B5C;\n",
              "      box-shadow: 0px 1px 3px 1px rgba(0, 0, 0, 0.15);\n",
              "      filter: drop-shadow(0px 1px 2px rgba(0, 0, 0, 0.3));\n",
              "      fill: #FFFFFF;\n",
              "    }\n",
              "  </style>\n",
              "\n",
              "      <script>\n",
              "        const buttonEl =\n",
              "          document.querySelector('#df-74011a7d-2fc5-45b9-b654-368492ab1456 button.colab-df-convert');\n",
              "        buttonEl.style.display =\n",
              "          google.colab.kernel.accessAllowed ? 'block' : 'none';\n",
              "\n",
              "        async function convertToInteractive(key) {\n",
              "          const element = document.querySelector('#df-74011a7d-2fc5-45b9-b654-368492ab1456');\n",
              "          const dataTable =\n",
              "            await google.colab.kernel.invokeFunction('convertToInteractive',\n",
              "                                                     [key], {});\n",
              "          if (!dataTable) return;\n",
              "\n",
              "          const docLinkHtml = 'Like what you see? Visit the ' +\n",
              "            '<a target=\"_blank\" href=https://colab.research.google.com/notebooks/data_table.ipynb>data table notebook</a>'\n",
              "            + ' to learn more about interactive tables.';\n",
              "          element.innerHTML = '';\n",
              "          dataTable['output_type'] = 'display_data';\n",
              "          await google.colab.output.renderOutput(dataTable, element);\n",
              "          const docLink = document.createElement('div');\n",
              "          docLink.innerHTML = docLinkHtml;\n",
              "          element.appendChild(docLink);\n",
              "        }\n",
              "      </script>\n",
              "    </div>\n",
              "  </div>\n",
              "  "
            ]
          },
          "metadata": {},
          "execution_count": 118
        }
      ]
    },
    {
      "cell_type": "code",
      "source": [
        "import csv\n",
        "import networkx as nx\n",
        "import ast \n",
        "filename = 'FollowerFinal.csv'\n",
        "output = []\n",
        "G = nx.Graph()\n",
        "# open the CSV file and read each row\n",
        "with open('HashFollowerFinal.csv') as csvfile:\n",
        "    csv_reader = csv.reader(csvfile, delimiter=',', skipinitialspace=True)\n",
        "    next(csv_reader, None)  # skip header\n",
        "    for row in csv_reader:\n",
        "        target_list = ast.literal_eval(row[2])\n",
        "        for target in target_list:\n",
        "            output.append([row[1], str(target)])"
      ],
      "metadata": {
        "id": "hyTl59dg2oKp"
      },
      "execution_count": null,
      "outputs": []
    },
    {
      "cell_type": "code",
      "source": [
        "G.add_edges_from(output)"
      ],
      "metadata": {
        "id": "Mg_iOozb229z"
      },
      "execution_count": null,
      "outputs": []
    },
    {
      "cell_type": "code",
      "source": [
        "output2= []\n",
        "with open('HashFollowingFinal.csv') as csvfile:\n",
        "    csv_reader = csv.reader(csvfile, delimiter=',', skipinitialspace=True)\n",
        "    next(csv_reader, None)  # skip header\n",
        "    for row in csv_reader:\n",
        "        target_list = ast.literal_eval(row[2])\n",
        "        for target in target_list:\n",
        "            output2.append([row[1], str(target)])"
      ],
      "metadata": {
        "id": "DRr3CA5o2oOz"
      },
      "execution_count": null,
      "outputs": []
    },
    {
      "cell_type": "code",
      "source": [
        "G.add_edges_from(output2)"
      ],
      "metadata": {
        "id": "rt3KCtng26Q8"
      },
      "execution_count": null,
      "outputs": []
    },
    {
      "cell_type": "code",
      "source": [
        "G.number_of_nodes()"
      ],
      "metadata": {
        "colab": {
          "base_uri": "https://localhost:8080/"
        },
        "id": "BXWaAmcL26YW",
        "outputId": "99368b20-7074-4150-8ffb-989a5fc40feb"
      },
      "execution_count": null,
      "outputs": [
        {
          "output_type": "execute_result",
          "data": {
            "text/plain": [
              "342"
            ]
          },
          "metadata": {},
          "execution_count": 106
        }
      ]
    },
    {
      "cell_type": "code",
      "source": [
        "G.number_of_edges()"
      ],
      "metadata": {
        "colab": {
          "base_uri": "https://localhost:8080/"
        },
        "id": "t6u-Rpcd26dc",
        "outputId": "d646dac3-6dee-4e01-abc2-114e9a9300f1"
      },
      "execution_count": null,
      "outputs": [
        {
          "output_type": "execute_result",
          "data": {
            "text/plain": [
              "349"
            ]
          },
          "metadata": {},
          "execution_count": 108
        }
      ]
    },
    {
      "cell_type": "code",
      "source": [
        "connected_comp = list(nx.connected_components(G))\n",
        "l_cc = max(connected_comp, key=len)\n",
        "sub_graph = G.subgraph(l_cc)"
      ],
      "metadata": {
        "id": "Kj-3TIxE26hN"
      },
      "execution_count": null,
      "outputs": []
    },
    {
      "cell_type": "code",
      "source": [
        "# Get the degree sequence of the graph\n",
        "degree_sequence = [d for n, d in sub_graph.degree()]\n",
        "\n",
        "# Calculate the degree distribution as a dictionary\n",
        "degree_distribution = {}\n",
        "for degree in degree_sequence:\n",
        "    if degree in degree_distribution:\n",
        "        degree_distribution[degree] += 1\n",
        "    else:\n",
        "        degree_distribution[degree] = 1\n",
        "\n",
        "# Normalize the degree distribution by dividing by the number of nodes\n",
        "n_nodes = sub_graph.number_of_nodes()\n",
        "for degree in degree_distribution:\n",
        "    degree_distribution[degree] /= n_nodes"
      ],
      "metadata": {
        "id": "XRoFRHqS26mU"
      },
      "execution_count": null,
      "outputs": []
    },
    {
      "cell_type": "code",
      "source": [
        "degree_distribution"
      ],
      "metadata": {
        "colab": {
          "base_uri": "https://localhost:8080/"
        },
        "id": "Rv-nq6yi3JFR",
        "outputId": "aaaf2d76-0e6d-4359-87d2-fb12bf00240e"
      },
      "execution_count": null,
      "outputs": [
        {
          "output_type": "execute_result",
          "data": {
            "text/plain": [
              "{42: 0.0030120481927710845,\n",
              " 1: 0.9427710843373494,\n",
              " 2: 0.03313253012048193,\n",
              " 64: 0.0030120481927710845,\n",
              " 3: 0.006024096385542169,\n",
              " 43: 0.0030120481927710845,\n",
              " 60: 0.0030120481927710845,\n",
              " 67: 0.0030120481927710845,\n",
              " 65: 0.0030120481927710845}"
            ]
          },
          "metadata": {},
          "execution_count": 111
        }
      ]
    },
    {
      "cell_type": "code",
      "source": [
        "timeline_data = pd.read_csv('Timeline_data.csv')\n",
        "timeline_data = timeline_data.drop([\"Unnamed: 0\"], axis=1)"
      ],
      "metadata": {
        "id": "W-5QRmmSCTj7"
      },
      "execution_count": null,
      "outputs": []
    },
    {
      "cell_type": "code",
      "source": [
        "df_random = timeline_data.sample(n=7000, random_state=42)"
      ],
      "metadata": {
        "id": "XeSRzcY6CVXg"
      },
      "execution_count": null,
      "outputs": []
    },
    {
      "cell_type": "code",
      "source": [
        "from mastodon.media import MastodonAPIError\n",
        "post_ids = df_random[\"Post id\"]\n",
        "status_reblogged_by_id = [] \n",
        "for i in range(0, len(post_ids)):\n",
        "  try: \n",
        "    status_reblogged_by_id.append(m.status_reblogged_by(str(post_ids[i]))) \n",
        "  except: \n",
        "    status_reblogged_by_id.append('0')"
      ],
      "metadata": {
        "id": "tdxGIj3RCXLm"
      },
      "execution_count": null,
      "outputs": []
    },
    {
      "cell_type": "code",
      "source": [
        "df_random[\"toot reblog details\"] = status_reblogged_by_id"
      ],
      "metadata": {
        "id": "bSGXnREICw4e"
      },
      "execution_count": null,
      "outputs": []
    },
    {
      "cell_type": "code",
      "source": [
        "df_new = df_random[df_random['toot reblog details'] != '0']"
      ],
      "metadata": {
        "id": "eqNZDYpMLscB"
      },
      "execution_count": null,
      "outputs": []
    },
    {
      "cell_type": "code",
      "source": [
        "df_new2 = df_new[df_new['toot reblog details'].apply(lambda x: len(x)) > 0]"
      ],
      "metadata": {
        "id": "MgbLLc_iLtuJ"
      },
      "execution_count": null,
      "outputs": []
    },
    {
      "cell_type": "code",
      "source": [
        "df_new2"
      ],
      "metadata": {
        "colab": {
          "base_uri": "https://localhost:8080/",
          "height": 423
        },
        "id": "lUJpreVZMea9",
        "outputId": "b74b7673-6606-4d22-8f9f-8982747a0740"
      },
      "execution_count": null,
      "outputs": [
        {
          "output_type": "execute_result",
          "data": {
            "text/plain": [
              "          Source User id   Source Username             Post id  \\\n",
              "5272  109956450497135672            riadsb  110248989324234911   \n",
              "9930  110249082037999006         Dexter666  110249152625195275   \n",
              "4949  108399158663389582  oonishiyoshikazu  110248978181712680   \n",
              "3337  109832884388312174         djxspeedy  110248923978810381   \n",
              "3465  109251428687235255           Zehavoc  110248925905945468   \n",
              "...                  ...               ...                 ...   \n",
              "7512  107374594614902666         karatekid  110249065651348427   \n",
              "5410  110248908432910380          zackbook  110248997770257394   \n",
              "4536  109246863390341857     broadwayworld  110248966265194879   \n",
              "4378  109865255676549332             lokan  110248960361500650   \n",
              "578   110107001190636482        partei_dkp  110248828939493452   \n",
              "\n",
              "                                    toot reblog details  \n",
              "5272  [{'id': 110247763830671684, 'username': 'jarek...  \n",
              "9930  [{'id': 110010770814237500, 'username': 'fotbo...  \n",
              "4949  [{'id': 109325122562830634, 'username': 'Kenny...  \n",
              "3337  [{'id': 109311607475281635, 'username': 'angel...  \n",
              "3465  [{'id': 109552937136523889, 'username': 'ruthl...  \n",
              "...                                                 ...  \n",
              "7512  [{'id': 109331994992911002, 'username': 'snoow...  \n",
              "5410  [{'id': 108195613849723859, 'username': 'geolo...  \n",
              "4536  [{'id': 109376302454934066, 'username': 'NoahS...  \n",
              "4378  [{'id': 110261937211360293, 'username': 'CTGT'...  \n",
              "578   [{'id': 109306547034632236, 'username': 'MattS...  \n",
              "\n",
              "[940 rows x 4 columns]"
            ],
            "text/html": [
              "\n",
              "  <div id=\"df-3dc236f4-e643-4854-88c7-4484f94f6334\">\n",
              "    <div class=\"colab-df-container\">\n",
              "      <div>\n",
              "<style scoped>\n",
              "    .dataframe tbody tr th:only-of-type {\n",
              "        vertical-align: middle;\n",
              "    }\n",
              "\n",
              "    .dataframe tbody tr th {\n",
              "        vertical-align: top;\n",
              "    }\n",
              "\n",
              "    .dataframe thead th {\n",
              "        text-align: right;\n",
              "    }\n",
              "</style>\n",
              "<table border=\"1\" class=\"dataframe\">\n",
              "  <thead>\n",
              "    <tr style=\"text-align: right;\">\n",
              "      <th></th>\n",
              "      <th>Source User id</th>\n",
              "      <th>Source Username</th>\n",
              "      <th>Post id</th>\n",
              "      <th>toot reblog details</th>\n",
              "    </tr>\n",
              "  </thead>\n",
              "  <tbody>\n",
              "    <tr>\n",
              "      <th>5272</th>\n",
              "      <td>109956450497135672</td>\n",
              "      <td>riadsb</td>\n",
              "      <td>110248989324234911</td>\n",
              "      <td>[{'id': 110247763830671684, 'username': 'jarek...</td>\n",
              "    </tr>\n",
              "    <tr>\n",
              "      <th>9930</th>\n",
              "      <td>110249082037999006</td>\n",
              "      <td>Dexter666</td>\n",
              "      <td>110249152625195275</td>\n",
              "      <td>[{'id': 110010770814237500, 'username': 'fotbo...</td>\n",
              "    </tr>\n",
              "    <tr>\n",
              "      <th>4949</th>\n",
              "      <td>108399158663389582</td>\n",
              "      <td>oonishiyoshikazu</td>\n",
              "      <td>110248978181712680</td>\n",
              "      <td>[{'id': 109325122562830634, 'username': 'Kenny...</td>\n",
              "    </tr>\n",
              "    <tr>\n",
              "      <th>3337</th>\n",
              "      <td>109832884388312174</td>\n",
              "      <td>djxspeedy</td>\n",
              "      <td>110248923978810381</td>\n",
              "      <td>[{'id': 109311607475281635, 'username': 'angel...</td>\n",
              "    </tr>\n",
              "    <tr>\n",
              "      <th>3465</th>\n",
              "      <td>109251428687235255</td>\n",
              "      <td>Zehavoc</td>\n",
              "      <td>110248925905945468</td>\n",
              "      <td>[{'id': 109552937136523889, 'username': 'ruthl...</td>\n",
              "    </tr>\n",
              "    <tr>\n",
              "      <th>...</th>\n",
              "      <td>...</td>\n",
              "      <td>...</td>\n",
              "      <td>...</td>\n",
              "      <td>...</td>\n",
              "    </tr>\n",
              "    <tr>\n",
              "      <th>7512</th>\n",
              "      <td>107374594614902666</td>\n",
              "      <td>karatekid</td>\n",
              "      <td>110249065651348427</td>\n",
              "      <td>[{'id': 109331994992911002, 'username': 'snoow...</td>\n",
              "    </tr>\n",
              "    <tr>\n",
              "      <th>5410</th>\n",
              "      <td>110248908432910380</td>\n",
              "      <td>zackbook</td>\n",
              "      <td>110248997770257394</td>\n",
              "      <td>[{'id': 108195613849723859, 'username': 'geolo...</td>\n",
              "    </tr>\n",
              "    <tr>\n",
              "      <th>4536</th>\n",
              "      <td>109246863390341857</td>\n",
              "      <td>broadwayworld</td>\n",
              "      <td>110248966265194879</td>\n",
              "      <td>[{'id': 109376302454934066, 'username': 'NoahS...</td>\n",
              "    </tr>\n",
              "    <tr>\n",
              "      <th>4378</th>\n",
              "      <td>109865255676549332</td>\n",
              "      <td>lokan</td>\n",
              "      <td>110248960361500650</td>\n",
              "      <td>[{'id': 110261937211360293, 'username': 'CTGT'...</td>\n",
              "    </tr>\n",
              "    <tr>\n",
              "      <th>578</th>\n",
              "      <td>110107001190636482</td>\n",
              "      <td>partei_dkp</td>\n",
              "      <td>110248828939493452</td>\n",
              "      <td>[{'id': 109306547034632236, 'username': 'MattS...</td>\n",
              "    </tr>\n",
              "  </tbody>\n",
              "</table>\n",
              "<p>940 rows × 4 columns</p>\n",
              "</div>\n",
              "      <button class=\"colab-df-convert\" onclick=\"convertToInteractive('df-3dc236f4-e643-4854-88c7-4484f94f6334')\"\n",
              "              title=\"Convert this dataframe to an interactive table.\"\n",
              "              style=\"display:none;\">\n",
              "        \n",
              "  <svg xmlns=\"http://www.w3.org/2000/svg\" height=\"24px\"viewBox=\"0 0 24 24\"\n",
              "       width=\"24px\">\n",
              "    <path d=\"M0 0h24v24H0V0z\" fill=\"none\"/>\n",
              "    <path d=\"M18.56 5.44l.94 2.06.94-2.06 2.06-.94-2.06-.94-.94-2.06-.94 2.06-2.06.94zm-11 1L8.5 8.5l.94-2.06 2.06-.94-2.06-.94L8.5 2.5l-.94 2.06-2.06.94zm10 10l.94 2.06.94-2.06 2.06-.94-2.06-.94-.94-2.06-.94 2.06-2.06.94z\"/><path d=\"M17.41 7.96l-1.37-1.37c-.4-.4-.92-.59-1.43-.59-.52 0-1.04.2-1.43.59L10.3 9.45l-7.72 7.72c-.78.78-.78 2.05 0 2.83L4 21.41c.39.39.9.59 1.41.59.51 0 1.02-.2 1.41-.59l7.78-7.78 2.81-2.81c.8-.78.8-2.07 0-2.86zM5.41 20L4 18.59l7.72-7.72 1.47 1.35L5.41 20z\"/>\n",
              "  </svg>\n",
              "      </button>\n",
              "      \n",
              "  <style>\n",
              "    .colab-df-container {\n",
              "      display:flex;\n",
              "      flex-wrap:wrap;\n",
              "      gap: 12px;\n",
              "    }\n",
              "\n",
              "    .colab-df-convert {\n",
              "      background-color: #E8F0FE;\n",
              "      border: none;\n",
              "      border-radius: 50%;\n",
              "      cursor: pointer;\n",
              "      display: none;\n",
              "      fill: #1967D2;\n",
              "      height: 32px;\n",
              "      padding: 0 0 0 0;\n",
              "      width: 32px;\n",
              "    }\n",
              "\n",
              "    .colab-df-convert:hover {\n",
              "      background-color: #E2EBFA;\n",
              "      box-shadow: 0px 1px 2px rgba(60, 64, 67, 0.3), 0px 1px 3px 1px rgba(60, 64, 67, 0.15);\n",
              "      fill: #174EA6;\n",
              "    }\n",
              "\n",
              "    [theme=dark] .colab-df-convert {\n",
              "      background-color: #3B4455;\n",
              "      fill: #D2E3FC;\n",
              "    }\n",
              "\n",
              "    [theme=dark] .colab-df-convert:hover {\n",
              "      background-color: #434B5C;\n",
              "      box-shadow: 0px 1px 3px 1px rgba(0, 0, 0, 0.15);\n",
              "      filter: drop-shadow(0px 1px 2px rgba(0, 0, 0, 0.3));\n",
              "      fill: #FFFFFF;\n",
              "    }\n",
              "  </style>\n",
              "\n",
              "      <script>\n",
              "        const buttonEl =\n",
              "          document.querySelector('#df-3dc236f4-e643-4854-88c7-4484f94f6334 button.colab-df-convert');\n",
              "        buttonEl.style.display =\n",
              "          google.colab.kernel.accessAllowed ? 'block' : 'none';\n",
              "\n",
              "        async function convertToInteractive(key) {\n",
              "          const element = document.querySelector('#df-3dc236f4-e643-4854-88c7-4484f94f6334');\n",
              "          const dataTable =\n",
              "            await google.colab.kernel.invokeFunction('convertToInteractive',\n",
              "                                                     [key], {});\n",
              "          if (!dataTable) return;\n",
              "\n",
              "          const docLinkHtml = 'Like what you see? Visit the ' +\n",
              "            '<a target=\"_blank\" href=https://colab.research.google.com/notebooks/data_table.ipynb>data table notebook</a>'\n",
              "            + ' to learn more about interactive tables.';\n",
              "          element.innerHTML = '';\n",
              "          dataTable['output_type'] = 'display_data';\n",
              "          await google.colab.output.renderOutput(dataTable, element);\n",
              "          const docLink = document.createElement('div');\n",
              "          docLink.innerHTML = docLinkHtml;\n",
              "          element.appendChild(docLink);\n",
              "        }\n",
              "      </script>\n",
              "    </div>\n",
              "  </div>\n",
              "  "
            ]
          },
          "metadata": {},
          "execution_count": 10
        }
      ]
    },
    {
      "cell_type": "code",
      "source": [
        "reblogger_list = df_new2[\"toot reblog details\"]\n",
        "\n",
        "reblogger_id = []\n",
        "for item in reblogger_list:\n",
        "    if isinstance(item, list) and all(isinstance(elem, dict) and 'id' in elem for elem in item):\n",
        "        reblogger_id.append([elem['id'] for elem in item])\n",
        "    elif isinstance(item, dict) and 'id' in item:\n",
        "        reblogger_id.append(item['id'])"
      ],
      "metadata": {
        "id": "ys_vxy1uMfKY"
      },
      "execution_count": null,
      "outputs": []
    },
    {
      "cell_type": "code",
      "source": [
        "df_new2[\"reblogger ids\"] = reblogger_id"
      ],
      "metadata": {
        "colab": {
          "base_uri": "https://localhost:8080/"
        },
        "id": "j3Gxsf5sMiF8",
        "outputId": "41ac787b-2921-41ec-8523-b1b00193080f"
      },
      "execution_count": null,
      "outputs": [
        {
          "output_type": "stream",
          "name": "stderr",
          "text": [
            "<ipython-input-12-387e207b487c>:1: SettingWithCopyWarning: \n",
            "A value is trying to be set on a copy of a slice from a DataFrame.\n",
            "Try using .loc[row_indexer,col_indexer] = value instead\n",
            "\n",
            "See the caveats in the documentation: https://pandas.pydata.org/pandas-docs/stable/user_guide/indexing.html#returning-a-view-versus-a-copy\n",
            "  df_new2[\"reblogger ids\"] = reblogger_id\n"
          ]
        }
      ]
    },
    {
      "cell_type": "code",
      "source": [
        "df_new2.head() "
      ],
      "metadata": {
        "colab": {
          "base_uri": "https://localhost:8080/",
          "height": 354
        },
        "id": "52KjXPQcNclJ",
        "outputId": "54663435-478c-43f1-aa14-27e52c937b9e"
      },
      "execution_count": null,
      "outputs": [
        {
          "output_type": "execute_result",
          "data": {
            "text/plain": [
              "          Source User id   Source Username             Post id  \\\n",
              "5272  109956450497135672            riadsb  110248989324234911   \n",
              "9930  110249082037999006         Dexter666  110249152625195275   \n",
              "4949  108399158663389582  oonishiyoshikazu  110248978181712680   \n",
              "3337  109832884388312174         djxspeedy  110248923978810381   \n",
              "3465  109251428687235255           Zehavoc  110248925905945468   \n",
              "\n",
              "                                    toot reblog details  \\\n",
              "5272  [{'id': 110247763830671684, 'username': 'jarek...   \n",
              "9930  [{'id': 110010770814237500, 'username': 'fotbo...   \n",
              "4949  [{'id': 109325122562830634, 'username': 'Kenny...   \n",
              "3337  [{'id': 109311607475281635, 'username': 'angel...   \n",
              "3465  [{'id': 109552937136523889, 'username': 'ruthl...   \n",
              "\n",
              "                                          reblogger ids  \n",
              "5272                               [110247763830671684]  \n",
              "9930  [110010770814237500, 110004488279938467, 10928...  \n",
              "4949                               [109325122562830634]  \n",
              "3337           [109311607475281635, 109949336425730536]  \n",
              "3465  [109552937136523889, 109430043145370587, 10924...  "
            ],
            "text/html": [
              "\n",
              "  <div id=\"df-77024cc3-71e1-490c-acac-af3ff03b55ad\">\n",
              "    <div class=\"colab-df-container\">\n",
              "      <div>\n",
              "<style scoped>\n",
              "    .dataframe tbody tr th:only-of-type {\n",
              "        vertical-align: middle;\n",
              "    }\n",
              "\n",
              "    .dataframe tbody tr th {\n",
              "        vertical-align: top;\n",
              "    }\n",
              "\n",
              "    .dataframe thead th {\n",
              "        text-align: right;\n",
              "    }\n",
              "</style>\n",
              "<table border=\"1\" class=\"dataframe\">\n",
              "  <thead>\n",
              "    <tr style=\"text-align: right;\">\n",
              "      <th></th>\n",
              "      <th>Source User id</th>\n",
              "      <th>Source Username</th>\n",
              "      <th>Post id</th>\n",
              "      <th>toot reblog details</th>\n",
              "      <th>reblogger ids</th>\n",
              "    </tr>\n",
              "  </thead>\n",
              "  <tbody>\n",
              "    <tr>\n",
              "      <th>5272</th>\n",
              "      <td>109956450497135672</td>\n",
              "      <td>riadsb</td>\n",
              "      <td>110248989324234911</td>\n",
              "      <td>[{'id': 110247763830671684, 'username': 'jarek...</td>\n",
              "      <td>[110247763830671684]</td>\n",
              "    </tr>\n",
              "    <tr>\n",
              "      <th>9930</th>\n",
              "      <td>110249082037999006</td>\n",
              "      <td>Dexter666</td>\n",
              "      <td>110249152625195275</td>\n",
              "      <td>[{'id': 110010770814237500, 'username': 'fotbo...</td>\n",
              "      <td>[110010770814237500, 110004488279938467, 10928...</td>\n",
              "    </tr>\n",
              "    <tr>\n",
              "      <th>4949</th>\n",
              "      <td>108399158663389582</td>\n",
              "      <td>oonishiyoshikazu</td>\n",
              "      <td>110248978181712680</td>\n",
              "      <td>[{'id': 109325122562830634, 'username': 'Kenny...</td>\n",
              "      <td>[109325122562830634]</td>\n",
              "    </tr>\n",
              "    <tr>\n",
              "      <th>3337</th>\n",
              "      <td>109832884388312174</td>\n",
              "      <td>djxspeedy</td>\n",
              "      <td>110248923978810381</td>\n",
              "      <td>[{'id': 109311607475281635, 'username': 'angel...</td>\n",
              "      <td>[109311607475281635, 109949336425730536]</td>\n",
              "    </tr>\n",
              "    <tr>\n",
              "      <th>3465</th>\n",
              "      <td>109251428687235255</td>\n",
              "      <td>Zehavoc</td>\n",
              "      <td>110248925905945468</td>\n",
              "      <td>[{'id': 109552937136523889, 'username': 'ruthl...</td>\n",
              "      <td>[109552937136523889, 109430043145370587, 10924...</td>\n",
              "    </tr>\n",
              "  </tbody>\n",
              "</table>\n",
              "</div>\n",
              "      <button class=\"colab-df-convert\" onclick=\"convertToInteractive('df-77024cc3-71e1-490c-acac-af3ff03b55ad')\"\n",
              "              title=\"Convert this dataframe to an interactive table.\"\n",
              "              style=\"display:none;\">\n",
              "        \n",
              "  <svg xmlns=\"http://www.w3.org/2000/svg\" height=\"24px\"viewBox=\"0 0 24 24\"\n",
              "       width=\"24px\">\n",
              "    <path d=\"M0 0h24v24H0V0z\" fill=\"none\"/>\n",
              "    <path d=\"M18.56 5.44l.94 2.06.94-2.06 2.06-.94-2.06-.94-.94-2.06-.94 2.06-2.06.94zm-11 1L8.5 8.5l.94-2.06 2.06-.94-2.06-.94L8.5 2.5l-.94 2.06-2.06.94zm10 10l.94 2.06.94-2.06 2.06-.94-2.06-.94-.94-2.06-.94 2.06-2.06.94z\"/><path d=\"M17.41 7.96l-1.37-1.37c-.4-.4-.92-.59-1.43-.59-.52 0-1.04.2-1.43.59L10.3 9.45l-7.72 7.72c-.78.78-.78 2.05 0 2.83L4 21.41c.39.39.9.59 1.41.59.51 0 1.02-.2 1.41-.59l7.78-7.78 2.81-2.81c.8-.78.8-2.07 0-2.86zM5.41 20L4 18.59l7.72-7.72 1.47 1.35L5.41 20z\"/>\n",
              "  </svg>\n",
              "      </button>\n",
              "      \n",
              "  <style>\n",
              "    .colab-df-container {\n",
              "      display:flex;\n",
              "      flex-wrap:wrap;\n",
              "      gap: 12px;\n",
              "    }\n",
              "\n",
              "    .colab-df-convert {\n",
              "      background-color: #E8F0FE;\n",
              "      border: none;\n",
              "      border-radius: 50%;\n",
              "      cursor: pointer;\n",
              "      display: none;\n",
              "      fill: #1967D2;\n",
              "      height: 32px;\n",
              "      padding: 0 0 0 0;\n",
              "      width: 32px;\n",
              "    }\n",
              "\n",
              "    .colab-df-convert:hover {\n",
              "      background-color: #E2EBFA;\n",
              "      box-shadow: 0px 1px 2px rgba(60, 64, 67, 0.3), 0px 1px 3px 1px rgba(60, 64, 67, 0.15);\n",
              "      fill: #174EA6;\n",
              "    }\n",
              "\n",
              "    [theme=dark] .colab-df-convert {\n",
              "      background-color: #3B4455;\n",
              "      fill: #D2E3FC;\n",
              "    }\n",
              "\n",
              "    [theme=dark] .colab-df-convert:hover {\n",
              "      background-color: #434B5C;\n",
              "      box-shadow: 0px 1px 3px 1px rgba(0, 0, 0, 0.15);\n",
              "      filter: drop-shadow(0px 1px 2px rgba(0, 0, 0, 0.3));\n",
              "      fill: #FFFFFF;\n",
              "    }\n",
              "  </style>\n",
              "\n",
              "      <script>\n",
              "        const buttonEl =\n",
              "          document.querySelector('#df-77024cc3-71e1-490c-acac-af3ff03b55ad button.colab-df-convert');\n",
              "        buttonEl.style.display =\n",
              "          google.colab.kernel.accessAllowed ? 'block' : 'none';\n",
              "\n",
              "        async function convertToInteractive(key) {\n",
              "          const element = document.querySelector('#df-77024cc3-71e1-490c-acac-af3ff03b55ad');\n",
              "          const dataTable =\n",
              "            await google.colab.kernel.invokeFunction('convertToInteractive',\n",
              "                                                     [key], {});\n",
              "          if (!dataTable) return;\n",
              "\n",
              "          const docLinkHtml = 'Like what you see? Visit the ' +\n",
              "            '<a target=\"_blank\" href=https://colab.research.google.com/notebooks/data_table.ipynb>data table notebook</a>'\n",
              "            + ' to learn more about interactive tables.';\n",
              "          element.innerHTML = '';\n",
              "          dataTable['output_type'] = 'display_data';\n",
              "          await google.colab.output.renderOutput(dataTable, element);\n",
              "          const docLink = document.createElement('div');\n",
              "          docLink.innerHTML = docLinkHtml;\n",
              "          element.appendChild(docLink);\n",
              "        }\n",
              "      </script>\n",
              "    </div>\n",
              "  </div>\n",
              "  "
            ]
          },
          "metadata": {},
          "execution_count": 13
        }
      ]
    },
    {
      "cell_type": "code",
      "source": [
        "reblog = df_new2[[\"Source User id\", \"reblogger ids\"]]\n",
        "reblog.to_csv(\"tootReblog.csv\")"
      ],
      "metadata": {
        "id": "4sOdUSs4Nd49"
      },
      "execution_count": null,
      "outputs": []
    },
    {
      "cell_type": "code",
      "source": [
        "import csv\n",
        "import ast \n",
        "filename = 'tootReblog.csv'\n",
        "output = []\n",
        "G = nx.Graph()\n",
        "# open the CSV file and read each row\n",
        "with open('tootReblog.csv') as csvfile:\n",
        "    csv_reader = csv.reader(csvfile, delimiter=',', skipinitialspace=True)\n",
        "    next(csv_reader, None)  # skip header\n",
        "    for row in csv_reader:\n",
        "        target_list = ast.literal_eval(row[2])\n",
        "        for target in target_list:\n",
        "            output.append([row[1], str(target)])"
      ],
      "metadata": {
        "id": "afT_7n1ANn64"
      },
      "execution_count": null,
      "outputs": []
    },
    {
      "cell_type": "code",
      "source": [
        "G.add_edges_from(output)"
      ],
      "metadata": {
        "id": "FCSF1tuINulX"
      },
      "execution_count": null,
      "outputs": []
    },
    {
      "cell_type": "code",
      "source": [
        "G.number_of_nodes()"
      ],
      "metadata": {
        "colab": {
          "base_uri": "https://localhost:8080/"
        },
        "id": "p0CNNykJBkK0",
        "outputId": "02aadecd-8315-4c17-d60b-5fb4376cf0c5"
      },
      "execution_count": null,
      "outputs": [
        {
          "output_type": "execute_result",
          "data": {
            "text/plain": [
              "1447"
            ]
          },
          "metadata": {},
          "execution_count": 23
        }
      ]
    },
    {
      "cell_type": "code",
      "source": [
        "connected_comp = list(nx.connected_components(G))\n",
        "l_cc = max(connected_comp, key=len)\n",
        "sub_graph = G.subgraph(l_cc)"
      ],
      "metadata": {
        "id": "M2CfakaNNyLr"
      },
      "execution_count": null,
      "outputs": []
    },
    {
      "cell_type": "code",
      "source": [
        "sub_graph.number_of_nodes()"
      ],
      "metadata": {
        "colab": {
          "base_uri": "https://localhost:8080/"
        },
        "id": "mS9EhbTCBojY",
        "outputId": "699cde02-4c25-43d8-fda5-3b0cda7d1cfa"
      },
      "execution_count": null,
      "outputs": [
        {
          "output_type": "execute_result",
          "data": {
            "text/plain": [
              "1394"
            ]
          },
          "metadata": {},
          "execution_count": 22
        }
      ]
    },
    {
      "cell_type": "code",
      "source": [
        "# Get the degree sequence of the graph\n",
        "degree_sequence = [d for n, d in sub_graph.degree()]\n",
        "\n",
        "# Calculate the degree distribution as a dictionary\n",
        "degree_distribution = {}\n",
        "for degree in degree_sequence:\n",
        "    if degree in degree_distribution:\n",
        "        degree_distribution[degree] += 1\n",
        "    else:\n",
        "        degree_distribution[degree] = 1\n",
        "\n",
        "# Normalize the degree distribution by dividing by the number of nodes\n",
        "n_nodes = sub_graph.number_of_nodes()\n",
        "for degree in degree_distribution:\n",
        "    degree_distribution[degree] /= n_nodes"
      ],
      "metadata": {
        "id": "ad8-_AAHN1w9"
      },
      "execution_count": null,
      "outputs": []
    },
    {
      "cell_type": "code",
      "source": [
        "plt.scatter(list(degree_distribution.keys()), list(degree_distribution.values()))\n",
        "plt.xscale('log')\n",
        "plt.yscale('log')\n",
        "plt.xlabel(\"Degree\")\n",
        "plt.ylabel(\"Distribution\")"
      ],
      "metadata": {
        "colab": {
          "base_uri": "https://localhost:8080/",
          "height": 471
        },
        "id": "8fZKogdsN32C",
        "outputId": "838f325a-afad-493a-b50b-16f48a61599d"
      },
      "execution_count": null,
      "outputs": [
        {
          "output_type": "execute_result",
          "data": {
            "text/plain": [
              "Text(0, 0.5, 'Distribution')"
            ]
          },
          "metadata": {},
          "execution_count": 19
        },
        {
          "output_type": "display_data",
          "data": {
            "text/plain": [
              "<Figure size 640x480 with 1 Axes>"
            ],
            "image/png": "[encoded data removed]"
          },
          "metadata": {}
        }
      ]
    },
    {
      "cell_type": "code",
      "source": [
        "!pip install powerlaw"
      ],
      "metadata": {
        "colab": {
          "base_uri": "https://localhost:8080/"
        },
        "id": "W_X49E1uN6OG",
        "outputId": "67174794-bd96-4eaf-f250-9140f5aa6cf6"
      },
      "execution_count": null,
      "outputs": [
        {
          "output_type": "stream",
          "name": "stdout",
          "text": [
            "Looking in indexes: https://pypi.org/simple, https://us-python.pkg.dev/colab-wheels/public/simple/\n",
            "Collecting powerlaw\n",
            "  Downloading powerlaw-1.5-py3-none-any.whl (24 kB)\n",
            "Requirement already satisfied: mpmath in /usr/local/lib/python3.10/dist-packages (from powerlaw) (1.3.0)\n",
            "Requirement already satisfied: matplotlib in /usr/local/lib/python3.10/dist-packages (from powerlaw) (3.7.1)\n",
            "Requirement already satisfied: scipy in /usr/local/lib/python3.10/dist-packages (from powerlaw) (1.10.1)\n",
            "Requirement already satisfied: numpy in /usr/local/lib/python3.10/dist-packages (from powerlaw) (1.22.4)\n",
            "Requirement already satisfied: pyparsing>=2.3.1 in /usr/local/lib/python3.10/dist-packages (from matplotlib->powerlaw) (3.0.9)\n",
            "Requirement already satisfied: kiwisolver>=1.0.1 in /usr/local/lib/python3.10/dist-packages (from matplotlib->powerlaw) (1.4.4)\n",
            "Requirement already satisfied: packaging>=20.0 in /usr/local/lib/python3.10/dist-packages (from matplotlib->powerlaw) (23.1)\n",
            "Requirement already satisfied: fonttools>=4.22.0 in /usr/local/lib/python3.10/dist-packages (from matplotlib->powerlaw) (4.39.3)\n",
            "Requirement already satisfied: pillow>=6.2.0 in /usr/local/lib/python3.10/dist-packages (from matplotlib->powerlaw) (8.4.0)\n",
            "Requirement already satisfied: cycler>=0.10 in /usr/local/lib/python3.10/dist-packages (from matplotlib->powerlaw) (0.11.0)\n",
            "Requirement already satisfied: python-dateutil>=2.7 in /usr/local/lib/python3.10/dist-packages (from matplotlib->powerlaw) (2.8.2)\n",
            "Requirement already satisfied: contourpy>=1.0.1 in /usr/local/lib/python3.10/dist-packages (from matplotlib->powerlaw) (1.0.7)\n",
            "Requirement already satisfied: six>=1.5 in /usr/local/lib/python3.10/dist-packages (from python-dateutil>=2.7->matplotlib->powerlaw) (1.16.0)\n",
            "Installing collected packages: powerlaw\n",
            "Successfully installed powerlaw-1.5\n"
          ]
        }
      ]
    },
    {
      "cell_type": "code",
      "source": [
        "import powerlaw\n",
        "fit = powerlaw.Fit(degree_sequence)"
      ],
      "metadata": {
        "colab": {
          "base_uri": "https://localhost:8080/"
        },
        "id": "6L_gReRiOAde",
        "outputId": "3e514343-490e-4c78-893a-9c29ce84c6d7"
      },
      "execution_count": null,
      "outputs": [
        {
          "output_type": "stream",
          "name": "stdout",
          "text": [
            "Calculating best minimal value for power law fit\n",
            "xmin progress: 00%\rxmin progress: 02%\rxmin progress: 04%\rxmin progress: 07%\rxmin progress: 09%\rxmin progress: 12%\rxmin progress: 14%\rxmin progress: 17%\rxmin progress: 19%\rxmin progress: 21%\rxmin progress: 24%\rxmin progress: 26%\rxmin progress: 29%\rxmin progress: 31%\rxmin progress: 34%\rxmin progress: 36%\rxmin progress: 39%\rxmin progress: 41%\rxmin progress: 43%\rxmin progress: 46%\rxmin progress: 48%\rxmin progress: 51%\rxmin progress: 53%\rxmin progress: 56%\rxmin progress: 58%\rxmin progress: 60%\rxmin progress: 63%\rxmin progress: 65%\rxmin progress: 68%\rxmin progress: 70%\rxmin progress: 73%\rxmin progress: 75%\rxmin progress: 78%\rxmin progress: 80%\rxmin progress: 82%\rxmin progress: 85%\rxmin progress: 87%\rxmin progress: 90%\rxmin progress: 92%\rxmin progress: 95%\rxmin progress: 97%\r"
          ]
        }
      ]
    },
    {
      "cell_type": "code",
      "source": [
        "print(fit.power_law.alpha)"
      ],
      "metadata": {
        "colab": {
          "base_uri": "https://localhost:8080/"
        },
        "id": "WaQT2VvVOFUQ",
        "outputId": "84b3a1e5-55b7-4479-96dc-78435b139c9e"
      },
      "execution_count": null,
      "outputs": [
        {
          "output_type": "stream",
          "name": "stdout",
          "text": [
            "3.116248927382447\n"
          ]
        }
      ]
    },
    {
      "cell_type": "code",
      "source": [
        "fit.plot_ccdf()"
      ],
      "metadata": {
        "colab": {
          "base_uri": "https://localhost:8080/",
          "height": 451
        },
        "id": "y9bvJKjgOHgL",
        "outputId": "458ed0f3-ba1a-48da-c12b-8c6af90a1f9a"
      },
      "execution_count": null,
      "outputs": [
        {
          "output_type": "execute_result",
          "data": {
            "text/plain": [
              "<Axes: >"
            ]
          },
          "metadata": {},
          "execution_count": 27
        },
        {
          "output_type": "display_data",
          "data": {
            "text/plain": [
              "<Figure size 640x480 with 1 Axes>"
            ],
            "image/png": "[encoded data removed]"
          },
          "metadata": {}
        }
      ]
    },
    {
      "cell_type": "code",
      "source": [
        "from mastodon.media import MastodonAPIError\n",
        "post_ids = timeline_data[\"Post id\"]\n",
        "status_faved_by_id = [] \n",
        "for i in range(0, len(post_ids)):\n",
        "  try: \n",
        "    status_faved_by_id.append(m.status_favourited_by(str(post_ids[i]))) \n",
        "  except: \n",
        "    status_faved_by_id.append('0')"
      ],
      "metadata": {
        "id": "6y0pwuK5OKG-"
      },
      "execution_count": null,
      "outputs": []
    },
    {
      "cell_type": "code",
      "source": [
        "timeline_data[\"faved id\"] = status_faved_by_id"
      ],
      "metadata": {
        "id": "eQh5nR5nOhc4"
      },
      "execution_count": null,
      "outputs": []
    },
    {
      "cell_type": "code",
      "source": [
        "faved = timeline_data[[\"Post id\", [\"faved id\"]]]\n",
        "faved.to_csv(\"tootfaved.csv\")"
      ],
      "metadata": {
        "id": "Rsf_E1H2n37L"
      },
      "execution_count": null,
      "outputs": []
    }
  ]
}