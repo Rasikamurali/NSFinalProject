{
  "nbformat": 4,
  "nbformat_minor": 0,
  "metadata": {
    "colab": {
      "provenance": []
    },
    "kernelspec": {
      "name": "python3",
      "display_name": "Python 3"
    },
    "language_info": {
      "name": "python"
    }
  },
  "cells": [
    {
      "cell_type": "code",
      "execution_count": 1,
      "metadata": {
        "colab": {
          "base_uri": "https://localhost:8080/"
        },
        "id": "uRcCNWx5bYZ4",
        "outputId": "0bd3b697-772e-4505-a133-52f54a70ec17"
      },
      "outputs": [
        {
          "output_type": "stream",
          "name": "stdout",
          "text": [
            "Looking in indexes: https://pypi.org/simple, https://us-python.pkg.dev/colab-wheels/public/simple/\n",
            "Collecting Mastodon.py\n",
            "  Downloading Mastodon.py-1.8.1-py2.py3-none-any.whl (65 kB)\n",
            "\u001b[2K     \u001b[90m━━━━━━━━━━━━━━━━━━━━━━━━━━━━━━━━━━━━━━━━\u001b[0m \u001b[32m65.9/65.9 kB\u001b[0m \u001b[31m1.7 MB/s\u001b[0m eta \u001b[36m0:00:00\u001b[0m\n",
            "\u001b[?25hCollecting python-magic\n",
            "  Downloading python_magic-0.4.27-py2.py3-none-any.whl (13 kB)\n",
            "Requirement already satisfied: requests>=2.4.2 in /usr/local/lib/python3.10/dist-packages (from Mastodon.py) (2.27.1)\n",
            "Collecting blurhash>=1.1.4\n",
            "  Downloading blurhash-1.1.4-py2.py3-none-any.whl (5.3 kB)\n",
            "Requirement already satisfied: decorator>=4.0.0 in /usr/local/lib/python3.10/dist-packages (from Mastodon.py) (4.4.2)\n",
            "Requirement already satisfied: six in /usr/local/lib/python3.10/dist-packages (from Mastodon.py) (1.16.0)\n",
            "Requirement already satisfied: python-dateutil in /usr/local/lib/python3.10/dist-packages (from Mastodon.py) (2.8.2)\n",
            "Requirement already satisfied: charset-normalizer~=2.0.0 in /usr/local/lib/python3.10/dist-packages (from requests>=2.4.2->Mastodon.py) (2.0.12)\n",
            "Requirement already satisfied: certifi>=2017.4.17 in /usr/local/lib/python3.10/dist-packages (from requests>=2.4.2->Mastodon.py) (2022.12.7)\n",
            "Requirement already satisfied: urllib3<1.27,>=1.21.1 in /usr/local/lib/python3.10/dist-packages (from requests>=2.4.2->Mastodon.py) (1.26.15)\n",
            "Requirement already satisfied: idna<4,>=2.5 in /usr/local/lib/python3.10/dist-packages (from requests>=2.4.2->Mastodon.py) (3.4)\n",
            "Installing collected packages: blurhash, python-magic, Mastodon.py\n",
            "Successfully installed Mastodon.py-1.8.1 blurhash-1.1.4 python-magic-0.4.27\n"
          ]
        }
      ],
      "source": [
        "!pip install Mastodon.py"
      ]
    },
    {
      "cell_type": "code",
      "source": [
        "import mastodon \n",
        "from mastodon import Mastodon \n",
        "import numpy as np \n",
        "import os \n",
        "import pandas as pd \n",
        "from matplotlib import pyplot as plt "
      ],
      "metadata": {
        "id": "S7-VTqgWcFU_"
      },
      "execution_count": 2,
      "outputs": []
    },
    {
      "cell_type": "code",
      "source": [
        "m= Mastodon(access_token = \t'***',\n",
        "    api_base_url = 'https://mastodon.social')"
      ],
      "metadata": {
        "id": "CBV1_cNNccfT"
      },
      "execution_count": 4,
      "outputs": []
    },
    {
      "cell_type": "code",
      "source": [
        "timeline_data = pd.read_csv('Timeline_data.csv')\n",
        "timeline_data = timeline_data.drop([\"Unnamed: 0\"], axis=1)"
      ],
      "metadata": {
        "id": "f_3UwsjHcSRX"
      },
      "execution_count": 3,
      "outputs": []
    },
    {
      "cell_type": "code",
      "source": [
        "df_random = timeline_data.sample(n=5000, random_state=42)"
      ],
      "metadata": {
        "id": "OUW0_dXqcrwU"
      },
      "execution_count": 5,
      "outputs": []
    },
    {
      "cell_type": "code",
      "source": [
        "userids = df_random[\"Source User id\"]\n",
        "user_details = []\n",
        "for i in range(0, len(userids)): \n",
        "  try: \n",
        "    user_details.append(m.account_followers(str(userids[i])))\n",
        "  except: \n",
        "    user_details.append('None')"
      ],
      "metadata": {
        "id": "_o2AVSlhcS3P"
      },
      "execution_count": 9,
      "outputs": []
    },
    {
      "cell_type": "code",
      "source": [
        "len(user_details)"
      ],
      "metadata": {
        "colab": {
          "base_uri": "https://localhost:8080/"
        },
        "id": "4Zg2oSVQcS5j",
        "outputId": "cc5265ac-b67e-4442-bc9a-3240044e12f8"
      },
      "execution_count": 10,
      "outputs": [
        {
          "output_type": "execute_result",
          "data": {
            "text/plain": [
              "5000"
            ]
          },
          "metadata": {},
          "execution_count": 10
        }
      ]
    },
    {
      "cell_type": "code",
      "source": [
        "# Remove empty lists from user_details\n",
        "user_details1 = [ud for ud in user_details if len(ud) > 0]\n",
        "user_details1 = [ud for ud in user_details if ud == \"None\"]\n",
        "print(len(user_details1))"
      ],
      "metadata": {
        "colab": {
          "base_uri": "https://localhost:8080/"
        },
        "id": "G3cGmOx1o3la",
        "outputId": "8b51a6fa-6761-43ca-e355-de377f641ec8"
      },
      "execution_count": 28,
      "outputs": [
        {
          "output_type": "stream",
          "name": "stdout",
          "text": [
            "2436\n"
          ]
        }
      ]
    },
    {
      "cell_type": "code",
      "source": [
        "for user in user_details1: \n",
        "  for u in user: \n",
        "    print(u.get('id'))"
      ],
      "metadata": {
        "colab": {
          "base_uri": "https://localhost:8080/",
          "height": 200
        },
        "id": "D1-HnOODnaum",
        "outputId": "574c553b-dcf1-4e69-cb80-1b7affd151fa"
      },
      "execution_count": 29,
      "outputs": [
        {
          "output_type": "error",
          "ename": "AttributeError",
          "evalue": "ignored",
          "traceback": [
            "\u001b[0;31m---------------------------------------------------------------------------\u001b[0m",
            "\u001b[0;31mAttributeError\u001b[0m                            Traceback (most recent call last)",
            "\u001b[0;32m<ipython-input-29-e53bc734d2b0>\u001b[0m in \u001b[0;36m<cell line: 1>\u001b[0;34m()\u001b[0m\n\u001b[1;32m      1\u001b[0m \u001b[0;32mfor\u001b[0m \u001b[0muser\u001b[0m \u001b[0;32min\u001b[0m \u001b[0muser_details1\u001b[0m\u001b[0;34m:\u001b[0m\u001b[0;34m\u001b[0m\u001b[0;34m\u001b[0m\u001b[0m\n\u001b[1;32m      2\u001b[0m   \u001b[0;32mfor\u001b[0m \u001b[0mu\u001b[0m \u001b[0;32min\u001b[0m \u001b[0muser\u001b[0m\u001b[0;34m:\u001b[0m\u001b[0;34m\u001b[0m\u001b[0;34m\u001b[0m\u001b[0m\n\u001b[0;32m----> 3\u001b[0;31m     \u001b[0mprint\u001b[0m\u001b[0;34m(\u001b[0m\u001b[0mu\u001b[0m\u001b[0;34m.\u001b[0m\u001b[0mget\u001b[0m\u001b[0;34m(\u001b[0m\u001b[0;34m'id'\u001b[0m\u001b[0;34m)\u001b[0m\u001b[0;34m)\u001b[0m\u001b[0;34m\u001b[0m\u001b[0;34m\u001b[0m\u001b[0m\n\u001b[0m",
            "\u001b[0;31mAttributeError\u001b[0m: 'str' object has no attribute 'get'"
          ]
        }
      ]
    },
    {
      "cell_type": "code",
      "source": [
        "for user in user_details[0]: \n",
        "  print(user.get('id'))"
      ],
      "metadata": {
        "colab": {
          "base_uri": "https://localhost:8080/"
        },
        "id": "YNxdjqc3nsfk",
        "outputId": "2ca8698c-b220-43ea-d1f3-5c89644c1f80"
      },
      "execution_count": 19,
      "outputs": [
        {
          "output_type": "stream",
          "name": "stdout",
          "text": [
            "109520949079004284\n",
            "109543399031319888\n",
            "110284256838102170\n",
            "109824850164971498\n",
            "109326527575282503\n",
            "110290584187882541\n",
            "109909782922629175\n",
            "109627700150974330\n",
            "110276661458274582\n",
            "109490679433560720\n",
            "110068921406778348\n",
            "110061820625502836\n",
            "109628427445508336\n",
            "110266470373379975\n",
            "109942543815365630\n",
            "110261804708151453\n",
            "109334117339133222\n",
            "109308550305406313\n",
            "110251022553495524\n",
            "110248292214624362\n",
            "109840438341062109\n",
            "109524841448390150\n",
            "110070803284871424\n",
            "110216763427530925\n",
            "109241747522482555\n",
            "109336851987706232\n",
            "110227997946086410\n",
            "110221254799657700\n",
            "110136854990411670\n",
            "110225230267881813\n",
            "110230623383625335\n",
            "302867\n",
            "109564896927210875\n",
            "110214662896585629\n",
            "109547586769963287\n",
            "109354564202240035\n",
            "109311815634069832\n",
            "110223062530386359\n",
            "110225228077037909\n",
            "109298579501648776\n"
          ]
        }
      ]
    },
    {
      "cell_type": "code",
      "source": [
        "follower_userids = []  \n",
        "for user in user_details:\n",
        "  for u in user:  \n",
        "    if user == \"None\": \n",
        "      follower_userids.append('0')\n",
        "    else: \n",
        "      follower_userids.append(u.get('id'))\n",
        "    "
      ],
      "metadata": {
        "id": "NhkSQNHkcS8K"
      },
      "execution_count": 41,
      "outputs": []
    },
    {
      "cell_type": "code",
      "source": [
        "print(len(userids))"
      ],
      "metadata": {
        "colab": {
          "base_uri": "https://localhost:8080/"
        },
        "id": "mMchJkjOcS-w",
        "outputId": "27b89b0e-0d84-4995-fa6c-601bdf280e68"
      },
      "execution_count": 38,
      "outputs": [
        {
          "output_type": "stream",
          "name": "stdout",
          "text": [
            "65535\n"
          ]
        }
      ]
    },
    {
      "cell_type": "code",
      "source": [
        "df_random[\"user_details\"] = user_details"
      ],
      "metadata": {
        "id": "FjuYcbsScTAz"
      },
      "execution_count": 42,
      "outputs": []
    },
    {
      "cell_type": "code",
      "source": [
        "df_random.head()"
      ],
      "metadata": {
        "colab": {
          "base_uri": "https://localhost:8080/",
          "height": 206
        },
        "id": "UqSl4mvBcTEY",
        "outputId": "9556a0c7-dcb6-4ca2-8f1b-1b7cf1db927f"
      },
      "execution_count": 43,
      "outputs": [
        {
          "output_type": "execute_result",
          "data": {
            "text/plain": [
              "          Source User id Source Username             Post id  \\\n",
              "6252              475567     lowbeyonder  110249025466804293   \n",
              "4684  110103286910286347    debunkdesign  110248972676470221   \n",
              "1731  109362241251053845     yahoo201027  110248868907922593   \n",
              "4742             1389751        levelbot  110248972465593525   \n",
              "4521               38103             fvn  110248967893170402   \n",
              "\n",
              "                                           user_details  \n",
              "6252  [{'id': 109520949079004284, 'username': 'Burit...  \n",
              "4684                                               None  \n",
              "1731                                               None  \n",
              "4742                                                 []  \n",
              "4521                                               None  "
            ],
            "text/html": [
              "\n",
              "  <div id=\"df-9636f70b-c3c9-4605-9302-21835b57987a\">\n",
              "    <div class=\"colab-df-container\">\n",
              "      <div>\n",
              "<style scoped>\n",
              "    .dataframe tbody tr th:only-of-type {\n",
              "        vertical-align: middle;\n",
              "    }\n",
              "\n",
              "    .dataframe tbody tr th {\n",
              "        vertical-align: top;\n",
              "    }\n",
              "\n",
              "    .dataframe thead th {\n",
              "        text-align: right;\n",
              "    }\n",
              "</style>\n",
              "<table border=\"1\" class=\"dataframe\">\n",
              "  <thead>\n",
              "    <tr style=\"text-align: right;\">\n",
              "      <th></th>\n",
              "      <th>Source User id</th>\n",
              "      <th>Source Username</th>\n",
              "      <th>Post id</th>\n",
              "      <th>user_details</th>\n",
              "    </tr>\n",
              "  </thead>\n",
              "  <tbody>\n",
              "    <tr>\n",
              "      <th>6252</th>\n",
              "      <td>475567</td>\n",
              "      <td>lowbeyonder</td>\n",
              "      <td>110249025466804293</td>\n",
              "      <td>[{'id': 109520949079004284, 'username': 'Burit...</td>\n",
              "    </tr>\n",
              "    <tr>\n",
              "      <th>4684</th>\n",
              "      <td>110103286910286347</td>\n",
              "      <td>debunkdesign</td>\n",
              "      <td>110248972676470221</td>\n",
              "      <td>None</td>\n",
              "    </tr>\n",
              "    <tr>\n",
              "      <th>1731</th>\n",
              "      <td>109362241251053845</td>\n",
              "      <td>yahoo201027</td>\n",
              "      <td>110248868907922593</td>\n",
              "      <td>None</td>\n",
              "    </tr>\n",
              "    <tr>\n",
              "      <th>4742</th>\n",
              "      <td>1389751</td>\n",
              "      <td>levelbot</td>\n",
              "      <td>110248972465593525</td>\n",
              "      <td>[]</td>\n",
              "    </tr>\n",
              "    <tr>\n",
              "      <th>4521</th>\n",
              "      <td>38103</td>\n",
              "      <td>fvn</td>\n",
              "      <td>110248967893170402</td>\n",
              "      <td>None</td>\n",
              "    </tr>\n",
              "  </tbody>\n",
              "</table>\n",
              "</div>\n",
              "      <button class=\"colab-df-convert\" onclick=\"convertToInteractive('df-9636f70b-c3c9-4605-9302-21835b57987a')\"\n",
              "              title=\"Convert this dataframe to an interactive table.\"\n",
              "              style=\"display:none;\">\n",
              "        \n",
              "  <svg xmlns=\"http://www.w3.org/2000/svg\" height=\"24px\"viewBox=\"0 0 24 24\"\n",
              "       width=\"24px\">\n",
              "    <path d=\"M0 0h24v24H0V0z\" fill=\"none\"/>\n",
              "    <path d=\"M18.56 5.44l.94 2.06.94-2.06 2.06-.94-2.06-.94-.94-2.06-.94 2.06-2.06.94zm-11 1L8.5 8.5l.94-2.06 2.06-.94-2.06-.94L8.5 2.5l-.94 2.06-2.06.94zm10 10l.94 2.06.94-2.06 2.06-.94-2.06-.94-.94-2.06-.94 2.06-2.06.94z\"/><path d=\"M17.41 7.96l-1.37-1.37c-.4-.4-.92-.59-1.43-.59-.52 0-1.04.2-1.43.59L10.3 9.45l-7.72 7.72c-.78.78-.78 2.05 0 2.83L4 21.41c.39.39.9.59 1.41.59.51 0 1.02-.2 1.41-.59l7.78-7.78 2.81-2.81c.8-.78.8-2.07 0-2.86zM5.41 20L4 18.59l7.72-7.72 1.47 1.35L5.41 20z\"/>\n",
              "  </svg>\n",
              "      </button>\n",
              "      \n",
              "  <style>\n",
              "    .colab-df-container {\n",
              "      display:flex;\n",
              "      flex-wrap:wrap;\n",
              "      gap: 12px;\n",
              "    }\n",
              "\n",
              "    .colab-df-convert {\n",
              "      background-color: #E8F0FE;\n",
              "      border: none;\n",
              "      border-radius: 50%;\n",
              "      cursor: pointer;\n",
              "      display: none;\n",
              "      fill: #1967D2;\n",
              "      height: 32px;\n",
              "      padding: 0 0 0 0;\n",
              "      width: 32px;\n",
              "    }\n",
              "\n",
              "    .colab-df-convert:hover {\n",
              "      background-color: #E2EBFA;\n",
              "      box-shadow: 0px 1px 2px rgba(60, 64, 67, 0.3), 0px 1px 3px 1px rgba(60, 64, 67, 0.15);\n",
              "      fill: #174EA6;\n",
              "    }\n",
              "\n",
              "    [theme=dark] .colab-df-convert {\n",
              "      background-color: #3B4455;\n",
              "      fill: #D2E3FC;\n",
              "    }\n",
              "\n",
              "    [theme=dark] .colab-df-convert:hover {\n",
              "      background-color: #434B5C;\n",
              "      box-shadow: 0px 1px 3px 1px rgba(0, 0, 0, 0.15);\n",
              "      filter: drop-shadow(0px 1px 2px rgba(0, 0, 0, 0.3));\n",
              "      fill: #FFFFFF;\n",
              "    }\n",
              "  </style>\n",
              "\n",
              "      <script>\n",
              "        const buttonEl =\n",
              "          document.querySelector('#df-9636f70b-c3c9-4605-9302-21835b57987a button.colab-df-convert');\n",
              "        buttonEl.style.display =\n",
              "          google.colab.kernel.accessAllowed ? 'block' : 'none';\n",
              "\n",
              "        async function convertToInteractive(key) {\n",
              "          const element = document.querySelector('#df-9636f70b-c3c9-4605-9302-21835b57987a');\n",
              "          const dataTable =\n",
              "            await google.colab.kernel.invokeFunction('convertToInteractive',\n",
              "                                                     [key], {});\n",
              "          if (!dataTable) return;\n",
              "\n",
              "          const docLinkHtml = 'Like what you see? Visit the ' +\n",
              "            '<a target=\"_blank\" href=https://colab.research.google.com/notebooks/data_table.ipynb>data table notebook</a>'\n",
              "            + ' to learn more about interactive tables.';\n",
              "          element.innerHTML = '';\n",
              "          dataTable['output_type'] = 'display_data';\n",
              "          await google.colab.output.renderOutput(dataTable, element);\n",
              "          const docLink = document.createElement('div');\n",
              "          docLink.innerHTML = docLinkHtml;\n",
              "          element.appendChild(docLink);\n",
              "        }\n",
              "      </script>\n",
              "    </div>\n",
              "  </div>\n",
              "  "
            ]
          },
          "metadata": {},
          "execution_count": 43
        }
      ]
    },
    {
      "cell_type": "code",
      "source": [
        "df_new = df_random[df_random['user_details'] != 'None']"
      ],
      "metadata": {
        "id": "gpjDlEOjrDY0"
      },
      "execution_count": 44,
      "outputs": []
    },
    {
      "cell_type": "code",
      "source": [
        "df_new.head()"
      ],
      "metadata": {
        "colab": {
          "base_uri": "https://localhost:8080/",
          "height": 206
        },
        "id": "RQhHcejurl8t",
        "outputId": "514a2734-849d-407a-9f53-94a91a0a9fd6"
      },
      "execution_count": 46,
      "outputs": [
        {
          "output_type": "execute_result",
          "data": {
            "text/plain": [
              "          Source User id Source Username             Post id  \\\n",
              "6252              475567     lowbeyonder  110249025466804293   \n",
              "4742             1389751        levelbot  110248972465593525   \n",
              "6363  109251428687235255         Zehavoc  110249031201298049   \n",
              "2750  109819256972922140        Fayedray  110248902117190135   \n",
              "5272  109956450497135672          riadsb  110248989324234911   \n",
              "\n",
              "                                           user_details  \n",
              "6252  [{'id': 109520949079004284, 'username': 'Burit...  \n",
              "4742                                                 []  \n",
              "6363  [{'id': 109366127502156558, 'username': 'caval...  \n",
              "2750  [{'id': 109336851987706232, 'username': 'lowqu...  \n",
              "5272  [{'id': 110272504592069717, 'username': 'Meado...  "
            ],
            "text/html": [
              "\n",
              "  <div id=\"df-999b7788-296d-4c72-9182-6598b0cc6b9e\">\n",
              "    <div class=\"colab-df-container\">\n",
              "      <div>\n",
              "<style scoped>\n",
              "    .dataframe tbody tr th:only-of-type {\n",
              "        vertical-align: middle;\n",
              "    }\n",
              "\n",
              "    .dataframe tbody tr th {\n",
              "        vertical-align: top;\n",
              "    }\n",
              "\n",
              "    .dataframe thead th {\n",
              "        text-align: right;\n",
              "    }\n",
              "</style>\n",
              "<table border=\"1\" class=\"dataframe\">\n",
              "  <thead>\n",
              "    <tr style=\"text-align: right;\">\n",
              "      <th></th>\n",
              "      <th>Source User id</th>\n",
              "      <th>Source Username</th>\n",
              "      <th>Post id</th>\n",
              "      <th>user_details</th>\n",
              "    </tr>\n",
              "  </thead>\n",
              "  <tbody>\n",
              "    <tr>\n",
              "      <th>6252</th>\n",
              "      <td>475567</td>\n",
              "      <td>lowbeyonder</td>\n",
              "      <td>110249025466804293</td>\n",
              "      <td>[{'id': 109520949079004284, 'username': 'Burit...</td>\n",
              "    </tr>\n",
              "    <tr>\n",
              "      <th>4742</th>\n",
              "      <td>1389751</td>\n",
              "      <td>levelbot</td>\n",
              "      <td>110248972465593525</td>\n",
              "      <td>[]</td>\n",
              "    </tr>\n",
              "    <tr>\n",
              "      <th>6363</th>\n",
              "      <td>109251428687235255</td>\n",
              "      <td>Zehavoc</td>\n",
              "      <td>110249031201298049</td>\n",
              "      <td>[{'id': 109366127502156558, 'username': 'caval...</td>\n",
              "    </tr>\n",
              "    <tr>\n",
              "      <th>2750</th>\n",
              "      <td>109819256972922140</td>\n",
              "      <td>Fayedray</td>\n",
              "      <td>110248902117190135</td>\n",
              "      <td>[{'id': 109336851987706232, 'username': 'lowqu...</td>\n",
              "    </tr>\n",
              "    <tr>\n",
              "      <th>5272</th>\n",
              "      <td>109956450497135672</td>\n",
              "      <td>riadsb</td>\n",
              "      <td>110248989324234911</td>\n",
              "      <td>[{'id': 110272504592069717, 'username': 'Meado...</td>\n",
              "    </tr>\n",
              "  </tbody>\n",
              "</table>\n",
              "</div>\n",
              "      <button class=\"colab-df-convert\" onclick=\"convertToInteractive('df-999b7788-296d-4c72-9182-6598b0cc6b9e')\"\n",
              "              title=\"Convert this dataframe to an interactive table.\"\n",
              "              style=\"display:none;\">\n",
              "        \n",
              "  <svg xmlns=\"http://www.w3.org/2000/svg\" height=\"24px\"viewBox=\"0 0 24 24\"\n",
              "       width=\"24px\">\n",
              "    <path d=\"M0 0h24v24H0V0z\" fill=\"none\"/>\n",
              "    <path d=\"M18.56 5.44l.94 2.06.94-2.06 2.06-.94-2.06-.94-.94-2.06-.94 2.06-2.06.94zm-11 1L8.5 8.5l.94-2.06 2.06-.94-2.06-.94L8.5 2.5l-.94 2.06-2.06.94zm10 10l.94 2.06.94-2.06 2.06-.94-2.06-.94-.94-2.06-.94 2.06-2.06.94z\"/><path d=\"M17.41 7.96l-1.37-1.37c-.4-.4-.92-.59-1.43-.59-.52 0-1.04.2-1.43.59L10.3 9.45l-7.72 7.72c-.78.78-.78 2.05 0 2.83L4 21.41c.39.39.9.59 1.41.59.51 0 1.02-.2 1.41-.59l7.78-7.78 2.81-2.81c.8-.78.8-2.07 0-2.86zM5.41 20L4 18.59l7.72-7.72 1.47 1.35L5.41 20z\"/>\n",
              "  </svg>\n",
              "      </button>\n",
              "      \n",
              "  <style>\n",
              "    .colab-df-container {\n",
              "      display:flex;\n",
              "      flex-wrap:wrap;\n",
              "      gap: 12px;\n",
              "    }\n",
              "\n",
              "    .colab-df-convert {\n",
              "      background-color: #E8F0FE;\n",
              "      border: none;\n",
              "      border-radius: 50%;\n",
              "      cursor: pointer;\n",
              "      display: none;\n",
              "      fill: #1967D2;\n",
              "      height: 32px;\n",
              "      padding: 0 0 0 0;\n",
              "      width: 32px;\n",
              "    }\n",
              "\n",
              "    .colab-df-convert:hover {\n",
              "      background-color: #E2EBFA;\n",
              "      box-shadow: 0px 1px 2px rgba(60, 64, 67, 0.3), 0px 1px 3px 1px rgba(60, 64, 67, 0.15);\n",
              "      fill: #174EA6;\n",
              "    }\n",
              "\n",
              "    [theme=dark] .colab-df-convert {\n",
              "      background-color: #3B4455;\n",
              "      fill: #D2E3FC;\n",
              "    }\n",
              "\n",
              "    [theme=dark] .colab-df-convert:hover {\n",
              "      background-color: #434B5C;\n",
              "      box-shadow: 0px 1px 3px 1px rgba(0, 0, 0, 0.15);\n",
              "      filter: drop-shadow(0px 1px 2px rgba(0, 0, 0, 0.3));\n",
              "      fill: #FFFFFF;\n",
              "    }\n",
              "  </style>\n",
              "\n",
              "      <script>\n",
              "        const buttonEl =\n",
              "          document.querySelector('#df-999b7788-296d-4c72-9182-6598b0cc6b9e button.colab-df-convert');\n",
              "        buttonEl.style.display =\n",
              "          google.colab.kernel.accessAllowed ? 'block' : 'none';\n",
              "\n",
              "        async function convertToInteractive(key) {\n",
              "          const element = document.querySelector('#df-999b7788-296d-4c72-9182-6598b0cc6b9e');\n",
              "          const dataTable =\n",
              "            await google.colab.kernel.invokeFunction('convertToInteractive',\n",
              "                                                     [key], {});\n",
              "          if (!dataTable) return;\n",
              "\n",
              "          const docLinkHtml = 'Like what you see? Visit the ' +\n",
              "            '<a target=\"_blank\" href=https://colab.research.google.com/notebooks/data_table.ipynb>data table notebook</a>'\n",
              "            + ' to learn more about interactive tables.';\n",
              "          element.innerHTML = '';\n",
              "          dataTable['output_type'] = 'display_data';\n",
              "          await google.colab.output.renderOutput(dataTable, element);\n",
              "          const docLink = document.createElement('div');\n",
              "          docLink.innerHTML = docLinkHtml;\n",
              "          element.appendChild(docLink);\n",
              "        }\n",
              "      </script>\n",
              "    </div>\n",
              "  </div>\n",
              "  "
            ]
          },
          "metadata": {},
          "execution_count": 46
        }
      ]
    },
    {
      "cell_type": "code",
      "source": [
        "df_new2 = df_new[df_new['user_details'].apply(lambda x: len(x)) > 0]\n"
      ],
      "metadata": {
        "id": "2oo73hF8rnDU"
      },
      "execution_count": 56,
      "outputs": []
    },
    {
      "cell_type": "code",
      "source": [
        "len(df_new2)"
      ],
      "metadata": {
        "colab": {
          "base_uri": "https://localhost:8080/"
        },
        "id": "QHjVVrqiruQx",
        "outputId": "b2046e96-58fe-4fee-ff73-9842d439f66d"
      },
      "execution_count": 57,
      "outputs": [
        {
          "output_type": "execute_result",
          "data": {
            "text/plain": [
              "2192"
            ]
          },
          "metadata": {},
          "execution_count": 57
        }
      ]
    },
    {
      "cell_type": "code",
      "source": [
        "user_list = df_new2[\"user_details\"]\n",
        "\n",
        "followers_id = []\n",
        "for item in user_list:\n",
        "    if isinstance(item, list) and all(isinstance(elem, dict) and 'id' in elem for elem in item):\n",
        "        followers_id.append([elem['id'] for elem in item])\n",
        "    elif isinstance(item, dict) and 'id' in item:\n",
        "        followers_id.append(item['id'])"
      ],
      "metadata": {
        "id": "7yen1-PqsqLD"
      },
      "execution_count": 59,
      "outputs": []
    },
    {
      "cell_type": "code",
      "source": [
        "df_new2[\"Follower id\"] = followers_id"
      ],
      "metadata": {
        "colab": {
          "base_uri": "https://localhost:8080/"
        },
        "id": "tzffTJ3dsxAt",
        "outputId": "afe95e36-4164-4b42-a51f-8587e95b0346"
      },
      "execution_count": 60,
      "outputs": [
        {
          "output_type": "stream",
          "name": "stderr",
          "text": [
            "<ipython-input-60-1e474be40b10>:1: SettingWithCopyWarning: \n",
            "A value is trying to be set on a copy of a slice from a DataFrame.\n",
            "Try using .loc[row_indexer,col_indexer] = value instead\n",
            "\n",
            "See the caveats in the documentation: https://pandas.pydata.org/pandas-docs/stable/user_guide/indexing.html#returning-a-view-versus-a-copy\n",
            "  df_new2[\"Follower id\"] = followers_id\n"
          ]
        }
      ]
    },
    {
      "cell_type": "code",
      "source": [
        "df_new2"
      ],
      "metadata": {
        "colab": {
          "base_uri": "https://localhost:8080/",
          "height": 658
        },
        "id": "YQJYBvuys14U",
        "outputId": "ac9081ed-9f65-4d5c-91a4-def62f47e668"
      },
      "execution_count": 61,
      "outputs": [
        {
          "output_type": "execute_result",
          "data": {
            "text/plain": [
              "          Source User id  Source Username             Post id  \\\n",
              "6252              475567      lowbeyonder  110249025466804293   \n",
              "6363  109251428687235255          Zehavoc  110249031201298049   \n",
              "2750  109819256972922140         Fayedray  110248902117190135   \n",
              "5272  109956450497135672           riadsb  110248989324234911   \n",
              "3999              487612  kochkunstEbooks  110248942843996542   \n",
              "...                  ...              ...                 ...   \n",
              "5775             1167185        VTVCANAL8  110249008056431122   \n",
              "5642               28517            wblut  110249006558796617   \n",
              "6860               29966            Hampo  110249044069181562   \n",
              "9905  109956474191191188     overbellevue  110249150148851456   \n",
              "5743  109970129706726671          juglugs  110249005412521218   \n",
              "\n",
              "                                           user_details  \\\n",
              "6252  [{'id': 109520949079004284, 'username': 'Burit...   \n",
              "6363  [{'id': 109366127502156558, 'username': 'caval...   \n",
              "2750  [{'id': 109336851987706232, 'username': 'lowqu...   \n",
              "5272  [{'id': 110272504592069717, 'username': 'Meado...   \n",
              "3999  [{'id': 109400274048348569, 'username': 'iam',...   \n",
              "...                                                 ...   \n",
              "5775  [{'id': 110300120091899193, 'username': '3DBil...   \n",
              "5642  [{'id': 109539246788414837, 'username': 'patch...   \n",
              "6860  [{'id': 108772405993602191, 'username': '1t3rt...   \n",
              "9905  [{'id': 110142102254139938, 'username': 'Jamty...   \n",
              "5743  [{'id': 110300692930375662, 'username': 'c', '...   \n",
              "\n",
              "                                            Follower id  \n",
              "6252  [109520949079004284, 109543399031319888, 11028...  \n",
              "6363  [109366127502156558, 109327661656375280, 11007...  \n",
              "2750  [109336851987706232, 109314377565760811, 10937...  \n",
              "5272  [110272504592069717, 107770278469497760, 11024...  \n",
              "3999  [109400274048348569, 109699790835414175, 10933...  \n",
              "...                                                 ...  \n",
              "5775  [110300120091899193, 110290584187882541, 10962...  \n",
              "5642  [109539246788414837, 221063, 11027179380824439...  \n",
              "6860  [108772405993602191, 110068921406778348, 11023...  \n",
              "9905           [110142102254139938, 110173161793044698]  \n",
              "5743  [110300692930375662, 368516, 10819727472603924...  \n",
              "\n",
              "[2192 rows x 5 columns]"
            ],
            "text/html": [
              "\n",
              "  <div id=\"df-f5fd9957-0760-41e0-a935-75fa43b5d646\">\n",
              "    <div class=\"colab-df-container\">\n",
              "      <div>\n",
              "<style scoped>\n",
              "    .dataframe tbody tr th:only-of-type {\n",
              "        vertical-align: middle;\n",
              "    }\n",
              "\n",
              "    .dataframe tbody tr th {\n",
              "        vertical-align: top;\n",
              "    }\n",
              "\n",
              "    .dataframe thead th {\n",
              "        text-align: right;\n",
              "    }\n",
              "</style>\n",
              "<table border=\"1\" class=\"dataframe\">\n",
              "  <thead>\n",
              "    <tr style=\"text-align: right;\">\n",
              "      <th></th>\n",
              "      <th>Source User id</th>\n",
              "      <th>Source Username</th>\n",
              "      <th>Post id</th>\n",
              "      <th>user_details</th>\n",
              "      <th>Follower id</th>\n",
              "    </tr>\n",
              "  </thead>\n",
              "  <tbody>\n",
              "    <tr>\n",
              "      <th>6252</th>\n",
              "      <td>475567</td>\n",
              "      <td>lowbeyonder</td>\n",
              "      <td>110249025466804293</td>\n",
              "      <td>[{'id': 109520949079004284, 'username': 'Burit...</td>\n",
              "      <td>[109520949079004284, 109543399031319888, 11028...</td>\n",
              "    </tr>\n",
              "    <tr>\n",
              "      <th>6363</th>\n",
              "      <td>109251428687235255</td>\n",
              "      <td>Zehavoc</td>\n",
              "      <td>110249031201298049</td>\n",
              "      <td>[{'id': 109366127502156558, 'username': 'caval...</td>\n",
              "      <td>[109366127502156558, 109327661656375280, 11007...</td>\n",
              "    </tr>\n",
              "    <tr>\n",
              "      <th>2750</th>\n",
              "      <td>109819256972922140</td>\n",
              "      <td>Fayedray</td>\n",
              "      <td>110248902117190135</td>\n",
              "      <td>[{'id': 109336851987706232, 'username': 'lowqu...</td>\n",
              "      <td>[109336851987706232, 109314377565760811, 10937...</td>\n",
              "    </tr>\n",
              "    <tr>\n",
              "      <th>5272</th>\n",
              "      <td>109956450497135672</td>\n",
              "      <td>riadsb</td>\n",
              "      <td>110248989324234911</td>\n",
              "      <td>[{'id': 110272504592069717, 'username': 'Meado...</td>\n",
              "      <td>[110272504592069717, 107770278469497760, 11024...</td>\n",
              "    </tr>\n",
              "    <tr>\n",
              "      <th>3999</th>\n",
              "      <td>487612</td>\n",
              "      <td>kochkunstEbooks</td>\n",
              "      <td>110248942843996542</td>\n",
              "      <td>[{'id': 109400274048348569, 'username': 'iam',...</td>\n",
              "      <td>[109400274048348569, 109699790835414175, 10933...</td>\n",
              "    </tr>\n",
              "    <tr>\n",
              "      <th>...</th>\n",
              "      <td>...</td>\n",
              "      <td>...</td>\n",
              "      <td>...</td>\n",
              "      <td>...</td>\n",
              "      <td>...</td>\n",
              "    </tr>\n",
              "    <tr>\n",
              "      <th>5775</th>\n",
              "      <td>1167185</td>\n",
              "      <td>VTVCANAL8</td>\n",
              "      <td>110249008056431122</td>\n",
              "      <td>[{'id': 110300120091899193, 'username': '3DBil...</td>\n",
              "      <td>[110300120091899193, 110290584187882541, 10962...</td>\n",
              "    </tr>\n",
              "    <tr>\n",
              "      <th>5642</th>\n",
              "      <td>28517</td>\n",
              "      <td>wblut</td>\n",
              "      <td>110249006558796617</td>\n",
              "      <td>[{'id': 109539246788414837, 'username': 'patch...</td>\n",
              "      <td>[109539246788414837, 221063, 11027179380824439...</td>\n",
              "    </tr>\n",
              "    <tr>\n",
              "      <th>6860</th>\n",
              "      <td>29966</td>\n",
              "      <td>Hampo</td>\n",
              "      <td>110249044069181562</td>\n",
              "      <td>[{'id': 108772405993602191, 'username': '1t3rt...</td>\n",
              "      <td>[108772405993602191, 110068921406778348, 11023...</td>\n",
              "    </tr>\n",
              "    <tr>\n",
              "      <th>9905</th>\n",
              "      <td>109956474191191188</td>\n",
              "      <td>overbellevue</td>\n",
              "      <td>110249150148851456</td>\n",
              "      <td>[{'id': 110142102254139938, 'username': 'Jamty...</td>\n",
              "      <td>[110142102254139938, 110173161793044698]</td>\n",
              "    </tr>\n",
              "    <tr>\n",
              "      <th>5743</th>\n",
              "      <td>109970129706726671</td>\n",
              "      <td>juglugs</td>\n",
              "      <td>110249005412521218</td>\n",
              "      <td>[{'id': 110300692930375662, 'username': 'c', '...</td>\n",
              "      <td>[110300692930375662, 368516, 10819727472603924...</td>\n",
              "    </tr>\n",
              "  </tbody>\n",
              "</table>\n",
              "<p>2192 rows × 5 columns</p>\n",
              "</div>\n",
              "      <button class=\"colab-df-convert\" onclick=\"convertToInteractive('df-f5fd9957-0760-41e0-a935-75fa43b5d646')\"\n",
              "              title=\"Convert this dataframe to an interactive table.\"\n",
              "              style=\"display:none;\">\n",
              "        \n",
              "  <svg xmlns=\"http://www.w3.org/2000/svg\" height=\"24px\"viewBox=\"0 0 24 24\"\n",
              "       width=\"24px\">\n",
              "    <path d=\"M0 0h24v24H0V0z\" fill=\"none\"/>\n",
              "    <path d=\"M18.56 5.44l.94 2.06.94-2.06 2.06-.94-2.06-.94-.94-2.06-.94 2.06-2.06.94zm-11 1L8.5 8.5l.94-2.06 2.06-.94-2.06-.94L8.5 2.5l-.94 2.06-2.06.94zm10 10l.94 2.06.94-2.06 2.06-.94-2.06-.94-.94-2.06-.94 2.06-2.06.94z\"/><path d=\"M17.41 7.96l-1.37-1.37c-.4-.4-.92-.59-1.43-.59-.52 0-1.04.2-1.43.59L10.3 9.45l-7.72 7.72c-.78.78-.78 2.05 0 2.83L4 21.41c.39.39.9.59 1.41.59.51 0 1.02-.2 1.41-.59l7.78-7.78 2.81-2.81c.8-.78.8-2.07 0-2.86zM5.41 20L4 18.59l7.72-7.72 1.47 1.35L5.41 20z\"/>\n",
              "  </svg>\n",
              "      </button>\n",
              "      \n",
              "  <style>\n",
              "    .colab-df-container {\n",
              "      display:flex;\n",
              "      flex-wrap:wrap;\n",
              "      gap: 12px;\n",
              "    }\n",
              "\n",
              "    .colab-df-convert {\n",
              "      background-color: #E8F0FE;\n",
              "      border: none;\n",
              "      border-radius: 50%;\n",
              "      cursor: pointer;\n",
              "      display: none;\n",
              "      fill: #1967D2;\n",
              "      height: 32px;\n",
              "      padding: 0 0 0 0;\n",
              "      width: 32px;\n",
              "    }\n",
              "\n",
              "    .colab-df-convert:hover {\n",
              "      background-color: #E2EBFA;\n",
              "      box-shadow: 0px 1px 2px rgba(60, 64, 67, 0.3), 0px 1px 3px 1px rgba(60, 64, 67, 0.15);\n",
              "      fill: #174EA6;\n",
              "    }\n",
              "\n",
              "    [theme=dark] .colab-df-convert {\n",
              "      background-color: #3B4455;\n",
              "      fill: #D2E3FC;\n",
              "    }\n",
              "\n",
              "    [theme=dark] .colab-df-convert:hover {\n",
              "      background-color: #434B5C;\n",
              "      box-shadow: 0px 1px 3px 1px rgba(0, 0, 0, 0.15);\n",
              "      filter: drop-shadow(0px 1px 2px rgba(0, 0, 0, 0.3));\n",
              "      fill: #FFFFFF;\n",
              "    }\n",
              "  </style>\n",
              "\n",
              "      <script>\n",
              "        const buttonEl =\n",
              "          document.querySelector('#df-f5fd9957-0760-41e0-a935-75fa43b5d646 button.colab-df-convert');\n",
              "        buttonEl.style.display =\n",
              "          google.colab.kernel.accessAllowed ? 'block' : 'none';\n",
              "\n",
              "        async function convertToInteractive(key) {\n",
              "          const element = document.querySelector('#df-f5fd9957-0760-41e0-a935-75fa43b5d646');\n",
              "          const dataTable =\n",
              "            await google.colab.kernel.invokeFunction('convertToInteractive',\n",
              "                                                     [key], {});\n",
              "          if (!dataTable) return;\n",
              "\n",
              "          const docLinkHtml = 'Like what you see? Visit the ' +\n",
              "            '<a target=\"_blank\" href=https://colab.research.google.com/notebooks/data_table.ipynb>data table notebook</a>'\n",
              "            + ' to learn more about interactive tables.';\n",
              "          element.innerHTML = '';\n",
              "          dataTable['output_type'] = 'display_data';\n",
              "          await google.colab.output.renderOutput(dataTable, element);\n",
              "          const docLink = document.createElement('div');\n",
              "          docLink.innerHTML = docLinkHtml;\n",
              "          element.appendChild(docLink);\n",
              "        }\n",
              "      </script>\n",
              "    </div>\n",
              "  </div>\n",
              "  "
            ]
          },
          "metadata": {},
          "execution_count": 61
        }
      ]
    },
    {
      "cell_type": "code",
      "source": [
        "follower = df_new2[[\"Source User id\", \"Follower id\"]]\n",
        "follower.to_csv(\"FollowerFinal.csv\")"
      ],
      "metadata": {
        "id": "colSJqUCtD-v"
      },
      "execution_count": 63,
      "outputs": []
    },
    {
      "cell_type": "code",
      "source": [
        "f = pd.read_csv(\"FollowerFinal.csv\")\n",
        "f.head()"
      ],
      "metadata": {
        "colab": {
          "base_uri": "https://localhost:8080/",
          "height": 206
        },
        "id": "KbaMY77_uzu1",
        "outputId": "010ebce1-95d2-4899-ddf3-3c186fc70839"
      },
      "execution_count": 74,
      "outputs": [
        {
          "output_type": "execute_result",
          "data": {
            "text/plain": [
              "   Unnamed: 0      Source User id  \\\n",
              "0        6252              475567   \n",
              "1        6363  109251428687235255   \n",
              "2        2750  109819256972922140   \n",
              "3        5272  109956450497135672   \n",
              "4        3999              487612   \n",
              "\n",
              "                                         Follower id  \n",
              "0  [109520949079004284, 109543399031319888, 11028...  \n",
              "1  [109366127502156558, 109327661656375280, 11007...  \n",
              "2  [109336851987706232, 109314377565760811, 10937...  \n",
              "3  [110272504592069717, 107770278469497760, 11024...  \n",
              "4  [109400274048348569, 109699790835414175, 10933...  "
            ],
            "text/html": [
              "\n",
              "  <div id=\"df-e5ce6f95-2b83-4e5c-b4fb-847640e8ebb4\">\n",
              "    <div class=\"colab-df-container\">\n",
              "      <div>\n",
              "<style scoped>\n",
              "    .dataframe tbody tr th:only-of-type {\n",
              "        vertical-align: middle;\n",
              "    }\n",
              "\n",
              "    .dataframe tbody tr th {\n",
              "        vertical-align: top;\n",
              "    }\n",
              "\n",
              "    .dataframe thead th {\n",
              "        text-align: right;\n",
              "    }\n",
              "</style>\n",
              "<table border=\"1\" class=\"dataframe\">\n",
              "  <thead>\n",
              "    <tr style=\"text-align: right;\">\n",
              "      <th></th>\n",
              "      <th>Unnamed: 0</th>\n",
              "      <th>Source User id</th>\n",
              "      <th>Follower id</th>\n",
              "    </tr>\n",
              "  </thead>\n",
              "  <tbody>\n",
              "    <tr>\n",
              "      <th>0</th>\n",
              "      <td>6252</td>\n",
              "      <td>475567</td>\n",
              "      <td>[109520949079004284, 109543399031319888, 11028...</td>\n",
              "    </tr>\n",
              "    <tr>\n",
              "      <th>1</th>\n",
              "      <td>6363</td>\n",
              "      <td>109251428687235255</td>\n",
              "      <td>[109366127502156558, 109327661656375280, 11007...</td>\n",
              "    </tr>\n",
              "    <tr>\n",
              "      <th>2</th>\n",
              "      <td>2750</td>\n",
              "      <td>109819256972922140</td>\n",
              "      <td>[109336851987706232, 109314377565760811, 10937...</td>\n",
              "    </tr>\n",
              "    <tr>\n",
              "      <th>3</th>\n",
              "      <td>5272</td>\n",
              "      <td>109956450497135672</td>\n",
              "      <td>[110272504592069717, 107770278469497760, 11024...</td>\n",
              "    </tr>\n",
              "    <tr>\n",
              "      <th>4</th>\n",
              "      <td>3999</td>\n",
              "      <td>487612</td>\n",
              "      <td>[109400274048348569, 109699790835414175, 10933...</td>\n",
              "    </tr>\n",
              "  </tbody>\n",
              "</table>\n",
              "</div>\n",
              "      <button class=\"colab-df-convert\" onclick=\"convertToInteractive('df-e5ce6f95-2b83-4e5c-b4fb-847640e8ebb4')\"\n",
              "              title=\"Convert this dataframe to an interactive table.\"\n",
              "              style=\"display:none;\">\n",
              "        \n",
              "  <svg xmlns=\"http://www.w3.org/2000/svg\" height=\"24px\"viewBox=\"0 0 24 24\"\n",
              "       width=\"24px\">\n",
              "    <path d=\"M0 0h24v24H0V0z\" fill=\"none\"/>\n",
              "    <path d=\"M18.56 5.44l.94 2.06.94-2.06 2.06-.94-2.06-.94-.94-2.06-.94 2.06-2.06.94zm-11 1L8.5 8.5l.94-2.06 2.06-.94-2.06-.94L8.5 2.5l-.94 2.06-2.06.94zm10 10l.94 2.06.94-2.06 2.06-.94-2.06-.94-.94-2.06-.94 2.06-2.06.94z\"/><path d=\"M17.41 7.96l-1.37-1.37c-.4-.4-.92-.59-1.43-.59-.52 0-1.04.2-1.43.59L10.3 9.45l-7.72 7.72c-.78.78-.78 2.05 0 2.83L4 21.41c.39.39.9.59 1.41.59.51 0 1.02-.2 1.41-.59l7.78-7.78 2.81-2.81c.8-.78.8-2.07 0-2.86zM5.41 20L4 18.59l7.72-7.72 1.47 1.35L5.41 20z\"/>\n",
              "  </svg>\n",
              "      </button>\n",
              "      \n",
              "  <style>\n",
              "    .colab-df-container {\n",
              "      display:flex;\n",
              "      flex-wrap:wrap;\n",
              "      gap: 12px;\n",
              "    }\n",
              "\n",
              "    .colab-df-convert {\n",
              "      background-color: #E8F0FE;\n",
              "      border: none;\n",
              "      border-radius: 50%;\n",
              "      cursor: pointer;\n",
              "      display: none;\n",
              "      fill: #1967D2;\n",
              "      height: 32px;\n",
              "      padding: 0 0 0 0;\n",
              "      width: 32px;\n",
              "    }\n",
              "\n",
              "    .colab-df-convert:hover {\n",
              "      background-color: #E2EBFA;\n",
              "      box-shadow: 0px 1px 2px rgba(60, 64, 67, 0.3), 0px 1px 3px 1px rgba(60, 64, 67, 0.15);\n",
              "      fill: #174EA6;\n",
              "    }\n",
              "\n",
              "    [theme=dark] .colab-df-convert {\n",
              "      background-color: #3B4455;\n",
              "      fill: #D2E3FC;\n",
              "    }\n",
              "\n",
              "    [theme=dark] .colab-df-convert:hover {\n",
              "      background-color: #434B5C;\n",
              "      box-shadow: 0px 1px 3px 1px rgba(0, 0, 0, 0.15);\n",
              "      filter: drop-shadow(0px 1px 2px rgba(0, 0, 0, 0.3));\n",
              "      fill: #FFFFFF;\n",
              "    }\n",
              "  </style>\n",
              "\n",
              "      <script>\n",
              "        const buttonEl =\n",
              "          document.querySelector('#df-e5ce6f95-2b83-4e5c-b4fb-847640e8ebb4 button.colab-df-convert');\n",
              "        buttonEl.style.display =\n",
              "          google.colab.kernel.accessAllowed ? 'block' : 'none';\n",
              "\n",
              "        async function convertToInteractive(key) {\n",
              "          const element = document.querySelector('#df-e5ce6f95-2b83-4e5c-b4fb-847640e8ebb4');\n",
              "          const dataTable =\n",
              "            await google.colab.kernel.invokeFunction('convertToInteractive',\n",
              "                                                     [key], {});\n",
              "          if (!dataTable) return;\n",
              "\n",
              "          const docLinkHtml = 'Like what you see? Visit the ' +\n",
              "            '<a target=\"_blank\" href=https://colab.research.google.com/notebooks/data_table.ipynb>data table notebook</a>'\n",
              "            + ' to learn more about interactive tables.';\n",
              "          element.innerHTML = '';\n",
              "          dataTable['output_type'] = 'display_data';\n",
              "          await google.colab.output.renderOutput(dataTable, element);\n",
              "          const docLink = document.createElement('div');\n",
              "          docLink.innerHTML = docLinkHtml;\n",
              "          element.appendChild(docLink);\n",
              "        }\n",
              "      </script>\n",
              "    </div>\n",
              "  </div>\n",
              "  "
            ]
          },
          "metadata": {},
          "execution_count": 74
        }
      ]
    },
    {
      "cell_type": "code",
      "source": [
        "import csv\n",
        "import networkx as nx\n",
        "import ast \n",
        "filename = 'FollowerFinal.csv'\n",
        "output = []\n",
        "G = nx.Graph()\n",
        "# open the CSV file and read each row\n",
        "with open('FollowerFinal.csv') as csvfile:\n",
        "    csv_reader = csv.reader(csvfile, delimiter=',', skipinitialspace=True)\n",
        "    next(csv_reader, None)  # skip header\n",
        "    for row in csv_reader:\n",
        "        target_list = ast.literal_eval(row[2])\n",
        "        for target in target_list:\n",
        "            output.append([row[1], str(target)])\n",
        "\n",
        "\n",
        "\n"
      ],
      "metadata": {
        "id": "cFavPZgYs3lp"
      },
      "execution_count": 79,
      "outputs": []
    },
    {
      "cell_type": "code",
      "source": [
        "G.add_edges_from(output)\n",
        "  "
      ],
      "metadata": {
        "id": "8uoEMSV7tCqR"
      },
      "execution_count": 84,
      "outputs": []
    },
    {
      "cell_type": "code",
      "source": [
        "connected_comp = list(nx.connected_components(G))\n",
        "l_cc = max(connected_comp, key=len)\n",
        "sub_graph = G.subgraph(l_cc)"
      ],
      "metadata": {
        "id": "2C2ZpAPWumch"
      },
      "execution_count": 87,
      "outputs": []
    },
    {
      "cell_type": "code",
      "source": [
        "# Get the degree sequence of the graph\n",
        "degree_sequence = [d for n, d in sub_graph.degree()]\n",
        "\n",
        "# Calculate the degree distribution as a dictionary\n",
        "degree_distribution = {}\n",
        "for degree in degree_sequence:\n",
        "    if degree in degree_distribution:\n",
        "        degree_distribution[degree] += 1\n",
        "    else:\n",
        "        degree_distribution[degree] = 1\n",
        "\n",
        "# Normalize the degree distribution by dividing by the number of nodes\n",
        "n_nodes = sub_graph.number_of_nodes()\n",
        "for degree in degree_distribution:\n",
        "    degree_distribution[degree] /= n_nodes"
      ],
      "metadata": {
        "id": "5qhjnJiwwDUy"
      },
      "execution_count": 88,
      "outputs": []
    },
    {
      "cell_type": "code",
      "source": [
        "degree_distribution"
      ],
      "metadata": {
        "colab": {
          "base_uri": "https://localhost:8080/"
        },
        "id": "sviM5iYIwNXb",
        "outputId": "00ca11d4-30c3-4973-bfa6-4b9b1fe52b60"
      },
      "execution_count": 89,
      "outputs": [
        {
          "output_type": "execute_result",
          "data": {
            "text/plain": [
              "{45: 0.0005606559674819539,\n",
              " 61: 0.00028032798374097694,\n",
              " 66: 0.00035040997967622115,\n",
              " 78: 0.0004204919756114654,\n",
              " 69: 0.00014016399187048847,\n",
              " 63: 0.0004905739715467096,\n",
              " 213: 7.008199593524424e-05,\n",
              " 57: 0.0016819679024458617,\n",
              " 102: 0.00014016399187048847,\n",
              " 59: 0.0005606559674819539,\n",
              " 190: 7.008199593524424e-05,\n",
              " 62: 0.0006307379634171982,\n",
              " 73: 0.0002102459878057327,\n",
              " 65: 0.0004204919756114654,\n",
              " 111: 0.0002102459878057327,\n",
              " 60: 0.0004204919756114654,\n",
              " 58: 0.0006307379634171982,\n",
              " 70: 0.0004204919756114654,\n",
              " 238: 7.008199593524424e-05,\n",
              " 100: 0.0002102459878057327,\n",
              " 21: 0.0036442637886327004,\n",
              " 30: 0.0028032798374097692,\n",
              " 25: 0.0009811479430934193,\n",
              " 31: 0.00035040997967622115,\n",
              " 67: 0.00028032798374097694,\n",
              " 34: 0.0008409839512229308,\n",
              " 24: 0.0008409839512229308,\n",
              " 29: 0.0007709019552876866,\n",
              " 489: 7.008199593524424e-05,\n",
              " 3: 0.17387343191534094,\n",
              " 5: 0.06636765015067629,\n",
              " 6: 0.038334851776578596,\n",
              " 737: 7.008199593524424e-05,\n",
              " 80: 0.003854509776438433,\n",
              " 4: 0.13953325390707128,\n",
              " 7: 0.022215992711472423,\n",
              " 14: 0.008550003504099797,\n",
              " 26: 0.001752049898381106,\n",
              " 17: 0.004064755764244166,\n",
              " 50: 0.0002102459878057327,\n",
              " 15: 0.0063073796341719815,\n",
              " 79: 0.0009110659471581751,\n",
              " 19: 0.001752049898381106,\n",
              " 106: 0.00028032798374097694,\n",
              " 37: 0.0004905739715467096,\n",
              " 18: 0.002382787861798304,\n",
              " 27: 0.0011213119349639078,\n",
              " 11: 0.007218445581330156,\n",
              " 139: 0.0002102459878057327,\n",
              " 125: 0.0002102459878057327,\n",
              " 663: 7.008199593524424e-05,\n",
              " 86: 0.00028032798374097694,\n",
              " 1612: 7.008199593524424e-05,\n",
              " 9: 0.020954516784638028,\n",
              " 200: 0.00014016399187048847,\n",
              " 8: 0.015207793117948,\n",
              " 36: 0.00035040997967622115,\n",
              " 12: 0.003504099796762212,\n",
              " 150: 0.00014016399187048847,\n",
              " 13: 0.008970495479711262,\n",
              " 926: 7.008199593524424e-05,\n",
              " 76: 0.0005606559674819539,\n",
              " 189: 7.008199593524424e-05,\n",
              " 101: 0.0002102459878057327,\n",
              " 56: 0.0004905739715467096,\n",
              " 22: 0.0007709019552876866,\n",
              " 166: 7.008199593524424e-05,\n",
              " 42: 0.0012614759268343963,\n",
              " 149: 0.00014016399187048847,\n",
              " 49: 0.00035040997967622115,\n",
              " 1: 0.14759268343962437,\n",
              " 104: 0.00014016399187048847,\n",
              " 10: 0.007849183544747354,\n",
              " 98: 7.008199593524424e-05,\n",
              " 68: 0.0002102459878057327,\n",
              " 203: 7.008199593524424e-05,\n",
              " 40: 0.01576844908542995,\n",
              " 16: 0.0023127058658630596,\n",
              " 38: 0.00035040997967622115,\n",
              " 873: 7.008199593524424e-05,\n",
              " 72: 0.0006307379634171982,\n",
              " 333: 7.008199593524424e-05,\n",
              " 2: 0.24360501787090896,\n",
              " 385: 7.008199593524424e-05,\n",
              " 53: 0.00028032798374097694,\n",
              " 396: 7.008199593524424e-05,\n",
              " 83: 0.00028032798374097694,\n",
              " 165: 0.0002102459878057327,\n",
              " 219: 7.008199593524424e-05,\n",
              " 187: 7.008199593524424e-05,\n",
              " 23: 0.002452869857733548,\n",
              " 35: 0.0002102459878057327,\n",
              " 44: 0.0007008199593524423,\n",
              " 928: 7.008199593524424e-05,\n",
              " 41: 0.0011213119349639078,\n",
              " 97: 0.00014016399187048847,\n",
              " 47: 0.0006307379634171982,\n",
              " 119: 0.00028032798374097694,\n",
              " 201: 7.008199593524424e-05,\n",
              " 120: 0.0009110659471581751,\n",
              " 178: 7.008199593524424e-05,\n",
              " 337: 7.008199593524424e-05,\n",
              " 55: 0.0002102459878057327,\n",
              " 110: 0.00014016399187048847,\n",
              " 197: 0.00014016399187048847,\n",
              " 129: 7.008199593524424e-05,\n",
              " 96: 0.00014016399187048847,\n",
              " 293: 7.008199593524424e-05,\n",
              " 108: 7.008199593524424e-05,\n",
              " 46: 0.002663115845539281,\n",
              " 43: 0.0011213119349639078,\n",
              " 269: 7.008199593524424e-05,\n",
              " 28: 0.0008409839512229308,\n",
              " 51: 0.00035040997967622115,\n",
              " 32: 0.0006307379634171982,\n",
              " 357: 7.008199593524424e-05,\n",
              " 82: 0.0006307379634171982,\n",
              " 75: 0.00014016399187048847,\n",
              " 155: 7.008199593524424e-05,\n",
              " 20: 0.0014016399187048846,\n",
              " 298: 7.008199593524424e-05,\n",
              " 85: 0.00014016399187048847,\n",
              " 348: 7.008199593524424e-05,\n",
              " 159: 0.00014016399187048847,\n",
              " 184: 7.008199593524424e-05,\n",
              " 122: 7.008199593524424e-05,\n",
              " 225: 7.008199593524424e-05,\n",
              " 167: 7.008199593524424e-05,\n",
              " 114: 0.00014016399187048847,\n",
              " 182: 7.008199593524424e-05,\n",
              " 52: 0.002382787861798304,\n",
              " 267: 7.008199593524424e-05,\n",
              " 227: 7.008199593524424e-05,\n",
              " 117: 0.00014016399187048847,\n",
              " 254: 7.008199593524424e-05,\n",
              " 109: 0.00014016399187048847,\n",
              " 92: 0.00014016399187048847,\n",
              " 99: 0.00014016399187048847,\n",
              " 90: 0.00028032798374097694,\n",
              " 561: 7.008199593524424e-05,\n",
              " 142: 7.008199593524424e-05,\n",
              " 204: 7.008199593524424e-05,\n",
              " 141: 7.008199593524424e-05,\n",
              " 113: 0.0002102459878057327,\n",
              " 48: 0.0006307379634171982,\n",
              " 54: 0.00014016399187048847,\n",
              " 136: 7.008199593524424e-05,\n",
              " 181: 7.008199593524424e-05,\n",
              " 210: 7.008199593524424e-05,\n",
              " 130: 0.00014016399187048847,\n",
              " 91: 0.0002102459878057327,\n",
              " 243: 7.008199593524424e-05,\n",
              " 358: 7.008199593524424e-05,\n",
              " 224: 7.008199593524424e-05,\n",
              " 169: 7.008199593524424e-05,\n",
              " 64: 0.0002102459878057327,\n",
              " 647: 7.008199593524424e-05,\n",
              " 303: 7.008199593524424e-05,\n",
              " 135: 7.008199593524424e-05,\n",
              " 33: 0.00028032798374097694,\n",
              " 140: 0.0002102459878057327,\n",
              " 195: 7.008199593524424e-05,\n",
              " 216: 7.008199593524424e-05,\n",
              " 255: 7.008199593524424e-05,\n",
              " 157: 0.0002102459878057327,\n",
              " 146: 0.00014016399187048847,\n",
              " 123: 0.00028032798374097694,\n",
              " 152: 7.008199593524424e-05,\n",
              " 132: 7.008199593524424e-05,\n",
              " 231: 7.008199593524424e-05,\n",
              " 196: 7.008199593524424e-05,\n",
              " 286: 7.008199593524424e-05,\n",
              " 233: 7.008199593524424e-05,\n",
              " 232: 7.008199593524424e-05,\n",
              " 128: 7.008199593524424e-05,\n",
              " 103: 0.00014016399187048847,\n",
              " 259: 7.008199593524424e-05,\n",
              " 247: 7.008199593524424e-05,\n",
              " 241: 7.008199593524424e-05,\n",
              " 112: 0.0002102459878057327,\n",
              " 77: 0.00028032798374097694,\n",
              " 344: 7.008199593524424e-05,\n",
              " 161: 7.008199593524424e-05,\n",
              " 118: 0.00014016399187048847,\n",
              " 84: 0.00035040997967622115,\n",
              " 89: 0.0002102459878057327,\n",
              " 211: 7.008199593524424e-05,\n",
              " 81: 0.0002102459878057327,\n",
              " 160: 0.00014016399187048847,\n",
              " 158: 7.008199593524424e-05,\n",
              " 126: 0.00014016399187048847,\n",
              " 258: 7.008199593524424e-05,\n",
              " 133: 0.00014016399187048847,\n",
              " 71: 0.0002102459878057327,\n",
              " 137: 7.008199593524424e-05,\n",
              " 180: 7.008199593524424e-05,\n",
              " 39: 0.00014016399187048847,\n",
              " 107: 7.008199593524424e-05,\n",
              " 87: 0.00014016399187048847,\n",
              " 95: 7.008199593524424e-05,\n",
              " 192: 7.008199593524424e-05,\n",
              " 124: 7.008199593524424e-05,\n",
              " 163: 7.008199593524424e-05,\n",
              " 193: 7.008199593524424e-05,\n",
              " 94: 7.008199593524424e-05,\n",
              " 88: 7.008199593524424e-05,\n",
              " 131: 7.008199593524424e-05,\n",
              " 134: 0.00014016399187048847}"
            ]
          },
          "metadata": {},
          "execution_count": 89
        }
      ]
    },
    {
      "cell_type": "code",
      "source": [
        "plt.scatter(list(degree_distribution.keys()), list(degree_distribution.values()))\n",
        "plt.xscale('log')\n",
        "plt.yscale('log')\n",
        "plt.xlabel(\"Degree\")\n",
        "plt.ylabel(\"Distribution\")"
      ],
      "metadata": {
        "colab": {
          "base_uri": "https://localhost:8080/",
          "height": 471
        },
        "id": "CIIV21nLwNdC",
        "outputId": "2e996b75-0830-47ac-a108-226ad2dc240b"
      },
      "execution_count": 95,
      "outputs": [
        {
          "output_type": "execute_result",
          "data": {
            "text/plain": [
              "Text(0, 0.5, 'Distribution')"
            ]
          },
          "metadata": {},
          "execution_count": 95
        },
        {
          "output_type": "display_data",
          "data": {
            "text/plain": [
              "<Figure size 640x480 with 1 Axes>"
            ],
            "image/png": "[encoded data removed]"
          },
          "metadata": {}
        }
      ]
    },
    {
      "cell_type": "code",
      "source": [
        "!pip install powerlaw"
      ],
      "metadata": {
        "colab": {
          "base_uri": "https://localhost:8080/"
        },
        "id": "uZt9e8qLwNgt",
        "outputId": "c684dd54-04e4-42c6-d1ef-846a83fb2a02"
      },
      "execution_count": 92,
      "outputs": [
        {
          "output_type": "stream",
          "name": "stdout",
          "text": [
            "Looking in indexes: https://pypi.org/simple, https://us-python.pkg.dev/colab-wheels/public/simple/\n",
            "Collecting powerlaw\n",
            "  Downloading powerlaw-1.5-py3-none-any.whl (24 kB)\n",
            "Requirement already satisfied: mpmath in /usr/local/lib/python3.10/dist-packages (from powerlaw) (1.3.0)\n",
            "Requirement already satisfied: numpy in /usr/local/lib/python3.10/dist-packages (from powerlaw) (1.22.4)\n",
            "Requirement already satisfied: matplotlib in /usr/local/lib/python3.10/dist-packages (from powerlaw) (3.7.1)\n",
            "Requirement already satisfied: scipy in /usr/local/lib/python3.10/dist-packages (from powerlaw) (1.10.1)\n",
            "Requirement already satisfied: contourpy>=1.0.1 in /usr/local/lib/python3.10/dist-packages (from matplotlib->powerlaw) (1.0.7)\n",
            "Requirement already satisfied: pyparsing>=2.3.1 in /usr/local/lib/python3.10/dist-packages (from matplotlib->powerlaw) (3.0.9)\n",
            "Requirement already satisfied: pillow>=6.2.0 in /usr/local/lib/python3.10/dist-packages (from matplotlib->powerlaw) (8.4.0)\n",
            "Requirement already satisfied: kiwisolver>=1.0.1 in /usr/local/lib/python3.10/dist-packages (from matplotlib->powerlaw) (1.4.4)\n",
            "Requirement already satisfied: fonttools>=4.22.0 in /usr/local/lib/python3.10/dist-packages (from matplotlib->powerlaw) (4.39.3)\n",
            "Requirement already satisfied: cycler>=0.10 in /usr/local/lib/python3.10/dist-packages (from matplotlib->powerlaw) (0.11.0)\n",
            "Requirement already satisfied: packaging>=20.0 in /usr/local/lib/python3.10/dist-packages (from matplotlib->powerlaw) (23.1)\n",
            "Requirement already satisfied: python-dateutil>=2.7 in /usr/local/lib/python3.10/dist-packages (from matplotlib->powerlaw) (2.8.2)\n",
            "Requirement already satisfied: six>=1.5 in /usr/local/lib/python3.10/dist-packages (from python-dateutil>=2.7->matplotlib->powerlaw) (1.16.0)\n",
            "Installing collected packages: powerlaw\n",
            "Successfully installed powerlaw-1.5\n"
          ]
        }
      ]
    },
    {
      "cell_type": "code",
      "source": [
        "import powerlaw\n",
        "fit = powerlaw.Fit(degree_sequence)"
      ],
      "metadata": {
        "colab": {
          "base_uri": "https://localhost:8080/"
        },
        "id": "99Cv2OxtwNmt",
        "outputId": "a80f260c-c041-450f-c245-769fa4987c62"
      },
      "execution_count": 97,
      "outputs": [
        {
          "output_type": "stream",
          "name": "stdout",
          "text": [
            "Calculating best minimal value for power law fit\n"
          ]
        }
      ]
    },
    {
      "cell_type": "code",
      "source": [
        "alpha = fit.power_law.alpha\n",
        "print(alpha)"
      ],
      "metadata": {
        "colab": {
          "base_uri": "https://localhost:8080/"
        },
        "id": "giim4ID4w1UO",
        "outputId": "48c57a80-0b25-4088-de54-48359dd058cd"
      },
      "execution_count": 98,
      "outputs": [
        {
          "output_type": "stream",
          "name": "stdout",
          "text": [
            "3.0348816235401475\n"
          ]
        }
      ]
    },
    {
      "cell_type": "code",
      "source": [
        "xmin = fit.power_law.xmin\n",
        "print(xmin)"
      ],
      "metadata": {
        "colab": {
          "base_uri": "https://localhost:8080/"
        },
        "id": "Mf512pdUxt5r",
        "outputId": "5cb627f1-f4a8-4320-c707-8d155d2f634f"
      },
      "execution_count": 99,
      "outputs": [
        {
          "output_type": "stream",
          "name": "stdout",
          "text": [
            "109.0\n"
          ]
        }
      ]
    },
    {
      "cell_type": "code",
      "source": [
        "fit.plot_ccdf()"
      ],
      "metadata": {
        "colab": {
          "base_uri": "https://localhost:8080/",
          "height": 451
        },
        "id": "-CwyMVuFxwe3",
        "outputId": "0c84b6a5-f464-481e-adcc-4c3e3b4ab9cd"
      },
      "execution_count": 100,
      "outputs": [
        {
          "output_type": "execute_result",
          "data": {
            "text/plain": [
              "<Axes: >"
            ]
          },
          "metadata": {},
          "execution_count": 100
        },
        {
          "output_type": "display_data",
          "data": {
            "text/plain": [
              "<Figure size 640x480 with 1 Axes>"
            ],
            "image/png": "[encoded data removed]"
          },
          "metadata": {}
        }
      ]
    },
    {
      "cell_type": "code",
      "source": [
        "nx.average_clustering(sub_graph)"
      ],
      "metadata": {
        "colab": {
          "base_uri": "https://localhost:8080/"
        },
        "id": "AiTSw8igx257",
        "outputId": "da509e80-1b1c-4969-feed-29f0628d4317"
      },
      "execution_count": 101,
      "outputs": [
        {
          "output_type": "execute_result",
          "data": {
            "text/plain": [
              "0.0023571838102036486"
            ]
          },
          "metadata": {},
          "execution_count": 101
        }
      ]
    },
    {
      "cell_type": "code",
      "source": [
        "degree_centralities = nx.degree_centrality(sub_graph)\n",
        "nx.set_node_attributes(sub_graph, degree_centralities, \"degree centralities\")"
      ],
      "metadata": {
        "id": "d6yM2avByAPD"
      },
      "execution_count": 107,
      "outputs": []
    },
    {
      "cell_type": "code",
      "source": [
        "nx.write_gexf(sub_graph, \"GraphFollowerFinal.gexf\")"
      ],
      "metadata": {
        "id": "54fJyYi7yNdc"
      },
      "execution_count": 109,
      "outputs": []
    },
    {
      "cell_type": "code",
      "source": [
        "f_userids = df_random[\"Source User id\"]\n",
        "f_user_details = []\n",
        "for i in range(0, len(f_userids)): \n",
        "  try: \n",
        "    f_user_details.append(m.account_following(str(userids[i])))\n",
        "  except: \n",
        "    f_user_details.append('None')"
      ],
      "metadata": {
        "id": "O-tGfbRIzuy0"
      },
      "execution_count": 110,
      "outputs": []
    },
    {
      "cell_type": "code",
      "source": [
        "df_random[\"f_user_details\"] = f_user_details"
      ],
      "metadata": {
        "id": "48gE5uNX1Isn"
      },
      "execution_count": 111,
      "outputs": []
    },
    {
      "cell_type": "code",
      "source": [
        "df_random.head()"
      ],
      "metadata": {
        "colab": {
          "base_uri": "https://localhost:8080/",
          "height": 302
        },
        "id": "eHf5fgDSITdE",
        "outputId": "f07162d1-ffb2-43fb-da06-7ca1515f27a7"
      },
      "execution_count": 112,
      "outputs": [
        {
          "output_type": "execute_result",
          "data": {
            "text/plain": [
              "          Source User id Source Username             Post id  \\\n",
              "6252              475567     lowbeyonder  110249025466804293   \n",
              "4684  110103286910286347    debunkdesign  110248972676470221   \n",
              "1731  109362241251053845     yahoo201027  110248868907922593   \n",
              "4742             1389751        levelbot  110248972465593525   \n",
              "4521               38103             fvn  110248967893170402   \n",
              "\n",
              "                                           user_details  \\\n",
              "6252  [{'id': 109520949079004284, 'username': 'Burit...   \n",
              "4684                                               None   \n",
              "1731                                               None   \n",
              "4742                                                 []   \n",
              "4521                                               None   \n",
              "\n",
              "                                         f_user_details  \n",
              "6252  [{'id': 109423163209849522, 'username': 'josep...  \n",
              "4684  [{'id': 254743, 'username': 'thejapantimes', '...  \n",
              "1731  [{'id': 110189489880231650, 'username': 'Yvonn...  \n",
              "4742  [{'id': 109258532511340770, 'username': 'aless...  \n",
              "4521  [{'id': 109245493701529453, 'username': 'goodt...  "
            ],
            "text/html": [
              "\n",
              "  <div id=\"df-2e8e1fa9-c35e-45af-bc7b-832e9140f5cb\">\n",
              "    <div class=\"colab-df-container\">\n",
              "      <div>\n",
              "<style scoped>\n",
              "    .dataframe tbody tr th:only-of-type {\n",
              "        vertical-align: middle;\n",
              "    }\n",
              "\n",
              "    .dataframe tbody tr th {\n",
              "        vertical-align: top;\n",
              "    }\n",
              "\n",
              "    .dataframe thead th {\n",
              "        text-align: right;\n",
              "    }\n",
              "</style>\n",
              "<table border=\"1\" class=\"dataframe\">\n",
              "  <thead>\n",
              "    <tr style=\"text-align: right;\">\n",
              "      <th></th>\n",
              "      <th>Source User id</th>\n",
              "      <th>Source Username</th>\n",
              "      <th>Post id</th>\n",
              "      <th>user_details</th>\n",
              "      <th>f_user_details</th>\n",
              "    </tr>\n",
              "  </thead>\n",
              "  <tbody>\n",
              "    <tr>\n",
              "      <th>6252</th>\n",
              "      <td>475567</td>\n",
              "      <td>lowbeyonder</td>\n",
              "      <td>110249025466804293</td>\n",
              "      <td>[{'id': 109520949079004284, 'username': 'Burit...</td>\n",
              "      <td>[{'id': 109423163209849522, 'username': 'josep...</td>\n",
              "    </tr>\n",
              "    <tr>\n",
              "      <th>4684</th>\n",
              "      <td>110103286910286347</td>\n",
              "      <td>debunkdesign</td>\n",
              "      <td>110248972676470221</td>\n",
              "      <td>None</td>\n",
              "      <td>[{'id': 254743, 'username': 'thejapantimes', '...</td>\n",
              "    </tr>\n",
              "    <tr>\n",
              "      <th>1731</th>\n",
              "      <td>109362241251053845</td>\n",
              "      <td>yahoo201027</td>\n",
              "      <td>110248868907922593</td>\n",
              "      <td>None</td>\n",
              "      <td>[{'id': 110189489880231650, 'username': 'Yvonn...</td>\n",
              "    </tr>\n",
              "    <tr>\n",
              "      <th>4742</th>\n",
              "      <td>1389751</td>\n",
              "      <td>levelbot</td>\n",
              "      <td>110248972465593525</td>\n",
              "      <td>[]</td>\n",
              "      <td>[{'id': 109258532511340770, 'username': 'aless...</td>\n",
              "    </tr>\n",
              "    <tr>\n",
              "      <th>4521</th>\n",
              "      <td>38103</td>\n",
              "      <td>fvn</td>\n",
              "      <td>110248967893170402</td>\n",
              "      <td>None</td>\n",
              "      <td>[{'id': 109245493701529453, 'username': 'goodt...</td>\n",
              "    </tr>\n",
              "  </tbody>\n",
              "</table>\n",
              "</div>\n",
              "      <button class=\"colab-df-convert\" onclick=\"convertToInteractive('df-2e8e1fa9-c35e-45af-bc7b-832e9140f5cb')\"\n",
              "              title=\"Convert this dataframe to an interactive table.\"\n",
              "              style=\"display:none;\">\n",
              "        \n",
              "  <svg xmlns=\"http://www.w3.org/2000/svg\" height=\"24px\"viewBox=\"0 0 24 24\"\n",
              "       width=\"24px\">\n",
              "    <path d=\"M0 0h24v24H0V0z\" fill=\"none\"/>\n",
              "    <path d=\"M18.56 5.44l.94 2.06.94-2.06 2.06-.94-2.06-.94-.94-2.06-.94 2.06-2.06.94zm-11 1L8.5 8.5l.94-2.06 2.06-.94-2.06-.94L8.5 2.5l-.94 2.06-2.06.94zm10 10l.94 2.06.94-2.06 2.06-.94-2.06-.94-.94-2.06-.94 2.06-2.06.94z\"/><path d=\"M17.41 7.96l-1.37-1.37c-.4-.4-.92-.59-1.43-.59-.52 0-1.04.2-1.43.59L10.3 9.45l-7.72 7.72c-.78.78-.78 2.05 0 2.83L4 21.41c.39.39.9.59 1.41.59.51 0 1.02-.2 1.41-.59l7.78-7.78 2.81-2.81c.8-.78.8-2.07 0-2.86zM5.41 20L4 18.59l7.72-7.72 1.47 1.35L5.41 20z\"/>\n",
              "  </svg>\n",
              "      </button>\n",
              "      \n",
              "  <style>\n",
              "    .colab-df-container {\n",
              "      display:flex;\n",
              "      flex-wrap:wrap;\n",
              "      gap: 12px;\n",
              "    }\n",
              "\n",
              "    .colab-df-convert {\n",
              "      background-color: #E8F0FE;\n",
              "      border: none;\n",
              "      border-radius: 50%;\n",
              "      cursor: pointer;\n",
              "      display: none;\n",
              "      fill: #1967D2;\n",
              "      height: 32px;\n",
              "      padding: 0 0 0 0;\n",
              "      width: 32px;\n",
              "    }\n",
              "\n",
              "    .colab-df-convert:hover {\n",
              "      background-color: #E2EBFA;\n",
              "      box-shadow: 0px 1px 2px rgba(60, 64, 67, 0.3), 0px 1px 3px 1px rgba(60, 64, 67, 0.15);\n",
              "      fill: #174EA6;\n",
              "    }\n",
              "\n",
              "    [theme=dark] .colab-df-convert {\n",
              "      background-color: #3B4455;\n",
              "      fill: #D2E3FC;\n",
              "    }\n",
              "\n",
              "    [theme=dark] .colab-df-convert:hover {\n",
              "      background-color: #434B5C;\n",
              "      box-shadow: 0px 1px 3px 1px rgba(0, 0, 0, 0.15);\n",
              "      filter: drop-shadow(0px 1px 2px rgba(0, 0, 0, 0.3));\n",
              "      fill: #FFFFFF;\n",
              "    }\n",
              "  </style>\n",
              "\n",
              "      <script>\n",
              "        const buttonEl =\n",
              "          document.querySelector('#df-2e8e1fa9-c35e-45af-bc7b-832e9140f5cb button.colab-df-convert');\n",
              "        buttonEl.style.display =\n",
              "          google.colab.kernel.accessAllowed ? 'block' : 'none';\n",
              "\n",
              "        async function convertToInteractive(key) {\n",
              "          const element = document.querySelector('#df-2e8e1fa9-c35e-45af-bc7b-832e9140f5cb');\n",
              "          const dataTable =\n",
              "            await google.colab.kernel.invokeFunction('convertToInteractive',\n",
              "                                                     [key], {});\n",
              "          if (!dataTable) return;\n",
              "\n",
              "          const docLinkHtml = 'Like what you see? Visit the ' +\n",
              "            '<a target=\"_blank\" href=https://colab.research.google.com/notebooks/data_table.ipynb>data table notebook</a>'\n",
              "            + ' to learn more about interactive tables.';\n",
              "          element.innerHTML = '';\n",
              "          dataTable['output_type'] = 'display_data';\n",
              "          await google.colab.output.renderOutput(dataTable, element);\n",
              "          const docLink = document.createElement('div');\n",
              "          docLink.innerHTML = docLinkHtml;\n",
              "          element.appendChild(docLink);\n",
              "        }\n",
              "      </script>\n",
              "    </div>\n",
              "  </div>\n",
              "  "
            ]
          },
          "metadata": {},
          "execution_count": 112
        }
      ]
    },
    {
      "cell_type": "code",
      "source": [
        "df_new_new = df_random[df_random['f_user_details'] != 'None']"
      ],
      "metadata": {
        "id": "sASLSInyIVRB"
      },
      "execution_count": 113,
      "outputs": []
    },
    {
      "cell_type": "code",
      "source": [
        "df_new22 = df_new_new[df_new_new['user_details'].apply(lambda x: len(x)) > 0]"
      ],
      "metadata": {
        "id": "nTlNSKNoIdul"
      },
      "execution_count": 114,
      "outputs": []
    },
    {
      "cell_type": "code",
      "source": [
        "df_new22.head()"
      ],
      "metadata": {
        "colab": {
          "base_uri": "https://localhost:8080/",
          "height": 302
        },
        "id": "95QcGNR2InLB",
        "outputId": "61fbd3b7-61c1-465c-9846-af29ad73dd14"
      },
      "execution_count": 115,
      "outputs": [
        {
          "output_type": "execute_result",
          "data": {
            "text/plain": [
              "          Source User id  Source Username             Post id  \\\n",
              "6252              475567      lowbeyonder  110249025466804293   \n",
              "4684  110103286910286347     debunkdesign  110248972676470221   \n",
              "1731  109362241251053845      yahoo201027  110248868907922593   \n",
              "4521               38103              fvn  110248967893170402   \n",
              "6340  109835529188868068  ukfreeviewfilms  110249026534506812   \n",
              "\n",
              "                                           user_details  \\\n",
              "6252  [{'id': 109520949079004284, 'username': 'Burit...   \n",
              "4684                                               None   \n",
              "1731                                               None   \n",
              "4521                                               None   \n",
              "6340                                               None   \n",
              "\n",
              "                                         f_user_details  \n",
              "6252  [{'id': 109423163209849522, 'username': 'josep...  \n",
              "4684  [{'id': 254743, 'username': 'thejapantimes', '...  \n",
              "1731  [{'id': 110189489880231650, 'username': 'Yvonn...  \n",
              "4521  [{'id': 109245493701529453, 'username': 'goodt...  \n",
              "6340  [{'id': 237900, 'username': 'jimbush', 'acct':...  "
            ],
            "text/html": [
              "\n",
              "  <div id=\"df-4f5a02b6-980d-4bc3-8479-970c3892321a\">\n",
              "    <div class=\"colab-df-container\">\n",
              "      <div>\n",
              "<style scoped>\n",
              "    .dataframe tbody tr th:only-of-type {\n",
              "        vertical-align: middle;\n",
              "    }\n",
              "\n",
              "    .dataframe tbody tr th {\n",
              "        vertical-align: top;\n",
              "    }\n",
              "\n",
              "    .dataframe thead th {\n",
              "        text-align: right;\n",
              "    }\n",
              "</style>\n",
              "<table border=\"1\" class=\"dataframe\">\n",
              "  <thead>\n",
              "    <tr style=\"text-align: right;\">\n",
              "      <th></th>\n",
              "      <th>Source User id</th>\n",
              "      <th>Source Username</th>\n",
              "      <th>Post id</th>\n",
              "      <th>user_details</th>\n",
              "      <th>f_user_details</th>\n",
              "    </tr>\n",
              "  </thead>\n",
              "  <tbody>\n",
              "    <tr>\n",
              "      <th>6252</th>\n",
              "      <td>475567</td>\n",
              "      <td>lowbeyonder</td>\n",
              "      <td>110249025466804293</td>\n",
              "      <td>[{'id': 109520949079004284, 'username': 'Burit...</td>\n",
              "      <td>[{'id': 109423163209849522, 'username': 'josep...</td>\n",
              "    </tr>\n",
              "    <tr>\n",
              "      <th>4684</th>\n",
              "      <td>110103286910286347</td>\n",
              "      <td>debunkdesign</td>\n",
              "      <td>110248972676470221</td>\n",
              "      <td>None</td>\n",
              "      <td>[{'id': 254743, 'username': 'thejapantimes', '...</td>\n",
              "    </tr>\n",
              "    <tr>\n",
              "      <th>1731</th>\n",
              "      <td>109362241251053845</td>\n",
              "      <td>yahoo201027</td>\n",
              "      <td>110248868907922593</td>\n",
              "      <td>None</td>\n",
              "      <td>[{'id': 110189489880231650, 'username': 'Yvonn...</td>\n",
              "    </tr>\n",
              "    <tr>\n",
              "      <th>4521</th>\n",
              "      <td>38103</td>\n",
              "      <td>fvn</td>\n",
              "      <td>110248967893170402</td>\n",
              "      <td>None</td>\n",
              "      <td>[{'id': 109245493701529453, 'username': 'goodt...</td>\n",
              "    </tr>\n",
              "    <tr>\n",
              "      <th>6340</th>\n",
              "      <td>109835529188868068</td>\n",
              "      <td>ukfreeviewfilms</td>\n",
              "      <td>110249026534506812</td>\n",
              "      <td>None</td>\n",
              "      <td>[{'id': 237900, 'username': 'jimbush', 'acct':...</td>\n",
              "    </tr>\n",
              "  </tbody>\n",
              "</table>\n",
              "</div>\n",
              "      <button class=\"colab-df-convert\" onclick=\"convertToInteractive('df-4f5a02b6-980d-4bc3-8479-970c3892321a')\"\n",
              "              title=\"Convert this dataframe to an interactive table.\"\n",
              "              style=\"display:none;\">\n",
              "        \n",
              "  <svg xmlns=\"http://www.w3.org/2000/svg\" height=\"24px\"viewBox=\"0 0 24 24\"\n",
              "       width=\"24px\">\n",
              "    <path d=\"M0 0h24v24H0V0z\" fill=\"none\"/>\n",
              "    <path d=\"M18.56 5.44l.94 2.06.94-2.06 2.06-.94-2.06-.94-.94-2.06-.94 2.06-2.06.94zm-11 1L8.5 8.5l.94-2.06 2.06-.94-2.06-.94L8.5 2.5l-.94 2.06-2.06.94zm10 10l.94 2.06.94-2.06 2.06-.94-2.06-.94-.94-2.06-.94 2.06-2.06.94z\"/><path d=\"M17.41 7.96l-1.37-1.37c-.4-.4-.92-.59-1.43-.59-.52 0-1.04.2-1.43.59L10.3 9.45l-7.72 7.72c-.78.78-.78 2.05 0 2.83L4 21.41c.39.39.9.59 1.41.59.51 0 1.02-.2 1.41-.59l7.78-7.78 2.81-2.81c.8-.78.8-2.07 0-2.86zM5.41 20L4 18.59l7.72-7.72 1.47 1.35L5.41 20z\"/>\n",
              "  </svg>\n",
              "      </button>\n",
              "      \n",
              "  <style>\n",
              "    .colab-df-container {\n",
              "      display:flex;\n",
              "      flex-wrap:wrap;\n",
              "      gap: 12px;\n",
              "    }\n",
              "\n",
              "    .colab-df-convert {\n",
              "      background-color: #E8F0FE;\n",
              "      border: none;\n",
              "      border-radius: 50%;\n",
              "      cursor: pointer;\n",
              "      display: none;\n",
              "      fill: #1967D2;\n",
              "      height: 32px;\n",
              "      padding: 0 0 0 0;\n",
              "      width: 32px;\n",
              "    }\n",
              "\n",
              "    .colab-df-convert:hover {\n",
              "      background-color: #E2EBFA;\n",
              "      box-shadow: 0px 1px 2px rgba(60, 64, 67, 0.3), 0px 1px 3px 1px rgba(60, 64, 67, 0.15);\n",
              "      fill: #174EA6;\n",
              "    }\n",
              "\n",
              "    [theme=dark] .colab-df-convert {\n",
              "      background-color: #3B4455;\n",
              "      fill: #D2E3FC;\n",
              "    }\n",
              "\n",
              "    [theme=dark] .colab-df-convert:hover {\n",
              "      background-color: #434B5C;\n",
              "      box-shadow: 0px 1px 3px 1px rgba(0, 0, 0, 0.15);\n",
              "      filter: drop-shadow(0px 1px 2px rgba(0, 0, 0, 0.3));\n",
              "      fill: #FFFFFF;\n",
              "    }\n",
              "  </style>\n",
              "\n",
              "      <script>\n",
              "        const buttonEl =\n",
              "          document.querySelector('#df-4f5a02b6-980d-4bc3-8479-970c3892321a button.colab-df-convert');\n",
              "        buttonEl.style.display =\n",
              "          google.colab.kernel.accessAllowed ? 'block' : 'none';\n",
              "\n",
              "        async function convertToInteractive(key) {\n",
              "          const element = document.querySelector('#df-4f5a02b6-980d-4bc3-8479-970c3892321a');\n",
              "          const dataTable =\n",
              "            await google.colab.kernel.invokeFunction('convertToInteractive',\n",
              "                                                     [key], {});\n",
              "          if (!dataTable) return;\n",
              "\n",
              "          const docLinkHtml = 'Like what you see? Visit the ' +\n",
              "            '<a target=\"_blank\" href=https://colab.research.google.com/notebooks/data_table.ipynb>data table notebook</a>'\n",
              "            + ' to learn more about interactive tables.';\n",
              "          element.innerHTML = '';\n",
              "          dataTable['output_type'] = 'display_data';\n",
              "          await google.colab.output.renderOutput(dataTable, element);\n",
              "          const docLink = document.createElement('div');\n",
              "          docLink.innerHTML = docLinkHtml;\n",
              "          element.appendChild(docLink);\n",
              "        }\n",
              "      </script>\n",
              "    </div>\n",
              "  </div>\n",
              "  "
            ]
          },
          "metadata": {},
          "execution_count": 115
        }
      ]
    },
    {
      "cell_type": "code",
      "source": [
        "f_user_list = df_new22[\"f_user_details\"]\n",
        "\n",
        "following_id = []\n",
        "for item in f_user_list:\n",
        "    if isinstance(item, list) and all(isinstance(elem, dict) and 'id' in elem for elem in item):\n",
        "        following_id.append([elem['id'] for elem in item])\n",
        "    elif isinstance(item, dict) and 'id' in item:\n",
        "        following_id.append(item['id'])"
      ],
      "metadata": {
        "id": "9SIdnVMxIqpZ"
      },
      "execution_count": 117,
      "outputs": []
    },
    {
      "cell_type": "code",
      "source": [
        "df_new22[\"Following id\"] = following_id"
      ],
      "metadata": {
        "colab": {
          "base_uri": "https://localhost:8080/"
        },
        "id": "1RwC-ZR7I35N",
        "outputId": "cce802be-6923-44df-c194-723267724d40"
      },
      "execution_count": 118,
      "outputs": [
        {
          "output_type": "stream",
          "name": "stderr",
          "text": [
            "<ipython-input-118-50690e28b271>:1: SettingWithCopyWarning: \n",
            "A value is trying to be set on a copy of a slice from a DataFrame.\n",
            "Try using .loc[row_indexer,col_indexer] = value instead\n",
            "\n",
            "See the caveats in the documentation: https://pandas.pydata.org/pandas-docs/stable/user_guide/indexing.html#returning-a-view-versus-a-copy\n",
            "  df_new22[\"Following id\"] = following_id\n"
          ]
        }
      ]
    },
    {
      "cell_type": "code",
      "source": [
        "following = df_new22[[\"Source User id\", \"Following id\"]]\n",
        "following.to_csv(\"FollowingFinal.csv\")"
      ],
      "metadata": {
        "id": "k_KlK_PTJEdG"
      },
      "execution_count": 120,
      "outputs": []
    },
    {
      "cell_type": "code",
      "source": [
        "f_output = []\n",
        "G1 = nx.Graph()\n",
        "# open the CSV file and read each row\n",
        "with open('FollowingFinal.csv') as csvfile:\n",
        "    csv_reader = csv.reader(csvfile, delimiter=',', skipinitialspace=True)\n",
        "    next(csv_reader, None)  # skip header\n",
        "    for row in csv_reader:\n",
        "        target_list = ast.literal_eval(row[2])\n",
        "        for target in target_list:\n",
        "            f_output.append([row[1], str(target)])"
      ],
      "metadata": {
        "id": "TIPvf38WJPeU"
      },
      "execution_count": 121,
      "outputs": []
    },
    {
      "cell_type": "code",
      "source": [
        "G1.add_edges_from(f_output)\n",
        "  "
      ],
      "metadata": {
        "id": "JxtVz3MUJdeb"
      },
      "execution_count": 122,
      "outputs": []
    },
    {
      "cell_type": "code",
      "source": [
        "G1.number_of_edges()"
      ],
      "metadata": {
        "colab": {
          "base_uri": "https://localhost:8080/"
        },
        "id": "ujnx43g6JiGo",
        "outputId": "bcbfb669-6e97-4f9b-aa3a-dec820a0f666"
      },
      "execution_count": 124,
      "outputs": [
        {
          "output_type": "execute_result",
          "data": {
            "text/plain": [
              "115636"
            ]
          },
          "metadata": {},
          "execution_count": 124
        }
      ]
    },
    {
      "cell_type": "code",
      "source": [
        "f_connected_comp = list(nx.connected_components(G1))\n",
        "f_l_cc = max(f_connected_comp, key=len)\n",
        "f_sub_graph = G1.subgraph(f_l_cc)"
      ],
      "metadata": {
        "id": "ls_GzatJJkSE"
      },
      "execution_count": 125,
      "outputs": []
    },
    {
      "cell_type": "code",
      "source": [
        "# Get the degree sequence of the graph\n",
        "f_degree_sequence = [d for n, d in f_sub_graph.degree()]\n",
        "\n",
        "# Calculate the degree distribution as a dictionary\n",
        "f_degree_distribution = {}\n",
        "for degree in f_degree_sequence:\n",
        "    if degree in f_degree_distribution:\n",
        "        f_degree_distribution[degree] += 1\n",
        "    else:\n",
        "        f_degree_distribution[degree] = 1\n",
        "\n",
        "# Normalize the degree distribution by dividing by the number of nodes\n",
        "nn_nodes = f_sub_graph.number_of_nodes()\n",
        "for degree in f_degree_distribution:\n",
        "    f_degree_distribution[degree] /= nn_nodes"
      ],
      "metadata": {
        "id": "woPqyYCLJvNX"
      },
      "execution_count": 126,
      "outputs": []
    },
    {
      "cell_type": "code",
      "source": [
        "plt.scatter(list(f_degree_distribution.keys()), list(f_degree_distribution.values()))\n",
        "plt.xscale('log')\n",
        "plt.yscale('log')\n",
        "plt.xlabel(\"Degree\")\n",
        "plt.ylabel(\"Distribution\")"
      ],
      "metadata": {
        "colab": {
          "base_uri": "https://localhost:8080/",
          "height": 471
        },
        "id": "zu_ejCiSJ9J2",
        "outputId": "a6af1666-10ac-47c6-d1fc-ec97845e5e3d"
      },
      "execution_count": 127,
      "outputs": [
        {
          "output_type": "execute_result",
          "data": {
            "text/plain": [
              "Text(0, 0.5, 'Distribution')"
            ]
          },
          "metadata": {},
          "execution_count": 127
        },
        {
          "output_type": "display_data",
          "data": {
            "text/plain": [
              "<Figure size 640x480 with 1 Axes>"
            ],
            "image/png": "[encoded data removed]"
          },
          "metadata": {}
        }
      ]
    },
    {
      "cell_type": "code",
      "source": [
        "fit = powerlaw.Fit(f_degree_sequence)"
      ],
      "metadata": {
        "colab": {
          "base_uri": "https://localhost:8080/"
        },
        "id": "5P9lK1xTKDg3",
        "outputId": "f0c6fef6-f664-47cb-c3a3-889f4260aaac"
      },
      "execution_count": 128,
      "outputs": [
        {
          "output_type": "stream",
          "name": "stdout",
          "text": [
            "Calculating best minimal value for power law fit\n"
          ]
        }
      ]
    },
    {
      "cell_type": "code",
      "source": [
        "f_alpha = fit.power_law.alpha\n",
        "f_xmin = fit.power_law.xmin\n",
        "print(f_alpha)\n",
        "print(f_xmin)"
      ],
      "metadata": {
        "colab": {
          "base_uri": "https://localhost:8080/"
        },
        "id": "6hRQFf_-KJ83",
        "outputId": "6095a7a5-a904-4ee2-b209-f6631340f99b"
      },
      "execution_count": 129,
      "outputs": [
        {
          "output_type": "stream",
          "name": "stdout",
          "text": [
            "2.860919821438195\n",
            "111.0\n"
          ]
        }
      ]
    },
    {
      "cell_type": "code",
      "source": [
        "fit.plot_ccdf()"
      ],
      "metadata": {
        "colab": {
          "base_uri": "https://localhost:8080/",
          "height": 451
        },
        "id": "5IhNnqjMPuZI",
        "outputId": "be22f43d-f8de-4ae8-b7bb-f42ec6b640ba"
      },
      "execution_count": 157,
      "outputs": [
        {
          "output_type": "execute_result",
          "data": {
            "text/plain": [
              "<Axes: >"
            ]
          },
          "metadata": {},
          "execution_count": 157
        },
        {
          "output_type": "display_data",
          "data": {
            "text/plain": [
              "<Figure size 640x480 with 1 Axes>"
            ],
            "image/png": "[encoded data removed]"
          },
          "metadata": {}
        }
      ]
    },
    {
      "cell_type": "code",
      "source": [
        "df_new22"
      ],
      "metadata": {
        "colab": {
          "base_uri": "https://localhost:8080/",
          "height": 676
        },
        "id": "UtoWDvxOKJ_L",
        "outputId": "b8049133-0daa-43bf-c645-3bee9e5bb0b5"
      },
      "execution_count": 130,
      "outputs": [
        {
          "output_type": "execute_result",
          "data": {
            "text/plain": [
              "          Source User id   Source Username             Post id  \\\n",
              "6252              475567       lowbeyonder  110249025466804293   \n",
              "4684  110103286910286347      debunkdesign  110248972676470221   \n",
              "1731  109362241251053845       yahoo201027  110248868907922593   \n",
              "4521               38103               fvn  110248967893170402   \n",
              "6340  109835529188868068   ukfreeviewfilms  110249026534506812   \n",
              "...                  ...               ...                 ...   \n",
              "3968  109246842179601967       KeineWunder  110248946975525976   \n",
              "5743  109970129706726671           juglugs  110249005412521218   \n",
              "6226  110013513009205592  20thCenturyFoxes  110249022579390549   \n",
              "1973  110151017522373005     willwoodlyric  110248877974762066   \n",
              "336   108601363029999996         Calmar666  110248820269473203   \n",
              "\n",
              "                                           user_details  \\\n",
              "6252  [{'id': 109520949079004284, 'username': 'Burit...   \n",
              "4684                                               None   \n",
              "1731                                               None   \n",
              "4521                                               None   \n",
              "6340                                               None   \n",
              "...                                                 ...   \n",
              "3968                                               None   \n",
              "5743  [{'id': 110300692930375662, 'username': 'c', '...   \n",
              "6226                                               None   \n",
              "1973                                               None   \n",
              "336                                                None   \n",
              "\n",
              "                                         f_user_details  \\\n",
              "6252  [{'id': 109423163209849522, 'username': 'josep...   \n",
              "4684  [{'id': 254743, 'username': 'thejapantimes', '...   \n",
              "1731  [{'id': 110189489880231650, 'username': 'Yvonn...   \n",
              "4521  [{'id': 109245493701529453, 'username': 'goodt...   \n",
              "6340  [{'id': 237900, 'username': 'jimbush', 'acct':...   \n",
              "...                                                 ...   \n",
              "3968  [{'id': 110100938808520633, 'username': 'Palni...   \n",
              "5743  [{'id': 161384, 'username': 'nafise', 'acct': ...   \n",
              "6226  [{'id': 110139553557882571, 'username': 'Arsal...   \n",
              "1973  [{'id': 161384, 'username': 'nafise', 'acct': ...   \n",
              "336   [{'id': 109259679422576127, 'username': 'ninja...   \n",
              "\n",
              "                                           Following id  \n",
              "6252  [109423163209849522, 109295102825352805, 10816...  \n",
              "4684  [254743, 110135227026039196, 41635, 1102714826...  \n",
              "1731  [110189489880231650, 109893807417152724, 10995...  \n",
              "4521  [109245493701529453, 110297051239289897, 11027...  \n",
              "6340  [237900, 322617, 109855641686800461, 110190322...  \n",
              "...                                                 ...  \n",
              "3968  [110100938808520633, 110139428153318868, 11023...  \n",
              "5743                                           [161384]  \n",
              "6226  [110139553557882571, 108311680868415138, 89851...  \n",
              "1973                                           [161384]  \n",
              "336    [109259679422576127, 109301561821223073, 161384]  \n",
              "\n",
              "[4628 rows x 6 columns]"
            ],
            "text/html": [
              "\n",
              "  <div id=\"df-d4e06b60-d14b-4032-9dc0-a667ed6065a1\">\n",
              "    <div class=\"colab-df-container\">\n",
              "      <div>\n",
              "<style scoped>\n",
              "    .dataframe tbody tr th:only-of-type {\n",
              "        vertical-align: middle;\n",
              "    }\n",
              "\n",
              "    .dataframe tbody tr th {\n",
              "        vertical-align: top;\n",
              "    }\n",
              "\n",
              "    .dataframe thead th {\n",
              "        text-align: right;\n",
              "    }\n",
              "</style>\n",
              "<table border=\"1\" class=\"dataframe\">\n",
              "  <thead>\n",
              "    <tr style=\"text-align: right;\">\n",
              "      <th></th>\n",
              "      <th>Source User id</th>\n",
              "      <th>Source Username</th>\n",
              "      <th>Post id</th>\n",
              "      <th>user_details</th>\n",
              "      <th>f_user_details</th>\n",
              "      <th>Following id</th>\n",
              "    </tr>\n",
              "  </thead>\n",
              "  <tbody>\n",
              "    <tr>\n",
              "      <th>6252</th>\n",
              "      <td>475567</td>\n",
              "      <td>lowbeyonder</td>\n",
              "      <td>110249025466804293</td>\n",
              "      <td>[{'id': 109520949079004284, 'username': 'Burit...</td>\n",
              "      <td>[{'id': 109423163209849522, 'username': 'josep...</td>\n",
              "      <td>[109423163209849522, 109295102825352805, 10816...</td>\n",
              "    </tr>\n",
              "    <tr>\n",
              "      <th>4684</th>\n",
              "      <td>110103286910286347</td>\n",
              "      <td>debunkdesign</td>\n",
              "      <td>110248972676470221</td>\n",
              "      <td>None</td>\n",
              "      <td>[{'id': 254743, 'username': 'thejapantimes', '...</td>\n",
              "      <td>[254743, 110135227026039196, 41635, 1102714826...</td>\n",
              "    </tr>\n",
              "    <tr>\n",
              "      <th>1731</th>\n",
              "      <td>109362241251053845</td>\n",
              "      <td>yahoo201027</td>\n",
              "      <td>110248868907922593</td>\n",
              "      <td>None</td>\n",
              "      <td>[{'id': 110189489880231650, 'username': 'Yvonn...</td>\n",
              "      <td>[110189489880231650, 109893807417152724, 10995...</td>\n",
              "    </tr>\n",
              "    <tr>\n",
              "      <th>4521</th>\n",
              "      <td>38103</td>\n",
              "      <td>fvn</td>\n",
              "      <td>110248967893170402</td>\n",
              "      <td>None</td>\n",
              "      <td>[{'id': 109245493701529453, 'username': 'goodt...</td>\n",
              "      <td>[109245493701529453, 110297051239289897, 11027...</td>\n",
              "    </tr>\n",
              "    <tr>\n",
              "      <th>6340</th>\n",
              "      <td>109835529188868068</td>\n",
              "      <td>ukfreeviewfilms</td>\n",
              "      <td>110249026534506812</td>\n",
              "      <td>None</td>\n",
              "      <td>[{'id': 237900, 'username': 'jimbush', 'acct':...</td>\n",
              "      <td>[237900, 322617, 109855641686800461, 110190322...</td>\n",
              "    </tr>\n",
              "    <tr>\n",
              "      <th>...</th>\n",
              "      <td>...</td>\n",
              "      <td>...</td>\n",
              "      <td>...</td>\n",
              "      <td>...</td>\n",
              "      <td>...</td>\n",
              "      <td>...</td>\n",
              "    </tr>\n",
              "    <tr>\n",
              "      <th>3968</th>\n",
              "      <td>109246842179601967</td>\n",
              "      <td>KeineWunder</td>\n",
              "      <td>110248946975525976</td>\n",
              "      <td>None</td>\n",
              "      <td>[{'id': 110100938808520633, 'username': 'Palni...</td>\n",
              "      <td>[110100938808520633, 110139428153318868, 11023...</td>\n",
              "    </tr>\n",
              "    <tr>\n",
              "      <th>5743</th>\n",
              "      <td>109970129706726671</td>\n",
              "      <td>juglugs</td>\n",
              "      <td>110249005412521218</td>\n",
              "      <td>[{'id': 110300692930375662, 'username': 'c', '...</td>\n",
              "      <td>[{'id': 161384, 'username': 'nafise', 'acct': ...</td>\n",
              "      <td>[161384]</td>\n",
              "    </tr>\n",
              "    <tr>\n",
              "      <th>6226</th>\n",
              "      <td>110013513009205592</td>\n",
              "      <td>20thCenturyFoxes</td>\n",
              "      <td>110249022579390549</td>\n",
              "      <td>None</td>\n",
              "      <td>[{'id': 110139553557882571, 'username': 'Arsal...</td>\n",
              "      <td>[110139553557882571, 108311680868415138, 89851...</td>\n",
              "    </tr>\n",
              "    <tr>\n",
              "      <th>1973</th>\n",
              "      <td>110151017522373005</td>\n",
              "      <td>willwoodlyric</td>\n",
              "      <td>110248877974762066</td>\n",
              "      <td>None</td>\n",
              "      <td>[{'id': 161384, 'username': 'nafise', 'acct': ...</td>\n",
              "      <td>[161384]</td>\n",
              "    </tr>\n",
              "    <tr>\n",
              "      <th>336</th>\n",
              "      <td>108601363029999996</td>\n",
              "      <td>Calmar666</td>\n",
              "      <td>110248820269473203</td>\n",
              "      <td>None</td>\n",
              "      <td>[{'id': 109259679422576127, 'username': 'ninja...</td>\n",
              "      <td>[109259679422576127, 109301561821223073, 161384]</td>\n",
              "    </tr>\n",
              "  </tbody>\n",
              "</table>\n",
              "<p>4628 rows × 6 columns</p>\n",
              "</div>\n",
              "      <button class=\"colab-df-convert\" onclick=\"convertToInteractive('df-d4e06b60-d14b-4032-9dc0-a667ed6065a1')\"\n",
              "              title=\"Convert this dataframe to an interactive table.\"\n",
              "              style=\"display:none;\">\n",
              "        \n",
              "  <svg xmlns=\"http://www.w3.org/2000/svg\" height=\"24px\"viewBox=\"0 0 24 24\"\n",
              "       width=\"24px\">\n",
              "    <path d=\"M0 0h24v24H0V0z\" fill=\"none\"/>\n",
              "    <path d=\"M18.56 5.44l.94 2.06.94-2.06 2.06-.94-2.06-.94-.94-2.06-.94 2.06-2.06.94zm-11 1L8.5 8.5l.94-2.06 2.06-.94-2.06-.94L8.5 2.5l-.94 2.06-2.06.94zm10 10l.94 2.06.94-2.06 2.06-.94-2.06-.94-.94-2.06-.94 2.06-2.06.94z\"/><path d=\"M17.41 7.96l-1.37-1.37c-.4-.4-.92-.59-1.43-.59-.52 0-1.04.2-1.43.59L10.3 9.45l-7.72 7.72c-.78.78-.78 2.05 0 2.83L4 21.41c.39.39.9.59 1.41.59.51 0 1.02-.2 1.41-.59l7.78-7.78 2.81-2.81c.8-.78.8-2.07 0-2.86zM5.41 20L4 18.59l7.72-7.72 1.47 1.35L5.41 20z\"/>\n",
              "  </svg>\n",
              "      </button>\n",
              "      \n",
              "  <style>\n",
              "    .colab-df-container {\n",
              "      display:flex;\n",
              "      flex-wrap:wrap;\n",
              "      gap: 12px;\n",
              "    }\n",
              "\n",
              "    .colab-df-convert {\n",
              "      background-color: #E8F0FE;\n",
              "      border: none;\n",
              "      border-radius: 50%;\n",
              "      cursor: pointer;\n",
              "      display: none;\n",
              "      fill: #1967D2;\n",
              "      height: 32px;\n",
              "      padding: 0 0 0 0;\n",
              "      width: 32px;\n",
              "    }\n",
              "\n",
              "    .colab-df-convert:hover {\n",
              "      background-color: #E2EBFA;\n",
              "      box-shadow: 0px 1px 2px rgba(60, 64, 67, 0.3), 0px 1px 3px 1px rgba(60, 64, 67, 0.15);\n",
              "      fill: #174EA6;\n",
              "    }\n",
              "\n",
              "    [theme=dark] .colab-df-convert {\n",
              "      background-color: #3B4455;\n",
              "      fill: #D2E3FC;\n",
              "    }\n",
              "\n",
              "    [theme=dark] .colab-df-convert:hover {\n",
              "      background-color: #434B5C;\n",
              "      box-shadow: 0px 1px 3px 1px rgba(0, 0, 0, 0.15);\n",
              "      filter: drop-shadow(0px 1px 2px rgba(0, 0, 0, 0.3));\n",
              "      fill: #FFFFFF;\n",
              "    }\n",
              "  </style>\n",
              "\n",
              "      <script>\n",
              "        const buttonEl =\n",
              "          document.querySelector('#df-d4e06b60-d14b-4032-9dc0-a667ed6065a1 button.colab-df-convert');\n",
              "        buttonEl.style.display =\n",
              "          google.colab.kernel.accessAllowed ? 'block' : 'none';\n",
              "\n",
              "        async function convertToInteractive(key) {\n",
              "          const element = document.querySelector('#df-d4e06b60-d14b-4032-9dc0-a667ed6065a1');\n",
              "          const dataTable =\n",
              "            await google.colab.kernel.invokeFunction('convertToInteractive',\n",
              "                                                     [key], {});\n",
              "          if (!dataTable) return;\n",
              "\n",
              "          const docLinkHtml = 'Like what you see? Visit the ' +\n",
              "            '<a target=\"_blank\" href=https://colab.research.google.com/notebooks/data_table.ipynb>data table notebook</a>'\n",
              "            + ' to learn more about interactive tables.';\n",
              "          element.innerHTML = '';\n",
              "          dataTable['output_type'] = 'display_data';\n",
              "          await google.colab.output.renderOutput(dataTable, element);\n",
              "          const docLink = document.createElement('div');\n",
              "          docLink.innerHTML = docLinkHtml;\n",
              "          element.appendChild(docLink);\n",
              "        }\n",
              "      </script>\n",
              "    </div>\n",
              "  </div>\n",
              "  "
            ]
          },
          "metadata": {},
          "execution_count": 130
        }
      ]
    },
    {
      "cell_type": "code",
      "source": [
        "df_new2"
      ],
      "metadata": {
        "colab": {
          "base_uri": "https://localhost:8080/",
          "height": 658
        },
        "id": "R4EL-BhZKKBf",
        "outputId": "158f1068-172e-4e59-e7ac-ea58c6042df4"
      },
      "execution_count": 131,
      "outputs": [
        {
          "output_type": "execute_result",
          "data": {
            "text/plain": [
              "          Source User id  Source Username             Post id  \\\n",
              "6252              475567      lowbeyonder  110249025466804293   \n",
              "6363  109251428687235255          Zehavoc  110249031201298049   \n",
              "2750  109819256972922140         Fayedray  110248902117190135   \n",
              "5272  109956450497135672           riadsb  110248989324234911   \n",
              "3999              487612  kochkunstEbooks  110248942843996542   \n",
              "...                  ...              ...                 ...   \n",
              "5775             1167185        VTVCANAL8  110249008056431122   \n",
              "5642               28517            wblut  110249006558796617   \n",
              "6860               29966            Hampo  110249044069181562   \n",
              "9905  109956474191191188     overbellevue  110249150148851456   \n",
              "5743  109970129706726671          juglugs  110249005412521218   \n",
              "\n",
              "                                           user_details  \\\n",
              "6252  [{'id': 109520949079004284, 'username': 'Burit...   \n",
              "6363  [{'id': 109366127502156558, 'username': 'caval...   \n",
              "2750  [{'id': 109336851987706232, 'username': 'lowqu...   \n",
              "5272  [{'id': 110272504592069717, 'username': 'Meado...   \n",
              "3999  [{'id': 109400274048348569, 'username': 'iam',...   \n",
              "...                                                 ...   \n",
              "5775  [{'id': 110300120091899193, 'username': '3DBil...   \n",
              "5642  [{'id': 109539246788414837, 'username': 'patch...   \n",
              "6860  [{'id': 108772405993602191, 'username': '1t3rt...   \n",
              "9905  [{'id': 110142102254139938, 'username': 'Jamty...   \n",
              "5743  [{'id': 110300692930375662, 'username': 'c', '...   \n",
              "\n",
              "                                            Follower id  \n",
              "6252  [109520949079004284, 109543399031319888, 11028...  \n",
              "6363  [109366127502156558, 109327661656375280, 11007...  \n",
              "2750  [109336851987706232, 109314377565760811, 10937...  \n",
              "5272  [110272504592069717, 107770278469497760, 11024...  \n",
              "3999  [109400274048348569, 109699790835414175, 10933...  \n",
              "...                                                 ...  \n",
              "5775  [110300120091899193, 110290584187882541, 10962...  \n",
              "5642  [109539246788414837, 221063, 11027179380824439...  \n",
              "6860  [108772405993602191, 110068921406778348, 11023...  \n",
              "9905           [110142102254139938, 110173161793044698]  \n",
              "5743  [110300692930375662, 368516, 10819727472603924...  \n",
              "\n",
              "[2192 rows x 5 columns]"
            ],
            "text/html": [
              "\n",
              "  <div id=\"df-f139702a-8e72-4399-8c2b-a12001332bd9\">\n",
              "    <div class=\"colab-df-container\">\n",
              "      <div>\n",
              "<style scoped>\n",
              "    .dataframe tbody tr th:only-of-type {\n",
              "        vertical-align: middle;\n",
              "    }\n",
              "\n",
              "    .dataframe tbody tr th {\n",
              "        vertical-align: top;\n",
              "    }\n",
              "\n",
              "    .dataframe thead th {\n",
              "        text-align: right;\n",
              "    }\n",
              "</style>\n",
              "<table border=\"1\" class=\"dataframe\">\n",
              "  <thead>\n",
              "    <tr style=\"text-align: right;\">\n",
              "      <th></th>\n",
              "      <th>Source User id</th>\n",
              "      <th>Source Username</th>\n",
              "      <th>Post id</th>\n",
              "      <th>user_details</th>\n",
              "      <th>Follower id</th>\n",
              "    </tr>\n",
              "  </thead>\n",
              "  <tbody>\n",
              "    <tr>\n",
              "      <th>6252</th>\n",
              "      <td>475567</td>\n",
              "      <td>lowbeyonder</td>\n",
              "      <td>110249025466804293</td>\n",
              "      <td>[{'id': 109520949079004284, 'username': 'Burit...</td>\n",
              "      <td>[109520949079004284, 109543399031319888, 11028...</td>\n",
              "    </tr>\n",
              "    <tr>\n",
              "      <th>6363</th>\n",
              "      <td>109251428687235255</td>\n",
              "      <td>Zehavoc</td>\n",
              "      <td>110249031201298049</td>\n",
              "      <td>[{'id': 109366127502156558, 'username': 'caval...</td>\n",
              "      <td>[109366127502156558, 109327661656375280, 11007...</td>\n",
              "    </tr>\n",
              "    <tr>\n",
              "      <th>2750</th>\n",
              "      <td>109819256972922140</td>\n",
              "      <td>Fayedray</td>\n",
              "      <td>110248902117190135</td>\n",
              "      <td>[{'id': 109336851987706232, 'username': 'lowqu...</td>\n",
              "      <td>[109336851987706232, 109314377565760811, 10937...</td>\n",
              "    </tr>\n",
              "    <tr>\n",
              "      <th>5272</th>\n",
              "      <td>109956450497135672</td>\n",
              "      <td>riadsb</td>\n",
              "      <td>110248989324234911</td>\n",
              "      <td>[{'id': 110272504592069717, 'username': 'Meado...</td>\n",
              "      <td>[110272504592069717, 107770278469497760, 11024...</td>\n",
              "    </tr>\n",
              "    <tr>\n",
              "      <th>3999</th>\n",
              "      <td>487612</td>\n",
              "      <td>kochkunstEbooks</td>\n",
              "      <td>110248942843996542</td>\n",
              "      <td>[{'id': 109400274048348569, 'username': 'iam',...</td>\n",
              "      <td>[109400274048348569, 109699790835414175, 10933...</td>\n",
              "    </tr>\n",
              "    <tr>\n",
              "      <th>...</th>\n",
              "      <td>...</td>\n",
              "      <td>...</td>\n",
              "      <td>...</td>\n",
              "      <td>...</td>\n",
              "      <td>...</td>\n",
              "    </tr>\n",
              "    <tr>\n",
              "      <th>5775</th>\n",
              "      <td>1167185</td>\n",
              "      <td>VTVCANAL8</td>\n",
              "      <td>110249008056431122</td>\n",
              "      <td>[{'id': 110300120091899193, 'username': '3DBil...</td>\n",
              "      <td>[110300120091899193, 110290584187882541, 10962...</td>\n",
              "    </tr>\n",
              "    <tr>\n",
              "      <th>5642</th>\n",
              "      <td>28517</td>\n",
              "      <td>wblut</td>\n",
              "      <td>110249006558796617</td>\n",
              "      <td>[{'id': 109539246788414837, 'username': 'patch...</td>\n",
              "      <td>[109539246788414837, 221063, 11027179380824439...</td>\n",
              "    </tr>\n",
              "    <tr>\n",
              "      <th>6860</th>\n",
              "      <td>29966</td>\n",
              "      <td>Hampo</td>\n",
              "      <td>110249044069181562</td>\n",
              "      <td>[{'id': 108772405993602191, 'username': '1t3rt...</td>\n",
              "      <td>[108772405993602191, 110068921406778348, 11023...</td>\n",
              "    </tr>\n",
              "    <tr>\n",
              "      <th>9905</th>\n",
              "      <td>109956474191191188</td>\n",
              "      <td>overbellevue</td>\n",
              "      <td>110249150148851456</td>\n",
              "      <td>[{'id': 110142102254139938, 'username': 'Jamty...</td>\n",
              "      <td>[110142102254139938, 110173161793044698]</td>\n",
              "    </tr>\n",
              "    <tr>\n",
              "      <th>5743</th>\n",
              "      <td>109970129706726671</td>\n",
              "      <td>juglugs</td>\n",
              "      <td>110249005412521218</td>\n",
              "      <td>[{'id': 110300692930375662, 'username': 'c', '...</td>\n",
              "      <td>[110300692930375662, 368516, 10819727472603924...</td>\n",
              "    </tr>\n",
              "  </tbody>\n",
              "</table>\n",
              "<p>2192 rows × 5 columns</p>\n",
              "</div>\n",
              "      <button class=\"colab-df-convert\" onclick=\"convertToInteractive('df-f139702a-8e72-4399-8c2b-a12001332bd9')\"\n",
              "              title=\"Convert this dataframe to an interactive table.\"\n",
              "              style=\"display:none;\">\n",
              "        \n",
              "  <svg xmlns=\"http://www.w3.org/2000/svg\" height=\"24px\"viewBox=\"0 0 24 24\"\n",
              "       width=\"24px\">\n",
              "    <path d=\"M0 0h24v24H0V0z\" fill=\"none\"/>\n",
              "    <path d=\"M18.56 5.44l.94 2.06.94-2.06 2.06-.94-2.06-.94-.94-2.06-.94 2.06-2.06.94zm-11 1L8.5 8.5l.94-2.06 2.06-.94-2.06-.94L8.5 2.5l-.94 2.06-2.06.94zm10 10l.94 2.06.94-2.06 2.06-.94-2.06-.94-.94-2.06-.94 2.06-2.06.94z\"/><path d=\"M17.41 7.96l-1.37-1.37c-.4-.4-.92-.59-1.43-.59-.52 0-1.04.2-1.43.59L10.3 9.45l-7.72 7.72c-.78.78-.78 2.05 0 2.83L4 21.41c.39.39.9.59 1.41.59.51 0 1.02-.2 1.41-.59l7.78-7.78 2.81-2.81c.8-.78.8-2.07 0-2.86zM5.41 20L4 18.59l7.72-7.72 1.47 1.35L5.41 20z\"/>\n",
              "  </svg>\n",
              "      </button>\n",
              "      \n",
              "  <style>\n",
              "    .colab-df-container {\n",
              "      display:flex;\n",
              "      flex-wrap:wrap;\n",
              "      gap: 12px;\n",
              "    }\n",
              "\n",
              "    .colab-df-convert {\n",
              "      background-color: #E8F0FE;\n",
              "      border: none;\n",
              "      border-radius: 50%;\n",
              "      cursor: pointer;\n",
              "      display: none;\n",
              "      fill: #1967D2;\n",
              "      height: 32px;\n",
              "      padding: 0 0 0 0;\n",
              "      width: 32px;\n",
              "    }\n",
              "\n",
              "    .colab-df-convert:hover {\n",
              "      background-color: #E2EBFA;\n",
              "      box-shadow: 0px 1px 2px rgba(60, 64, 67, 0.3), 0px 1px 3px 1px rgba(60, 64, 67, 0.15);\n",
              "      fill: #174EA6;\n",
              "    }\n",
              "\n",
              "    [theme=dark] .colab-df-convert {\n",
              "      background-color: #3B4455;\n",
              "      fill: #D2E3FC;\n",
              "    }\n",
              "\n",
              "    [theme=dark] .colab-df-convert:hover {\n",
              "      background-color: #434B5C;\n",
              "      box-shadow: 0px 1px 3px 1px rgba(0, 0, 0, 0.15);\n",
              "      filter: drop-shadow(0px 1px 2px rgba(0, 0, 0, 0.3));\n",
              "      fill: #FFFFFF;\n",
              "    }\n",
              "  </style>\n",
              "\n",
              "      <script>\n",
              "        const buttonEl =\n",
              "          document.querySelector('#df-f139702a-8e72-4399-8c2b-a12001332bd9 button.colab-df-convert');\n",
              "        buttonEl.style.display =\n",
              "          google.colab.kernel.accessAllowed ? 'block' : 'none';\n",
              "\n",
              "        async function convertToInteractive(key) {\n",
              "          const element = document.querySelector('#df-f139702a-8e72-4399-8c2b-a12001332bd9');\n",
              "          const dataTable =\n",
              "            await google.colab.kernel.invokeFunction('convertToInteractive',\n",
              "                                                     [key], {});\n",
              "          if (!dataTable) return;\n",
              "\n",
              "          const docLinkHtml = 'Like what you see? Visit the ' +\n",
              "            '<a target=\"_blank\" href=https://colab.research.google.com/notebooks/data_table.ipynb>data table notebook</a>'\n",
              "            + ' to learn more about interactive tables.';\n",
              "          element.innerHTML = '';\n",
              "          dataTable['output_type'] = 'display_data';\n",
              "          await google.colab.output.renderOutput(dataTable, element);\n",
              "          const docLink = document.createElement('div');\n",
              "          docLink.innerHTML = docLinkHtml;\n",
              "          element.appendChild(docLink);\n",
              "        }\n",
              "      </script>\n",
              "    </div>\n",
              "  </div>\n",
              "  "
            ]
          },
          "metadata": {},
          "execution_count": 131
        }
      ]
    },
    {
      "cell_type": "code",
      "source": [
        "new_G = nx.Graph()"
      ],
      "metadata": {
        "id": "JuVglM6kKKEw"
      },
      "execution_count": 132,
      "outputs": []
    },
    {
      "cell_type": "code",
      "source": [
        "new_G.add_edges_from(output)"
      ],
      "metadata": {
        "id": "edItEuNSKoO2"
      },
      "execution_count": 133,
      "outputs": []
    },
    {
      "cell_type": "code",
      "source": [
        "new_G.add_edges_from(f_output)"
      ],
      "metadata": {
        "id": "k6LX-5DfKs1-"
      },
      "execution_count": 134,
      "outputs": []
    },
    {
      "cell_type": "code",
      "source": [
        "new_G.number_of_nodes()"
      ],
      "metadata": {
        "colab": {
          "base_uri": "https://localhost:8080/"
        },
        "id": "HWqW2iiVKvjR",
        "outputId": "d42e5c6f-a359-42a9-cae7-77886548f71f"
      },
      "execution_count": 135,
      "outputs": [
        {
          "output_type": "execute_result",
          "data": {
            "text/plain": [
              "31838"
            ]
          },
          "metadata": {},
          "execution_count": 135
        }
      ]
    },
    {
      "cell_type": "code",
      "source": [
        "new_G.number_of_edges()"
      ],
      "metadata": {
        "colab": {
          "base_uri": "https://localhost:8080/"
        },
        "id": "nuUFB_UfKyJ_",
        "outputId": "53e7ec26-bb32-4e73-abb4-8f2904ce2cce"
      },
      "execution_count": 136,
      "outputs": [
        {
          "output_type": "execute_result",
          "data": {
            "text/plain": [
              "178946"
            ]
          },
          "metadata": {},
          "execution_count": 136
        }
      ]
    },
    {
      "cell_type": "code",
      "source": [
        "ff_connected_comp = list(nx.connected_components(new_G))\n",
        "ff_l_cc = max(ff_connected_comp, key=len)\n",
        "ff_sub_graph = new_G.subgraph(ff_l_cc)"
      ],
      "metadata": {
        "id": "tACs1gWuK0Yr"
      },
      "execution_count": 137,
      "outputs": []
    },
    {
      "cell_type": "code",
      "source": [
        "# Get the degree sequence of the graph\n",
        "ff_degree_sequence = [d for n, d in ff_sub_graph.degree()]\n",
        "\n",
        "# Calculate the degree distribution as a dictionary\n",
        "ff_degree_distribution = {}\n",
        "for degree in ff_degree_sequence:\n",
        "    if degree in ff_degree_distribution:\n",
        "        ff_degree_distribution[degree] += 1\n",
        "    else:\n",
        "        ff_degree_distribution[degree] = 1\n",
        "\n",
        "# Normalize the degree distribution by dividing by the number of nodes\n",
        "nn_nodess = ff_sub_graph.number_of_nodes()\n",
        "for degree in ff_degree_distribution:\n",
        "    ff_degree_distribution[degree] /= nn_nodess"
      ],
      "metadata": {
        "id": "QOs_RcSsK_Ri"
      },
      "execution_count": 138,
      "outputs": []
    },
    {
      "cell_type": "code",
      "source": [
        "plt.scatter(list(ff_degree_distribution.keys()), list(ff_degree_distribution.values()))\n",
        "plt.xscale('log')\n",
        "plt.yscale('log')\n",
        "plt.xlabel(\"Degree\")\n",
        "plt.ylabel(\"Distribution\")"
      ],
      "metadata": {
        "colab": {
          "base_uri": "https://localhost:8080/",
          "height": 471
        },
        "id": "fETXk_ghLKMu",
        "outputId": "e2e1222f-012f-4c37-ad3f-d5079ba2dcc1"
      },
      "execution_count": 139,
      "outputs": [
        {
          "output_type": "execute_result",
          "data": {
            "text/plain": [
              "Text(0, 0.5, 'Distribution')"
            ]
          },
          "metadata": {},
          "execution_count": 139
        },
        {
          "output_type": "display_data",
          "data": {
            "text/plain": [
              "<Figure size 640x480 with 1 Axes>"
            ],
            "image/png": "[encoded data removed]"
          },
          "metadata": {}
        }
      ]
    },
    {
      "cell_type": "code",
      "source": [
        "ff_fit = powerlaw.Fit(ff_degree_sequence)"
      ],
      "metadata": {
        "colab": {
          "base_uri": "https://localhost:8080/"
        },
        "id": "Ajv80ngwLOrA",
        "outputId": "0ed060ce-b3fc-4da2-b90d-6320ad1bcd9c"
      },
      "execution_count": 144,
      "outputs": [
        {
          "output_type": "stream",
          "name": "stdout",
          "text": [
            "Calculating best minimal value for power law fit\n"
          ]
        }
      ]
    },
    {
      "cell_type": "code",
      "source": [
        "print(ff_fit.power_law.alpha)"
      ],
      "metadata": {
        "colab": {
          "base_uri": "https://localhost:8080/"
        },
        "id": "yaEqaFKQLTuT",
        "outputId": "4477294f-16d5-447a-ccee-460873458f79"
      },
      "execution_count": 145,
      "outputs": [
        {
          "output_type": "stream",
          "name": "stdout",
          "text": [
            "2.775016826524476\n"
          ]
        }
      ]
    },
    {
      "cell_type": "code",
      "source": [
        "print(ff_fit.power_law.xmin)"
      ],
      "metadata": {
        "colab": {
          "base_uri": "https://localhost:8080/"
        },
        "id": "1QJ17W9WLWoo",
        "outputId": "293ce336-faad-4112-de00-0a386eccce25"
      },
      "execution_count": 146,
      "outputs": [
        {
          "output_type": "stream",
          "name": "stdout",
          "text": [
            "150.0\n"
          ]
        }
      ]
    },
    {
      "cell_type": "code",
      "source": [
        "ff_fit.plot_ccdf()"
      ],
      "metadata": {
        "colab": {
          "base_uri": "https://localhost:8080/",
          "height": 451
        },
        "id": "NqgqTlgVLY-c",
        "outputId": "4095ee68-a0ec-4780-eb52-e69437806591"
      },
      "execution_count": 147,
      "outputs": [
        {
          "output_type": "execute_result",
          "data": {
            "text/plain": [
              "<Axes: >"
            ]
          },
          "metadata": {},
          "execution_count": 147
        },
        {
          "output_type": "display_data",
          "data": {
            "text/plain": [
              "<Figure size 640x480 with 1 Axes>"
            ],
            "image/png": "[encoded data removed]"
          },
          "metadata": {}
        }
      ]
    },
    {
      "cell_type": "code",
      "source": [
        "nx.average_clustering(new_G)"
      ],
      "metadata": {
        "colab": {
          "base_uri": "https://localhost:8080/"
        },
        "id": "hKEvftFBLe8i",
        "outputId": "209cbb5f-3d8f-40fa-c13e-318a6927d47a"
      },
      "execution_count": 149,
      "outputs": [
        {
          "output_type": "execute_result",
          "data": {
            "text/plain": [
              "0.055277782713316126"
            ]
          },
          "metadata": {},
          "execution_count": 149
        }
      ]
    },
    {
      "cell_type": "code",
      "source": [
        "nx.degree_assortativity_coefficient(new_G)"
      ],
      "metadata": {
        "colab": {
          "base_uri": "https://localhost:8080/"
        },
        "id": "g-EEwqdMLwhW",
        "outputId": "6144018c-56be-4a14-ab9b-6402d53d7877"
      },
      "execution_count": 150,
      "outputs": [
        {
          "output_type": "execute_result",
          "data": {
            "text/plain": [
              "-0.17819133331009893"
            ]
          },
          "metadata": {},
          "execution_count": 150
        }
      ]
    },
    {
      "cell_type": "code",
      "source": [
        "ff_degree_centralities = nx.degree_centrality(ff_sub_graph)\n",
        "nx.set_node_attributes(ff_sub_graph, ff_degree_centralities, \"FF degree centralities\")"
      ],
      "metadata": {
        "id": "J1WvP-MzL8ca"
      },
      "execution_count": 151,
      "outputs": []
    },
    {
      "cell_type": "code",
      "source": [
        "nx.write_gexf(ff_sub_graph, \"FF_Graph.gexf\")"
      ],
      "metadata": {
        "id": "oceXucwaMOpb"
      },
      "execution_count": 152,
      "outputs": []
    },
    {
      "cell_type": "code",
      "source": [
        "cc= nx.clustering(ff_sub_graph)"
      ],
      "metadata": {
        "id": "GnAf2BDZMYXB"
      },
      "execution_count": 153,
      "outputs": []
    },
    {
      "cell_type": "code",
      "source": [
        "# Extract x and y coordinates for scatter plot\n",
        "x = list(cc.keys())\n",
        "y = list(cc.values())\n",
        "\n",
        "# Plot clustering coefficient values\n",
        "plt.scatter(x, y)\n",
        "plt.xlabel(\"Node\")\n",
        "plt.ylabel(\"Clustering coefficient\")\n",
        "plt.title(\"Clustering coefficient of nodes in the graph\")\n",
        "plt.show()"
      ],
      "metadata": {
        "colab": {
          "base_uri": "https://localhost:8080/",
          "height": 472
        },
        "id": "nI97EMyhMzHi",
        "outputId": "42bea7bd-e4c7-43a8-cc37-d6de55368d99"
      },
      "execution_count": 154,
      "outputs": [
        {
          "output_type": "display_data",
          "data": {
            "text/plain": [
              "<Figure size 640x480 with 1 Axes>"
            ],
            "image/png": "[encoded data removed]"
          },
          "metadata": {}
        }
      ]
    },
    {
      "cell_type": "code",
      "source": [
        "follower_cc= nx.clustering(sub_graph)"
      ],
      "metadata": {
        "id": "b7hTVrpgNMRN"
      },
      "execution_count": 155,
      "outputs": []
    },
    {
      "cell_type": "code",
      "source": [
        "# Extract x and y coordinates for scatter plot\n",
        "fx = list(follower_cc.keys())\n",
        "fy = list(follower_cc.values())\n",
        "\n",
        "# Plot clustering coefficient values\n",
        "plt.scatter(fx, fy)\n",
        "plt.xlabel(\"Node\")\n",
        "plt.ylabel(\"Clustering coefficient\")\n",
        "plt.title(\"Clustering coefficient of nodes in the graph\")\n",
        "plt.show()"
      ],
      "metadata": {
        "colab": {
          "base_uri": "https://localhost:8080/",
          "height": 472
        },
        "id": "YcJ60puSOjds",
        "outputId": "3daa9b20-01a6-4873-e9c1-9dff2b04d048"
      },
      "execution_count": 156,
      "outputs": [
        {
          "output_type": "display_data",
          "data": {
            "text/plain": [
              "<Figure size 640x480 with 1 Axes>"
            ],
            "image/png": "[encoded data removed]"
          },
          "metadata": {}
        }
      ]
    },
    {
      "cell_type": "code",
      "source": [
        "following_cc= nx.clustering(f_sub_graph)"
      ],
      "metadata": {
        "id": "RuZ7NFiROjgj"
      },
      "execution_count": 158,
      "outputs": []
    },
    {
      "cell_type": "code",
      "source": [
        "# Extract x and y coordinates for scatter plot\n",
        "ffx = list(following_cc.keys())\n",
        "ffy = list(following_cc.values())\n",
        "\n",
        "# Plot clustering coefficient values\n",
        "plt.scatter(ffx, ffy)\n",
        "plt.xlabel(\"Node\")\n",
        "plt.ylabel(\"Clustering coefficient\")\n",
        "plt.title(\"Clustering coefficient of nodes in the graph\")\n",
        "plt.show()"
      ],
      "metadata": {
        "colab": {
          "base_uri": "https://localhost:8080/",
          "height": 472
        },
        "id": "oAPzWCl4Ojj7",
        "outputId": "ae1489a5-45a1-449c-8eaf-31175bc62a8b"
      },
      "execution_count": 160,
      "outputs": [
        {
          "output_type": "display_data",
          "data": {
            "text/plain": [
              "<Figure size 640x480 with 1 Axes>"
            ],
            "image/png": "[encoded data removed]"
          },
          "metadata": {}
        }
      ]
    },
    {
      "cell_type": "code",
      "source": [],
      "metadata": {
        "id": "-Oj28_QROjmV"
      },
      "execution_count": null,
      "outputs": []
    },
    {
      "cell_type": "code",
      "source": [],
      "metadata": {
        "id": "I48NrJemOjpM"
      },
      "execution_count": null,
      "outputs": []
    }
  ]
}
